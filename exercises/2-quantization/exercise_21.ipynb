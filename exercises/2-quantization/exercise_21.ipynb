{
 "cells": [
  {
   "cell_type": "markdown",
   "id": "detected-pipeline",
   "metadata": {},
   "source": [
    "## Embedded ML Lab - Excercise 2 - Quantization\n"
   ]
  },
  {
   "cell_type": "markdown",
   "id": "dated-texture",
   "metadata": {},
   "source": [
    "The goal of this exercise is to take a given network, fuse its operators, and finally quantize it. For that we will do the following steps\n",
    "* 1) We define the quantized network with fused operators\n",
    "* 2) We determine how to fuse `conv-bn-relu` structures into a single quantized operation.\n",
    "* 3) We fuse the weights from the pre-trained state dict and quantize them\n",
    "* 4) We use a calibration batch from the pretrained network to determine all required scales\n",
    "* 5) Done :)\n",
    "\n",
    "For this lab the non-quantized version of the net we use is already implemented in `net.py`. It contains 6 conv, 6 batchnorm, 6 relu layers, and only has a very small linear part at the end. Take a look at it.\n",
    "\n",
    "<img src=\"src/cifarnet.png\" alt=\"drawing\" width=\"800\"/>"
   ]
  },
  {
   "cell_type": "code",
   "execution_count": 1,
   "id": "integrated-victor",
   "metadata": {},
   "outputs": [],
   "source": [
    "from net import CifarNet"
   ]
  },
  {
   "cell_type": "code",
   "execution_count": 2,
   "id": "dress-dollar",
   "metadata": {},
   "outputs": [
    {
     "name": "stdout",
     "output_type": "stream",
     "text": [
      "Files already downloaded and verified\n"
     ]
    }
   ],
   "source": [
    "import torch\n",
    "\n",
    "torch.backends.quantized.engine = 'qnnpack'\n",
    "\n",
    "import torchvision\n",
    "from torchvision.datasets import CIFAR10\n",
    "from torchvision.transforms import transforms\n",
    "tf = transforms.Compose([transforms.ToTensor(),transforms.Normalize((0.5, 0.5, 0.5), (0.5, 0.5, 0.5))])\n",
    "testloader = torch.utils.data.DataLoader(torchvision.datasets.CIFAR10('data/', train=False, download=True, transform=tf), batch_size=32)"
   ]
  },
  {
   "cell_type": "markdown",
   "id": "interracial-mailman",
   "metadata": {},
   "source": [
    "## Preliminaries\n",
    "\n",
    "To measure the effects of quantization we want to measure the time it takes to calculate a batch with the quantized and the unquatized network to run on the cpu. Additionally, we want to know what the accuracy penalty is.\n",
    "\n",
    "<span style=\"color:green\">Your Tasks:</span>\n",
    "* <span style=\"color:green\">Implement a function `net_time` that measures the time it takes (forward pass) to process a batch with size 32 of cifar100. You can use `t_now = time.time()` to get the current time.</span>\n",
    "    * <span style=\"color:green\">NOTE: To save time, you do not have to iterate over the whole dataset.</span>\n",
    "* <span style=\"color:green\">Implement a function `net_acc` that measures the accuracy of the net class, and takes the class type, a state_dict, and a dataloader as input.</span>\n",
    "    * <span style=\"color:green\">NOTE: To save time, you do not have to iterate over the whole dataset.</span>\n",
    "    * <span style=\"color:green\">NOTE: You can reuse code from the last lab exercises.</span>\n",
    "\n"
   ]
  },
  {
   "cell_type": "code",
   "execution_count": 20,
   "id": "included-gibson",
   "metadata": {},
   "outputs": [],
   "source": [
    "import time \n",
    "from tqdm import tqdm\n",
    "\n",
    "def net_time(model_class, testloader):\n",
    "    #----to-be-done-by-student-------------------\n",
    "    net = model_class()\n",
    "    net.eval()\n",
    "    t_start = time.time()\n",
    "    \n",
    "    for idx, (inputs, _) in enumerate(tqdm(testloader)):\n",
    "        outputs = net(inputs)\n",
    "        if idx == 20:\n",
    "            # iterate over 20 batches\n",
    "            break\n",
    "\n",
    "    t_end = time.time()\n",
    "    #----to-be-done-by-student-------------------\n",
    "    \n",
    "    return t_end - t_start\n",
    "\n",
    "def net_acc(model_class, state_dict, testloader):\n",
    "    #----to-be-done-by-student-------------------\n",
    "    num_correct = 0\n",
    "    num_samples = 0\n",
    "\n",
    "    net = model_class()\n",
    "    net.load_state_dict(state_dict)\n",
    "    net.eval()\n",
    "    \n",
    "    for idx, (inputs, targets) in enumerate(tqdm(testloader)):\n",
    "        outputs = net(inputs)\n",
    "        \n",
    "        num_correct += sum(outputs.argmax(dim=1) == targets)\n",
    "        num_samples += len(targets)\n",
    "        \n",
    "        #if idx == 20:\n",
    "            # iterate over 20 batches\n",
    "        #    break\n",
    "        \n",
    "    #----to-be-done-by-student-------------------\n",
    "    \n",
    "    return num_correct / num_samples\n",
    "    "
   ]
  },
  {
   "cell_type": "code",
   "execution_count": 4,
   "id": "cf1c0dea-d59b-48e0-8b0d-13e86c8076e3",
   "metadata": {},
   "outputs": [
    {
     "name": "stderr",
     "output_type": "stream",
     "text": [
      "  6%|██▋                                       | 20/313 [00:15<03:45,  1.30it/s]\n"
     ]
    },
    {
     "name": "stdout",
     "output_type": "stream",
     "text": [
      "Time unquantized: 15.444049835205078 s\n"
     ]
    },
    {
     "name": "stderr",
     "output_type": "stream",
     "text": [
      "  6%|██▋                                       | 20/313 [00:25<06:13,  1.28s/it]"
     ]
    },
    {
     "name": "stdout",
     "output_type": "stream",
     "text": [
      "Accuracy unquantized: 80.8036%\n"
     ]
    },
    {
     "name": "stderr",
     "output_type": "stream",
     "text": [
      "\n"
     ]
    }
   ],
   "source": [
    "print(f'Time unquantized: {net_time(CifarNet, testloader)} s')\n",
    "print(f\"Accuracy unquantized: {net_acc(CifarNet, torch.load('state_dict.pt'), testloader):.4%}\")"
   ]
  },
  {
   "cell_type": "markdown",
   "id": "contrary-priority",
   "metadata": {},
   "source": [
    "## Quantized network\n",
    "Now we define the quantized version of CifarNet with fused operators ( conv-bn-relu -> qfused_conv_relu). The resulting network has a structure as shown below:\n",
    "\n",
    "<img src=\"src/cifarnet_quantized.png\" alt=\"drawing\" width=\"600\"/>\n",
    "\n",
    "<span style=\"color:green\">Your Tasks:</span>\n",
    "* <span style=\"color:green\">Take the provided image as well as the CifarNet implementation as reference and implemenet the **forward pass** of QCifarNet.</span>\n",
    "    * <span style=\"color:green\">The required modules `Conv2drelu` and `QLinear` are already provided and can be used like any other module we have seen before. Note that these modules require their weights to be quantized, the bias is unquantized. The forward pass of these modules require an quantized input and return an quantized output. The modules are essentially only a wrapper with parameters around `torch.ops.quantized.conv2d_relu` and `torch.ops.quantized.linear`. Additionally these modules have an paramter called `scale`, that is used as ouput scale for the operation.</span>\n",
    "    * <span style=\"color:green\">You might require some other \"stateless\" operators such as `torch.quantize_per_tensor`, `torch.dequantize`,`torch.flatten`, and `torch.nn.quantized.functional.max_pool2d`.</span>\n",
    "* <span style=\"color:green\">Profile the resulting net and compare its forward pass time to the non-quantized implementation.</span>\n",
    "\n"
   ]
  },
  {
   "cell_type": "code",
   "execution_count": 5,
   "id": "sudden-fifteen",
   "metadata": {},
   "outputs": [],
   "source": [
    "import torch.nn as nn\n",
    "import torch.nn.functional as F\n",
    "\n",
    "def f_sd(sd, endswith_key_string):\n",
    "    keys = [i for i in sd.keys() if i.endswith(endswith_key_string)]\n",
    "    if not keys:\n",
    "        raise KeyError(endswith_key_string)\n",
    "    return sd[keys[0]]\n",
    "\n",
    "#Quantized Conv2dReLU Module\n",
    "class QConv2dReLU(nn.Module):\n",
    "    def __init__(self, in_channels, out_channels, kernel_size=3, stride=1, padding=1):\n",
    "        super(QConv2dReLU, self).__init__()\n",
    "\n",
    "        self.weight = torch.nn.Parameter(torch.quantize_per_tensor(torch.Tensor(\n",
    "                out_channels, in_channels // 1, *(kernel_size, kernel_size)), scale=0.1, zero_point = 0, dtype=torch.qint8), requires_grad=False)\n",
    "        self.bias = torch.nn.Parameter(torch.Tensor(out_channels), requires_grad=False)\n",
    "\n",
    "        self.register_buffer('scale', torch.tensor(0.1))\n",
    "\n",
    "        self.stride = stride\n",
    "        self.padding = padding\n",
    "        \n",
    "        self._prepack = self._prepare_prepack(self.weight, self.bias, stride, padding)\n",
    "        self._register_load_state_dict_pre_hook(self._sd_hook)\n",
    "\n",
    "    def _prepare_prepack(self, qweight, bias, stride, padding):\n",
    "        assert qweight.is_quantized, \"QConv2dReLU requires a quantized weight.\"\n",
    "        assert not bias.is_quantized, \"QConv2dReLU requires a float bias.\"\n",
    "        return torch.ops.quantized.conv2d_prepack(qweight, bias, stride=[stride, stride], dilation=[1,1], padding=[padding, padding], groups=1)\n",
    "\n",
    "    \n",
    "    def _sd_hook(self, state_dict, prefix, *_):\n",
    "        self._prepack = self._prepare_prepack(f_sd(state_dict, prefix + 'weight'), f_sd(state_dict, prefix + 'bias'),\n",
    "                                             self.stride, self.padding)\n",
    "    \n",
    "    def forward(self, x):\n",
    "        return torch.ops.quantized.conv2d_relu(x, self._prepack, self.scale, 64)\n",
    "\n",
    "    \n",
    "#Quantized Linear Module\n",
    "class QLinear(nn.Module):\n",
    "    def __init__(self, in_features, out_features):\n",
    "        super(QLinear, self).__init__()\n",
    "\n",
    "        self.weight = torch.nn.Parameter(torch.quantize_per_tensor(torch.Tensor(out_features, in_features), scale=0.1, zero_point = 0, dtype=torch.qint8), requires_grad=False)\n",
    "        self.bias = torch.nn.Parameter(torch.Tensor(out_features))\n",
    "\n",
    "        self.register_buffer('scale', torch.tensor(0.1))\n",
    "        \n",
    "        self._prepack = self._prepare_prepack(self.weight, self.bias)\n",
    "        \n",
    "        self._register_load_state_dict_pre_hook(self._sd_hook)\n",
    "        \n",
    "    def _prepare_prepack(self, qweight, bias):\n",
    "        assert qweight.is_quantized, \"QConv2dReLU requires a quantized weight.\"\n",
    "        assert not bias.is_quantized, \"QConv2dReLU requires a float bias.\"\n",
    "        return torch.ops.quantized.linear_prepack(qweight, bias)\n",
    "    \n",
    "    def _sd_hook(self, state_dict, prefix, *_):\n",
    "        self._prepack = self._prepare_prepack(f_sd(state_dict, prefix + 'weight'), f_sd(state_dict, prefix + 'bias'))\n",
    "        return\n",
    "\n",
    "    def forward(self, x):\n",
    "        return torch.ops.quantized.linear(x, self._prepack, self.scale, 64)"
   ]
  },
  {
   "cell_type": "code",
   "execution_count": 6,
   "id": "possible-forty",
   "metadata": {},
   "outputs": [
    {
     "name": "stdout",
     "output_type": "stream",
     "text": [
      "state_dict of QConv2dReLU\n",
      "weight torch.qint8\n",
      "bias torch.float32\n",
      "scale torch.float32\n",
      "\n",
      "state_dict of QLinear\n",
      "weight torch.qint8\n",
      "bias torch.float32\n",
      "scale torch.float32\n"
     ]
    }
   ],
   "source": [
    "print('state_dict of QConv2dReLU')\n",
    "qconv2drelu = QConv2dReLU(3, 16)\n",
    "for key in qconv2drelu.state_dict(): print(key, qconv2drelu.state_dict()[key].dtype)\n",
    "print('\\nstate_dict of QLinear')\n",
    "qlinear = QLinear(10, 10)\n",
    "for key in qlinear.state_dict(): print(key, qlinear.state_dict()[key].dtype)"
   ]
  },
  {
   "cell_type": "code",
   "execution_count": 7,
   "id": "incorrect-republic",
   "metadata": {},
   "outputs": [],
   "source": [
    "class QCifarNet(nn.Module):\n",
    "    def __init__(self):\n",
    "        super(QCifarNet, self).__init__()\n",
    "        \n",
    "        self.register_buffer(\"scale\", torch.tensor(0.1))\n",
    "\n",
    "        self.conv1 = QConv2dReLU(3, 16, 3, 1, padding=1)\n",
    "        self.conv2 = QConv2dReLU(16,16, 3, 1, padding=1)\n",
    "\n",
    "        self.conv3 = QConv2dReLU(16, 32, 3, 1, padding=1)\n",
    "        self.conv4 = QConv2dReLU(32, 32, 3, 1, padding=1)\n",
    "\n",
    "        self.conv5 = QConv2dReLU(32, 64, 3, 1, padding=1)\n",
    "        self.conv6 = QConv2dReLU(64, 64, 3, 1, padding=1)\n",
    "\n",
    "        self.fc = QLinear(1024, 10)\n",
    "        \n",
    "    def forward(self, x):\n",
    "        #to-be-done-by-student\n",
    "        x_q = torch.quantize_per_tensor(x, scale=0.1, zero_point=64, dtype=torch.quint8)\n",
    "\n",
    "        x_q = self.conv1(x_q)\n",
    "        x_q = self.conv2(x_q)\n",
    "        x_q = torch.nn.quantized.functional.max_pool2d(x_q, 2)\n",
    "\n",
    "        x_q = self.conv3(x_q)\n",
    "        x_q = self.conv4(x_q)\n",
    "        x_q = torch.nn.quantized.functional.max_pool2d(x_q, 2)\n",
    "\n",
    "        x_q = self.conv5(x_q)\n",
    "        x_q = self.conv6(x_q)\n",
    "        x_q = torch.nn.quantized.functional.max_pool2d(x_q, 2)\n",
    "\n",
    "        x_q = x_q.flatten(start_dim=1)\n",
    "        x_q = self.fc(x_q)\n",
    "\n",
    "        x_qd = torch.dequantize(x_q)\n",
    "        #to-be-done-by-student\n",
    "        \n",
    "        return x_qd"
   ]
  },
  {
   "cell_type": "code",
   "execution_count": 8,
   "id": "unexpected-brass",
   "metadata": {},
   "outputs": [
    {
     "name": "stderr",
     "output_type": "stream",
     "text": [
      "  6%|██▋                                       | 20/313 [00:04<01:00,  4.85it/s]"
     ]
    },
    {
     "name": "stdout",
     "output_type": "stream",
     "text": [
      "Time quantized: 4.147305488586426 s\n"
     ]
    },
    {
     "name": "stderr",
     "output_type": "stream",
     "text": [
      "\n"
     ]
    }
   ],
   "source": [
    "#We evaulate how fast the quantized verions of CifarNet is\n",
    "print(f\"Time quantized: {net_time(QCifarNet, testloader)} s\")"
   ]
  },
  {
   "cell_type": "markdown",
   "id": "speaking-occasion",
   "metadata": {},
   "source": [
    "## Calibration and Operator Fusion\n",
    "\n",
    "First we focus on the operator fusion:\n",
    "* We need calculate the new weights (fused conv and batchnorm weights). After we have weights, we can quantize them using the `tensor_scale` equation from earlier.\n",
    "    * A Conv2d convolution can be expressed as $y_i = \\boldsymbol{ W_{i}} \\star x + b_{_i}$, where $y_i$ is the channel wise output of the convolution and $\\boldsymbol{ W_{i}}$ is a $\\text{channel_in} \\times \\text{kernel_size} \\times \\text{kernel_size}$ kernel.\n",
    "    * The batch_norm operation looks like this: $\\hat x_i = \\frac{x_i - \\mu_i}{\\sqrt{\\sigma_i^2 + \\epsilon}}$, where for each output channel of a convolution $i \\in C$, we scale and shift the input to be zero mean and unit variance, where $\\mu_i$ is the channel wise input mean, and $\\sigma^2_i$ is the channels wise variance. Parameter $\\epsilon$ is added for numerical stability.\n",
    "    * After this shift and scale operation trainable weight and bias terms are added\n",
    " $y_i = \\gamma_i \\hat x_i + \\beta_i$, where $\\gamma_i$ is a channel wise scale factor and $\\beta_i$ is a channel wise bias.\n",
    "    * We can express the batchnorm operation as $y_i = (\\frac{\\gamma_i} {\\sqrt{\\sigma_i^2 + \\epsilon}})x_i +  (\\frac{ - \\mu_i \\gamma_i}{\\sqrt{\\sigma_i^2 + \\epsilon}} + \\beta_i)$ and fuse it with the convolution kernel by using $y_i = (\\frac{\\gamma_i} {\\sqrt{\\sigma_i^2 + \\epsilon}} \\boldsymbol{ W_i}) \\star x_i +  (\\frac{ \\gamma_i ( b_i - \\mu_i)}{\\sqrt{\\sigma_i^2 + \\epsilon}} + \\beta_i)$, s.t. the fused kernel (output channel wise) can be expressed as $\\tilde{\\boldsymbol{ W_{i}}} = (\\frac{\\gamma_i} {\\sqrt{\\sigma_i^2 + \\epsilon}}) \\boldsymbol{ W_i}$ and the fused bias (output channel wise) as $\\tilde{b_i} = (\\frac{ \\gamma_i ( b_i - \\mu_i)}{\\sqrt{\\sigma_i^2 + \\epsilon}} + \\beta_i)$ .\n",
    " \n",
    "\n",
    "<span style=\"color:green\">Your Tasks:</span>\n",
    "* <span style=\"color:green\">Implement a function `fuse_conv_bn_weights` that fuses the weights and bias of the convolution with the weights, bias, running_mean and running_var of the batchnorm_layer</span>\n",
    "    * <span style=\"color:green\"> determine $\\tilde{b}$ and $\\tilde{\\boldsymbol{ W}}$</span>\n",
    "    * <span style=\"color:green\"> You can either do this channel by channel or compleatly vectorized</span>"
   ]
  },
  {
   "cell_type": "code",
   "execution_count": 9,
   "id": "linear-connecticut",
   "metadata": {},
   "outputs": [],
   "source": [
    "def tensor_scale(input):\n",
    "    return float(2*torch.max(torch.abs(torch.max(input)), torch.abs(torch.min(input))))/127.0\n",
    "\n",
    "def fuse_conv_bn_weights(conv_w, conv_b, bn_rm, bn_rv, bn_w, bn_b):\n",
    "    \"\"\"\n",
    "    Input:\n",
    "        conv_w: shape=(output_channels, in_channels, kernel_size, kernel_size)\n",
    "        conv_b: shape=(output_channels)\n",
    "        bn_rm:  shape=(output_channels)\n",
    "        bn_rv:  shape=(output_channels)\n",
    "        bn_w:   shape=(output_channels)\n",
    "        bn_b:   shape=(output_channels)\n",
    "    \n",
    "    Output:\n",
    "        fused_conv_w = shape=conv_w\n",
    "        fused_conv_b = shape=conv_b\n",
    "    \"\"\"\n",
    "    bn_eps = 1e-05\n",
    "\n",
    "    fused_conv = torch.zeros(conv_w.shape)\n",
    "    fused_bias = torch.zeros(conv_b.shape)\n",
    "    \n",
    "    #to-be-done-by-student\n",
    "    fused_conv_w = conv_w * (bn_w * torch.rsqrt(bn_rv+bn_eps)).reshape([-1] + [1] * (len(conv_w.shape) -1))\n",
    "    fused_conv_b = (conv_b-bn_rm) * torch.rsqrt(bn_rv+bn_eps) * bn_w + bn_b\n",
    "    #to-be-done-by-student\n",
    "\n",
    "    return fused_conv_w, fused_conv_b"
   ]
  },
  {
   "cell_type": "markdown",
   "id": "frozen-clark",
   "metadata": {},
   "source": [
    "Now that we know how to fuse conv and batchnorm layers, we can setup the quantized state dict. We have to take the unfused unquantized parameters of the unquantized pretrained network (`state_dict.pt`) and fuse and quantize them.\n",
    "\n",
    "<span style=\"color:green\">Your Tasks:</span>  \n",
    "* <span style=\"color:green\">Now for each Conv weights and biases, load the pre-trained float weights and biases from the saved state_dict, fuse the corresponding weights and biases with the batch norm weights, biases, mean, and variance, and store the fused quantized weight into the quantized state_dict `qsd`</span>\n",
    "* <span style=\"color:green\">Some Tips:</span>\n",
    "    * <span style=\"color:green\">Print out the keys from the unquantized and quantized state_dict and see what is inside.</span>\n",
    "    * <span style=\"color:green\">You can ignore the scales for now, we will take care of them later.</span>\n",
    "    * <span style=\"color:green\">Reuse the function `tensor_scale`</span>\n",
    "    * <span style=\"color:green\">Weights require to be of type torch.qint8, therefor have a zero_point of 0.</span>"
   ]
  },
  {
   "cell_type": "code",
   "execution_count": 15,
   "id": "established-behalf",
   "metadata": {},
   "outputs": [
    {
     "name": "stdout",
     "output_type": "stream",
     "text": [
      "scale torch.float32\n",
      "conv1.weight torch.qint8\n",
      "conv1.bias torch.float32\n",
      "conv1.scale torch.float32\n",
      "conv2.weight torch.qint8\n",
      "conv2.bias torch.float32\n",
      "conv2.scale torch.float32\n",
      "conv3.weight torch.qint8\n",
      "conv3.bias torch.float32\n",
      "conv3.scale torch.float32\n",
      "conv4.weight torch.qint8\n",
      "conv4.bias torch.float32\n",
      "conv4.scale torch.float32\n",
      "conv5.weight torch.qint8\n",
      "conv5.bias torch.float32\n",
      "conv5.scale torch.float32\n",
      "conv6.weight torch.qint8\n",
      "conv6.bias torch.float32\n",
      "conv6.scale torch.float32\n",
      "fc.weight torch.qint8\n",
      "fc.bias torch.float32\n",
      "fc.scale torch.float32\n",
      "\n",
      "\n",
      "Unquantized CifarNet state dict before Fusion:\n",
      "conv1.weight torch.float32\n",
      "conv1.bias torch.float32\n",
      "conv2.weight torch.float32\n",
      "conv2.bias torch.float32\n",
      "conv3.weight torch.float32\n",
      "conv3.bias torch.float32\n",
      "conv4.weight torch.float32\n",
      "conv4.bias torch.float32\n",
      "conv5.weight torch.float32\n",
      "conv5.bias torch.float32\n",
      "conv6.weight torch.float32\n",
      "conv6.bias torch.float32\n",
      "bn1.weight torch.float32\n",
      "bn1.bias torch.float32\n",
      "bn1.running_mean torch.float32\n",
      "bn1.running_var torch.float32\n",
      "bn1.num_batches_tracked torch.int64\n",
      "bn2.weight torch.float32\n",
      "bn2.bias torch.float32\n",
      "bn2.running_mean torch.float32\n",
      "bn2.running_var torch.float32\n",
      "bn2.num_batches_tracked torch.int64\n",
      "bn3.weight torch.float32\n",
      "bn3.bias torch.float32\n",
      "bn3.running_mean torch.float32\n",
      "bn3.running_var torch.float32\n",
      "bn3.num_batches_tracked torch.int64\n",
      "bn4.weight torch.float32\n",
      "bn4.bias torch.float32\n",
      "bn4.running_mean torch.float32\n",
      "bn4.running_var torch.float32\n",
      "bn4.num_batches_tracked torch.int64\n",
      "bn5.weight torch.float32\n",
      "bn5.bias torch.float32\n",
      "bn5.running_mean torch.float32\n",
      "bn5.running_var torch.float32\n",
      "bn5.num_batches_tracked torch.int64\n",
      "bn6.weight torch.float32\n",
      "bn6.bias torch.float32\n",
      "bn6.running_mean torch.float32\n",
      "bn6.running_var torch.float32\n",
      "bn6.num_batches_tracked torch.int64\n",
      "fc.weight torch.float32\n",
      "fc.bias torch.float32\n",
      "\n",
      "\n",
      "Quantized CifarNet state dict after Fusion:\n",
      "scale torch.float32\n",
      "conv1.weight torch.qint8\n",
      "conv1.bias torch.float32\n",
      "conv1.scale torch.float32\n",
      "conv2.weight torch.qint8\n",
      "conv2.bias torch.float32\n",
      "conv2.scale torch.float32\n",
      "conv3.weight torch.qint8\n",
      "conv3.bias torch.float32\n",
      "conv3.scale torch.float32\n",
      "conv4.weight torch.qint8\n",
      "conv4.bias torch.float32\n",
      "conv4.scale torch.float32\n",
      "conv5.weight torch.qint8\n",
      "conv5.bias torch.float32\n",
      "conv5.scale torch.float32\n",
      "conv6.weight torch.qint8\n",
      "conv6.bias torch.float32\n",
      "conv6.scale torch.float32\n",
      "fc.weight torch.qint8\n",
      "fc.bias torch.float32\n",
      "fc.scale torch.float32\n"
     ]
    }
   ],
   "source": [
    "#prints keys from quantized net\n",
    "qnet = QCifarNet()\n",
    "qsd = qnet.state_dict()\n",
    "for key in qsd: print(key, qsd[key].dtype)\n",
    "\n",
    "#-to-be-done- by student\n",
    "print(\"\\n\\nUnquantized CifarNet state dict before Fusion:\")\n",
    "#-to-be-done- by student\n",
    "sd = torch.load('state_dict.pt')\n",
    "for key in sd: print(key, sd[key].dtype)\n",
    "    \n",
    "#-to-be-done- by student\n",
    "for idx in range(6):\n",
    "    conv_w = sd['conv{}.weight'.format(idx+1)]\n",
    "    conv_b = sd['conv{}.bias'.format(idx+1)]\n",
    "    bn_rm  = sd['bn{}.running_mean'.format(idx+1)]\n",
    "    bn_rv  = sd['bn{}.running_var'.format(idx+1)]\n",
    "    bn_w   = sd['bn{}.weight'.format(idx+1)]\n",
    "    bn_b   = sd['bn{}.bias'.format(idx+1)]\n",
    "        \n",
    "    fused_conv_w, fused_conv_b = fuse_conv_bn_weights(conv_w, conv_b, bn_rm, bn_rv, bn_w, bn_b)\n",
    "    conv_scale = tensor_scale(fused_conv_w)\n",
    "\n",
    "    qsd['conv{}.weight'.format(idx+1)] = torch.quantize_per_tensor(fused_conv_w, scale=conv_scale, zero_point=0, dtype=torch.qint8)\n",
    "    qsd['conv{}.bias'.format(idx+1)]  = fused_conv_b\n",
    "\n",
    "# evtl. noch FC layer?\n",
    "fc_scale = tensor_scale(sd['fc.weight'])\n",
    "qsd['fc.weight'] = torch.quantize_per_tensor(sd['fc.weight'], scale=fc_scale, zero_point=0, dtype=torch.qint8)\n",
    "qsd['fc.bias']   = sd['fc.bias']\n",
    "\n",
    "print(\"\\n\\nQuantized CifarNet state dict after Fusion:\")\n",
    "for key in qsd: print(key, qsd[key].dtype)\n",
    "#-to-be-done- by student "
   ]
  },
  {
   "cell_type": "markdown",
   "id": "later-triangle",
   "metadata": {},
   "source": [
    "Now that we have the fused parameters, we still require the right scales for the activations. For that we \"observe\" the activation scales in the unquantized network using a calibration \"batch\", reuse the function `tensor_scale`\n",
    "\n",
    "<span style=\"color:green\">Your Tasks:</span>  \n",
    "* <span style=\"color:green\">Directly calculate the required scales in the forward pass, e.g. the scale for the inital quantization, and the output scale for each fused operation, and final output scale (the output of the FC layer).</span>\n",
    "* <span style=\"color:green\">There is already an inherited version of CifarNet provided, where you only have to redefine the forward pass and add the calculated scales to the `calibration_dict`. We will later use them to set the remaining scales in our quantized state_dict.</span>\n",
    "* <span style=\"color:green\">It is sufficient to estimate the scales in only one forward pass (we can make the batchsize large).</span>"
   ]
  },
  {
   "cell_type": "code",
   "execution_count": 16,
   "id": "dutch-chapel",
   "metadata": {},
   "outputs": [],
   "source": [
    "class CifarNetCalibration(CifarNet):\n",
    "    def __init__(self):\n",
    "        super(CifarNetCalibration, self).__init__()\n",
    "        \n",
    "        #we add a new dict for the corresponding scales\n",
    "        self.calibration_dict = {}\n",
    "        \n",
    "    def forward(self, x):\n",
    "        #to-be-done-by-student\n",
    "        scale = tensor_scale(x)\n",
    "        self.calibration_dict['scale'] = scale\n",
    "        \n",
    "        x = self.conv1(x)\n",
    "        x = self.bn1(x)\n",
    "        x = F.relu(x)\n",
    "\n",
    "        scale = tensor_scale(x)\n",
    "        self.calibration_dict['conv1.scale'] = scale\n",
    "        \n",
    "        x = self.conv2(x)\n",
    "        x = self.bn2(x)\n",
    "        x = F.relu(x)\n",
    "\n",
    "        scale = tensor_scale(x)\n",
    "        self.calibration_dict['conv2.scale'] = scale\n",
    "        \n",
    "        x = F.max_pool2d(x, 2, stride=2)\n",
    "\n",
    "        x = self.conv3(x)\n",
    "        x = self.bn3(x)\n",
    "        x = F.relu(x)\n",
    "\n",
    "        scale = tensor_scale(x)\n",
    "        self.calibration_dict['conv3.scale'] = scale\n",
    "        \n",
    "        x = self.conv4(x)\n",
    "        x = self.bn4(x)\n",
    "        x = F.relu(x)\n",
    "\n",
    "        scale = tensor_scale(x)\n",
    "        self.calibration_dict['conv4.scale'] = scale\n",
    "        \n",
    "        x = F.max_pool2d(x, 2, stride=2)\n",
    "\n",
    "        x = self.conv5(x)\n",
    "        x = self.bn5(x)\n",
    "        x = F.relu(x)\n",
    "\n",
    "        scale = tensor_scale(x)\n",
    "        self.calibration_dict['conv5.scale'] = scale\n",
    "        \n",
    "        x = self.conv6(x)\n",
    "        x = self.bn6(x)\n",
    "        x = F.relu(x)\n",
    "\n",
    "        scale = tensor_scale(x)\n",
    "        self.calibration_dict['conv6.scale'] = scale\n",
    "        \n",
    "        x = F.max_pool2d(x, 2, stride=2)\n",
    "\n",
    "        x = torch.flatten(x, 1)\n",
    "        x = self.fc(x)\n",
    "\n",
    "        scale = tensor_scale(x)\n",
    "        self.calibration_dict['fc.scale'] = scale\n",
    "        #--to---be---done---by---student\n",
    "        return x"
   ]
  },
  {
   "cell_type": "code",
   "execution_count": 17,
   "id": "fresh-myanmar",
   "metadata": {},
   "outputs": [],
   "source": [
    "#We run the calibration using a batch from the testdata\n",
    "net_calib = CifarNetCalibration()\n",
    "net_calib.load_state_dict(torch.load('state_dict.pt'))\n",
    "_, (data, _) = next(enumerate(testloader))\n",
    "net_calib(data)\n",
    "calibration_dict = net_calib.calibration_dict"
   ]
  },
  {
   "cell_type": "markdown",
   "id": "impressive-sentence",
   "metadata": {},
   "source": [
    "<span style=\"color:green\">Your Task:</span>  \n",
    "* <span style=\"color:green\">Now, transfer the scales into the state_dict `qsd`.</span>"
   ]
  },
  {
   "cell_type": "code",
   "execution_count": 18,
   "id": "usual-montana",
   "metadata": {},
   "outputs": [
    {
     "name": "stdout",
     "output_type": "stream",
     "text": [
      "Quantized CifarNet state dict without scales:\n",
      "scale torch.float32\n",
      "conv1.weight torch.qint8\n",
      "conv1.bias torch.float32\n",
      "conv1.scale torch.float32\n",
      "conv2.weight torch.qint8\n",
      "conv2.bias torch.float32\n",
      "conv2.scale torch.float32\n",
      "conv3.weight torch.qint8\n",
      "conv3.bias torch.float32\n",
      "conv3.scale torch.float32\n",
      "conv4.weight torch.qint8\n",
      "conv4.bias torch.float32\n",
      "conv4.scale torch.float32\n",
      "conv5.weight torch.qint8\n",
      "conv5.bias torch.float32\n",
      "conv5.scale torch.float32\n",
      "conv6.weight torch.qint8\n",
      "conv6.bias torch.float32\n",
      "conv6.scale torch.float32\n",
      "fc.weight torch.qint8\n",
      "fc.bias torch.float32\n",
      "fc.scale torch.float32\n",
      "\n",
      "\n",
      "Quantized CifarNet state dict with scales:\n",
      "scale torch.float32\n",
      "conv1.weight torch.qint8\n",
      "conv1.bias torch.float32\n",
      "conv1.scale torch.float32\n",
      "conv2.weight torch.qint8\n",
      "conv2.bias torch.float32\n",
      "conv2.scale torch.float32\n",
      "conv3.weight torch.qint8\n",
      "conv3.bias torch.float32\n",
      "conv3.scale torch.float32\n",
      "conv4.weight torch.qint8\n",
      "conv4.bias torch.float32\n",
      "conv4.scale torch.float32\n",
      "conv5.weight torch.qint8\n",
      "conv5.bias torch.float32\n",
      "conv5.scale torch.float32\n",
      "conv6.weight torch.qint8\n",
      "conv6.bias torch.float32\n",
      "conv6.scale torch.float32\n",
      "fc.weight torch.qint8\n",
      "fc.bias torch.float32\n",
      "fc.scale torch.float32\n"
     ]
    }
   ],
   "source": [
    "#-to-be-done- by student \n",
    "print(\"Quantized CifarNet state dict without scales:\")\n",
    "for key in qsd: print(key, qsd[key].dtype)\n",
    "\n",
    "for idx in range(6):\n",
    "    qsd['conv{}.scale'.format(idx+1)] = torch.tensor(calibration_dict['conv{}.scale'.format(idx+1)])\n",
    "\n",
    "qsd['scale'] = torch.tensor(calibration_dict['scale'])\n",
    "qsd['fc.scale'] = torch.tensor(calibration_dict['fc.scale'])\n",
    "print(\"\\n\\nQuantized CifarNet state dict with scales:\")\n",
    "for key in qsd: print(key, qsd[key].dtype)\n",
    "#-to-be-done- by student "
   ]
  },
  {
   "cell_type": "code",
   "execution_count": 19,
   "id": "meaningful-stack",
   "metadata": {},
   "outputs": [
    {
     "name": "stderr",
     "output_type": "stream",
     "text": [
      "  6%|██▋                                       | 20/313 [00:02<00:32,  9.06it/s]\n"
     ]
    },
    {
     "name": "stdout",
     "output_type": "stream",
     "text": [
      "Time quantized: 2.217595100402832 s\n"
     ]
    },
    {
     "name": "stderr",
     "output_type": "stream",
     "text": [
      "  6%|██▋                                       | 20/313 [00:02<00:38,  7.64it/s]"
     ]
    },
    {
     "name": "stdout",
     "output_type": "stream",
     "text": [
      "Accuracy quantized: 78.5714%\n"
     ]
    },
    {
     "name": "stderr",
     "output_type": "stream",
     "text": [
      "\n"
     ]
    }
   ],
   "source": [
    "#We run the accuracy test again to see how much accuracy we loose through quantization\n",
    "print(f'Time quantized: {net_time(QCifarNet, testloader)} s')\n",
    "print(f\"Accuracy quantized: {net_acc(QCifarNet, qsd, testloader):.4%}\")"
   ]
  },
  {
   "cell_type": "code",
   "execution_count": null,
   "id": "wireless-greece",
   "metadata": {},
   "outputs": [],
   "source": []
  }
 ],
 "metadata": {
  "kernelspec": {
   "display_name": "Python 3 (ipykernel)",
   "language": "python",
   "name": "python3"
  },
  "language_info": {
   "codemirror_mode": {
    "name": "ipython",
    "version": 3
   },
   "file_extension": ".py",
   "mimetype": "text/x-python",
   "name": "python",
   "nbconvert_exporter": "python",
   "pygments_lexer": "ipython3",
   "version": "3.8.10"
  }
 },
 "nbformat": 4,
 "nbformat_minor": 5
}
