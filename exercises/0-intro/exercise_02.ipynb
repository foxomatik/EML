{
 "cells": [
  {
   "cell_type": "markdown",
   "id": "5541fea7-a455-4282-a096-b48a594ec530",
   "metadata": {},
   "source": [
    "# Embedded ML Lab - Excercise 0 - Intro Training\n",
    "\n",
    "Now that we have covered Neural Network Inference, we come to the training of neural networks. We reuse the LeNet from the previous exercise.\n",
    "\n",
    "<span style=\"color:green\">Your Task:</span>\n",
    "* <span style=\"color:green\">Copy your implementation of the LeNet from the last excercise into Cell1</span>\n",
    "\n",
    "In Cell 2 the dataset is already prepared as a dataloader (using batch_size 32). Additionally, the images are already zero-centered and normalized. We have two separate data_loaders: `test_loader` for testing the accuracy of the model, and `train_data` for training the model. These two should not be mixed for their tasks. You can iterate over the batches of a dataloader by using `for idx, (input, targets) in enumerate(dataloader):`\n",
    "\n",
    "Before we start with training, we need to write two functions. The first is `correct_predictions(outputs, targets)`, where you can reuse code from exercise_00. This function takes the outputs and targets as input and returns an int with the number of correct predictions in the batch. \n",
    "The second function `test_net(net, device)`. This function iterates over the testloader, applies the network's forward pass, and returns the overall accuracy of the model (all correct predictions of the testset overall testset predictions)\n",
    "\n",
    "<span style=\"color:green\">Your Tasks:</span>\n",
    "* <span style=\"color:green\">Implement the `correct_predictions` function (Cell 3)</span>\n",
    "* <span style=\"color:green\">Implement the `test_net` function (Cell 4)</span>\n",
    "    * <span style=\"color:green\">First set the network in evaluation mode with `.eval()` </span>\n",
    "    * <span style=\"color:green\">Iterate over the batches in the dataloader</span>\n",
    "    * <span style=\"color:green\">For each batch calculate the correct detected images</span>\n",
    "    * NOTE: you can also only iterate over a fraction of batches to save some time\n",
    "    * <span style=\"color:green\">Return the overall Accuracy</span>"
   ]
  },
  {
   "cell_type": "code",
   "execution_count": 1,
   "id": "35f3654e-6a85-42db-84f3-cb7dca8f663f",
   "metadata": {},
   "outputs": [],
   "source": [
    "import torch\n",
    "import torch.nn as nn\n",
    "import torch.nn.functional as F\n",
    "\n",
    "#---to-be-done-by-student---\n",
    "class LeNet(nn.Module):\n",
    "    def __init__(self):\n",
    "        super(LeNet, self).__init__()\n",
    "        \n",
    "        #---to-be-done-by-student---\n",
    "        self.conv1 = nn.Conv2d(1, 6, 3)  # out: 26x26x6 (maxpool)-> 13x13x6\n",
    "        self.conv2 = nn.Conv2d(6, 16, 3) # out: 11x11x16(maxpool) -> 5x5x16\n",
    "        self.fc1 = nn.Linear(400 , 120)  # in:  400x1 (prev: flatten)\n",
    "        self.fc2 = nn.Linear(120, 84)\n",
    "        self.fc3 = nn.Linear(84, 10)\n",
    "\n",
    "        self.relu = F.relu\n",
    "        self.maxpool = F.max_pool2d\n",
    "        \n",
    "        #---end---------------------\n",
    "        return\n",
    "    \n",
    "    def forward(self,x):\n",
    "        #---to-be-done-by-student---\n",
    "        x = self.conv1(x)\n",
    "        x = self.maxpool(self.relu(x), 2)\n",
    "\n",
    "        x = self.conv2(x)\n",
    "        x = self.maxpool(self.relu(x), 2)\n",
    "\n",
    "        x = x.flatten(start_dim=1)\n",
    "        x = self.relu(self.fc1(x))\n",
    "        x = self.relu(self.fc2(x))\n",
    "        x = self.fc3(x)        \n",
    "        #---end---------------------\n",
    "        return x\n",
    "#---end---------------------\n",
    "net = LeNet()"
   ]
  },
  {
   "cell_type": "code",
   "execution_count": 2,
   "id": "05e97a9a-6357-4f9e-9c00-34034ebe6515",
   "metadata": {},
   "outputs": [],
   "source": [
    "import torchvision\n",
    "import time\n",
    "\n",
    "test_loader = torch.utils.data.DataLoader(torchvision.datasets.MNIST('.', train=False, download=True, transform=torchvision.transforms.Compose([\n",
    "                                                torchvision.transforms.ToTensor(), torchvision.transforms.Normalize(\n",
    "                                                (0.1307, ), (0.3081)) ])), batch_size=64, shuffle=False, drop_last=True)\n",
    "\n",
    "train_loader = torch.utils.data.DataLoader(torchvision.datasets.MNIST('.', train=True, download=True, transform=torchvision.transforms.Compose([\n",
    "                                                torchvision.transforms.ToTensor(), torchvision.transforms.Normalize(\n",
    "                                                (0.1307, ), (0.3081)) ])), batch_size=64, shuffle=False, drop_last=True)"
   ]
  },
  {
   "cell_type": "code",
   "execution_count": 3,
   "id": "novel-singles",
   "metadata": {},
   "outputs": [],
   "source": [
    "def correct_predictions(outputs, targets):\n",
    "    correct_predictions = 0\n",
    "    #---to-be-done-by-student---\n",
    "    for idx, output in enumerate(outputs):\n",
    "        if torch.argmax(output) == targets[idx]:\n",
    "            correct_predictions += 1\n",
    "    #---end---------------------\n",
    "    return correct_predictions"
   ]
  },
  {
   "cell_type": "code",
   "execution_count": 4,
   "id": "rental-resident",
   "metadata": {},
   "outputs": [],
   "source": [
    "def test_net(net, device):\n",
    "    #---to-be-done-by-student---\n",
    "    correct_detected = 0\n",
    "    overall = len(test_loader)*64\n",
    "    net.eval()\n",
    "\n",
    "    for batch_idx, (inputs, targets) in enumerate(test_loader):\n",
    "        #---to-be-done-by-student---\n",
    "        inputs = inputs.to(device)\n",
    "        targets = targets.to(device)\n",
    "        outputs = net(inputs)\n",
    "        outputs_arg = outputs.argmax(dim=1)\n",
    "        \n",
    "        #print(\"Outputs:\\t{}\".format(outputs.shape))\n",
    "        #print(\"Outputs_ARG:\\t{}\".format(outputs_arg.shape))\n",
    "        #print(\"Targets:\\t{}\".format(targets.shape))\n",
    "\n",
    "        for idx in range(len(targets)):\n",
    "            if outputs_arg[idx] == targets[idx]:\n",
    "                correct_detected += 1\n",
    "        #---end---------------------  \n",
    "        \n",
    "    #---end---------------------\n",
    "    return float(correct_detected/overall)"
   ]
  },
  {
   "cell_type": "markdown",
   "id": "industrial-scout",
   "metadata": {},
   "source": [
    "Now that we have these two helper functions we come to training the network. Some parts are already given. You can do the training either on the cpu or on the gpu (gpu should be faster).\n",
    "\n",
    "First we define an optimizer `optimizer = torch.optim.SGD(net.parameters(), lr=0.01)` and hand in the model's parameters (e.g., weights and biases of the conv and linear layers). Besides the model's parameters, we set the learning rate to 0.01. The learning defines the step size for updating the parameters based on their gradients.\n",
    "\n",
    "Also, we require a loss function `loss_function = nn.CrossEntropyLoss()`, which defines the error (loss) between the output of the network and the desired output target.\n",
    "To train the network we iterate over the dataset several times (for 5 epochs).\n",
    "\n",
    "We can split the training into five parts (for each training batch):   \n",
    "<span style=\"color:green\">Your Tasks:</span>   \n",
    "* <span style=\"color:green\">**Clean old gradients**: Remove the previous gradients of the parameters by calling `optimizer.zero_grad()`.</span>   \n",
    "* <span style=\"color:green\">**Forward Pass**: Similar to the previous inference experiments, \n",
    "    calculate the network's output.</span>   \n",
    "* <span style=\"color:green\">**Loss**: Calculate the loss by using `loss_function(outputs, targets)`.</span>   \n",
    "* <span style=\"color:green\">**Backpropagation of the error**: Call `.backward()` on the loss tensor and Pytorch will automatically calculate the respective gradients of the modules with respect to the input and parameters.</span>\n",
    "* <span style=\"color:green\">**Step**: As the last step, modify the parameters based on their gradients by calling `optimizer.step()`.</span>\n",
    "\n",
    "Plotting the accuracy and loss of the model:\n",
    "\n",
    "<span style=\"color:green\">Your Tasks:</span> \n",
    "* <span style=\"color:green\">Collect the network's loss for each batch.\n",
    "* <span style=\"color:green\">After every 100 batches calculate the networks average_loss (of last 100 batches).</span>\n",
    "* <span style=\"color:green\">Similar, calculate the models accuracy using using your defined `test_net` function.</span>\n",
    "* <span style=\"color:green\">Append the average loss and the accuracy to `loss_list` and `acc_list`, respectively.</span>"
   ]
  },
  {
   "cell_type": "code",
   "execution_count": 5,
   "id": "15aea393-c5f3-4f84-b952-3334fdc566f9",
   "metadata": {},
   "outputs": [
    {
     "name": "stdout",
     "output_type": "stream",
     "text": [
      "Loss: 2.280308723449707,\tAccuracy: 0.13321314102564102\n",
      "Loss: 2.2391788959503174,\tAccuracy: 0.4195713141025641\n",
      "Loss: 1.8529764413833618,\tAccuracy: 0.5122195512820513\n",
      "Loss: 0.841978132724762,\tAccuracy: 0.7511017628205128\n",
      "Loss: 0.5418632626533508,\tAccuracy: 0.8123998397435898\n",
      "Loss: 0.4372287094593048,\tAccuracy: 0.8625801282051282\n",
      "Loss: 0.440756231546402,\tAccuracy: 0.8671875\n",
      "Loss: 0.423439621925354,\tAccuracy: 0.8730969551282052\n",
      "Loss: 0.44758981466293335,\tAccuracy: 0.8934294871794872\n",
      "Loss: 0.2843998670578003,\tAccuracy: 0.8868189102564102\n",
      "Loss: 0.20673711597919464,\tAccuracy: 0.9119591346153846\n",
      "Loss: 0.4044209122657776,\tAccuracy: 0.8759014423076923\n",
      "Loss: 0.1968509405851364,\tAccuracy: 0.9204727564102564\n",
      "Loss: 0.3437045216560364,\tAccuracy: 0.9241786858974359\n",
      "Loss: 0.16788619756698608,\tAccuracy: 0.930488782051282\n",
      "Loss: 0.27209141850471497,\tAccuracy: 0.9349959935897436\n",
      "Loss: 0.229604572057724,\tAccuracy: 0.9375\n",
      "Loss: 0.30610063672065735,\tAccuracy: 0.9418068910256411\n",
      "Loss: 0.1628722846508026,\tAccuracy: 0.9315905448717948\n",
      "Loss: 0.1464313268661499,\tAccuracy: 0.9482171474358975\n",
      "Loss: 0.34957388043403625,\tAccuracy: 0.9316907051282052\n",
      "Loss: 0.10352743417024612,\tAccuracy: 0.9467147435897436\n",
      "Loss: 0.24326667189598083,\tAccuracy: 0.9485176282051282\n",
      "Loss: 0.13714070618152618,\tAccuracy: 0.9532251602564102\n",
      "Loss: 0.20097947120666504,\tAccuracy: 0.9567307692307693\n",
      "Loss: 0.1727050095796585,\tAccuracy: 0.9527243589743589\n",
      "Loss: 0.2526951730251312,\tAccuracy: 0.9589342948717948\n",
      "Loss: 0.13256517052650452,\tAccuracy: 0.9498197115384616\n",
      "Loss: 0.11888706684112549,\tAccuracy: 0.964042467948718\n",
      "Loss: 0.3100261092185974,\tAccuracy: 0.9559294871794872\n",
      "Loss: 0.0661396011710167,\tAccuracy: 0.9596354166666666\n",
      "Loss: 0.16587050259113312,\tAccuracy: 0.9568309294871795\n",
      "Loss: 0.12464351207017899,\tAccuracy: 0.9629407051282052\n",
      "Loss: 0.1801833212375641,\tAccuracy: 0.9675480769230769\n",
      "Loss: 0.15155720710754395,\tAccuracy: 0.9622395833333334\n",
      "Loss: 0.19267058372497559,\tAccuracy: 0.9677483974358975\n",
      "Loss: 0.1215859055519104,\tAccuracy: 0.9575320512820513\n",
      "Loss: 0.10591504722833633,\tAccuracy: 0.9714543269230769\n",
      "Loss: 0.25971075892448425,\tAccuracy: 0.9675480769230769\n",
      "Loss: 0.04944223165512085,\tAccuracy: 0.9655448717948718\n",
      "Loss: 0.1226901113986969,\tAccuracy: 0.9632411858974359\n",
      "Loss: 0.11797180771827698,\tAccuracy: 0.9669471153846154\n",
      "Loss: 0.16774949431419373,\tAccuracy: 0.97265625\n",
      "Loss: 0.14106500148773193,\tAccuracy: 0.96875\n",
      "Loss: 0.15627209842205048,\tAccuracy: 0.9714543269230769\n"
     ]
    }
   ],
   "source": [
    "n_epochs = 5\n",
    "loss_list = []\n",
    "acc_list = []\n",
    "\n",
    "net = LeNet()\n",
    "device = torch.device('cuda')\n",
    "\n",
    "optimizer = torch.optim.SGD(net.parameters(), lr=0.01)\n",
    "#optimizer = torch.optim.Adam(net.parameters(), lr=0.1)\n",
    "loss_function = nn.CrossEntropyLoss()\n",
    "\n",
    "#---to-be-done-by-student---\n",
    "#you can define stuff here ...\n",
    "softmax = nn.Softmax()\n",
    "net.to(device)\n",
    "\n",
    "#---end---------------------\n",
    "\n",
    "for epoch_n in range(n_epochs):\n",
    "    for batch_idx, (inputs, targets) in enumerate(train_loader):\n",
    "        #---to-be-done-by-student---\n",
    "        inputs = inputs.to(device)\n",
    "        targets = targets.to(device)\n",
    "        \n",
    "        net.train()\n",
    "        optimizer.zero_grad()\n",
    "        outputs = net(inputs)\n",
    "  \n",
    "        loss = loss_function(outputs, targets)\n",
    "        loss.backward()\n",
    "        optimizer.step()\n",
    "        #---end---------------------\n",
    "        if batch_idx % 100 == 0 and batch_idx != 0:\n",
    "            \n",
    "            #---to-be-done-by-student---\n",
    "            loss = float(loss.to('cpu'))\n",
    "            loss_list.append(loss)\n",
    "            acc = test_net(net, device)\n",
    "            # acc = acc.to('cpu')\n",
    "            acc_list.append(acc)\n",
    "            print(\"Loss: {},\\tAccuracy: {}\".format(loss, acc))\n",
    "            #---end---------------------"
   ]
  },
  {
   "cell_type": "code",
   "execution_count": 6,
   "id": "armed-counter",
   "metadata": {},
   "outputs": [
    {
     "data": {
      "text/plain": [
       "Text(0.5, 1.0, 'LeNet training')"
      ]
     },
     "execution_count": 6,
     "metadata": {},
     "output_type": "execute_result"
    },
    {
     "data": {
      "image/png": "[encoded data removed]",
      "text/plain": [
       "<Figure size 1000x500 with 2 Axes>"
      ]
     },
     "metadata": {},
     "output_type": "display_data"
    }
   ],
   "source": [
    "import matplotlib.pyplot as plt\n",
    "import numpy as np\n",
    "\n",
    "plt.rcParams['figure.figsize'] = [10, 5]\n",
    "\n",
    "fig, ax = plt.subplots(1)\n",
    "\n",
    "ax.plot(np.array(acc_list), color='tab:blue')\n",
    "ax.set_xlabel('mini-batch steps (100)')\n",
    "ax.set_ylabel('LeNet accuracy')\n",
    "ax.tick_params(colors='tab:blue', axis='y')\n",
    "\n",
    "ax2 = ax.twinx()\n",
    "ax2.plot(np.array(loss_list), color='tab:red')\n",
    "ax2.set_ylabel('LeNet loss')\n",
    "ax2.tick_params(colors='tab:red', axis='y')\n",
    "ax.set_title('LeNet training')"
   ]
  },
  {
   "cell_type": "markdown",
   "id": "dental-lounge",
   "metadata": {},
   "source": [
    "You can save your training state by using `state_dict = net.state_dict()` and `torch.save(state_dict, 'lenet_new.pt')`\n",
    "\n",
    "<span style=\"color:green\">Your Task:</span>   \n",
    "* <span style=\"color:green\">Save the state dict of the model with a new name and plug it into exercise 01 by changing the file name in Cell 9</span>"
   ]
  },
  {
   "cell_type": "code",
   "execution_count": 7,
   "id": "cosmetic-router",
   "metadata": {},
   "outputs": [
    {
     "name": "stdout",
     "output_type": "stream",
     "text": [
      "conv1.weight \t torch.Size([6, 1, 3, 3])\n",
      "conv1.bias \t torch.Size([6])\n",
      "conv2.weight \t torch.Size([16, 6, 3, 3])\n",
      "conv2.bias \t torch.Size([16])\n",
      "fc1.weight \t torch.Size([120, 400])\n",
      "fc1.bias \t torch.Size([120])\n",
      "fc2.weight \t torch.Size([84, 120])\n",
      "fc2.bias \t torch.Size([84])\n",
      "fc3.weight \t torch.Size([10, 84])\n",
      "fc3.bias \t torch.Size([10])\n"
     ]
    }
   ],
   "source": [
    "#save model here\n",
    "#---to-be-done-by-student---\n",
    "for param in net.state_dict():\n",
    "    print(param, \"\\t\", net.state_dict()[param].size())\n",
    "\n",
    "torch.save(net.state_dict(), \"./LeNet_trained.pt\")\n",
    "#---end---------------------"
   ]
  }
 ],
 "metadata": {
  "kernelspec": {
   "display_name": "Python 3 (ipykernel)",
   "language": "python",
   "name": "python3"
  },
  "language_info": {
   "codemirror_mode": {
    "name": "ipython",
    "version": 3
   },
   "file_extension": ".py",
   "mimetype": "text/x-python",
   "name": "python",
   "nbconvert_exporter": "python",
   "pygments_lexer": "ipython3",
   "version": "3.8.10"
  }
 },
 "nbformat": 4,
 "nbformat_minor": 5
}
