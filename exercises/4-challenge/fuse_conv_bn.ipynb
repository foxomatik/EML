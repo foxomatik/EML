{
  "nbformat": 4,
  "nbformat_minor": 0,
  "metadata": {
    "colab": {
      "provenance": [],
      "machine_shape": "hm"
    },
    "kernelspec": {
      "name": "python3",
      "display_name": "Python 3"
    },
    "language_info": {
      "name": "python"
    }
  },
  "cells": [
    {
      "cell_type": "markdown",
      "source": [
        "# Fusing Batch Norm Layers\n",
        "In this notebook the weights of the batch normalization layers in the **TinyYolo** Network will be fused with their corresponding weights of the convulational layer, in order to speed up inference."
      ],
      "metadata": {
        "id": "kNEBkwrF-H7s"
      }
    },
    {
      "cell_type": "markdown",
      "source": [
        "## Prepare Workspace"
      ],
      "metadata": {
        "id": "zfAjcNrw-plT"
      }
    },
    {
      "cell_type": "markdown",
      "source": [
        "### Define GOOGLE COLAB Flag"
      ],
      "metadata": {
        "id": "OUK3knth_SWT"
      }
    },
    {
      "cell_type": "code",
      "source": [
        "GOOGLE_COLAB = True"
      ],
      "metadata": {
        "id": "-o-DLHTb_Yo5"
      },
      "execution_count": null,
      "outputs": []
    },
    {
      "cell_type": "markdown",
      "source": [
        "### Mount Google Drive"
      ],
      "metadata": {
        "id": "vveDAJxe_bMM"
      }
    },
    {
      "cell_type": "code",
      "source": [
        "if GOOGLE_COLAB:\n",
        "    import os\n",
        "    from google.colab import drive\n",
        "\n",
        "    # Check if Google Drive is already mounted\n",
        "    if not os.path.exists('/content/drive/My Drive'):\n",
        "        print(\"Mounting Google Drive...\")\n",
        "        drive.mount('/content/drive')\n",
        "    else:\n",
        "        print(\"Google Drive is already mounted.\")"
      ],
      "metadata": {
        "id": "sawsH4MF_d_3"
      },
      "execution_count": null,
      "outputs": []
    },
    {
      "cell_type": "markdown",
      "source": [
        "### Set-up Directories & Install Libraires\n",
        "Create the directories needed and copy uploaded files into them."
      ],
      "metadata": {
        "id": "VS1lmwIh_pI4"
      }
    },
    {
      "cell_type": "code",
      "source": [
        "if GOOGLE_COLAB:\n",
        "    !pip install torchinfo\n",
        "    !pip install torchvision pillow\n",
        "\n",
        "    !mkdir /content/data\n",
        "\n",
        "    !cp /content/drive/MyDrive/eml_challenge/data/person_indices.json /content/data\n",
        "    !cp -r /content/drive/MyDrive/eml_challenge/utils /content\n",
        "    !cp /content/drive/MyDrive/eml_challenge/tinyyolov2.py /content\n",
        "    !cp /content/drive/MyDrive/eml_challenge/tinyyolov2_fused.py /content"
      ],
      "metadata": {
        "id": "7xdotbYH_myn"
      },
      "execution_count": null,
      "outputs": []
    },
    {
      "cell_type": "markdown",
      "source": [
        "### Define Path to Weights"
      ],
      "metadata": {
        "id": "9aoF0Lr8ACb3"
      }
    },
    {
      "cell_type": "code",
      "source": [
        "if GOOGLE_COLAB:\n",
        "    WEIGHTS_PATH = \"/content/drive/MyDrive/eml_challenge/weights/\"\n",
        "else:\n",
        "    WEIGHTS_PATH = \"./\""
      ],
      "metadata": {
        "id": "Ifz_59phAHYv"
      },
      "execution_count": null,
      "outputs": []
    },
    {
      "cell_type": "markdown",
      "source": [
        "### Append Directory Paths to System Path"
      ],
      "metadata": {
        "id": "EebwBDhdAKpX"
      }
    },
    {
      "cell_type": "markdown",
      "source": [],
      "metadata": {
        "id": "1xILQilHlhw7"
      }
    },
    {
      "cell_type": "code",
      "source": [
        "import sys\n",
        "if GOOGLE_COLAB:\n",
        "    sys.path.append('/content')\n",
        "    sys.path.append('/content/data')\n",
        "    sys.path.append('/content/utils')\n",
        "    sys.path.append(WEIGHTS_PATH)"
      ],
      "metadata": {
        "id": "6akk56nKCV53"
      },
      "execution_count": null,
      "outputs": []
    },
    {
      "cell_type": "markdown",
      "source": [
        "### Import Libraires"
      ],
      "metadata": {
        "id": "mHI5PA1zCYsi"
      }
    },
    {
      "cell_type": "code",
      "source": [
        "# Pytorch libraries\n",
        "import torch\n",
        "import torchinfo\n",
        "import torch.nn as nn\n",
        "from torch.utils.data import Subset\n",
        "\n",
        "# Other libraires\n",
        "import matplotlib.pyplot as plt\n",
        "import numpy as np\n",
        "import tqdm\n",
        "import time\n",
        "\n",
        "# EML libraires\n",
        "from tinyyolov2 import TinyYoloV2\n",
        "from tinyyolov2_fused import FusedTinyYoloV2\n",
        "from utils.dataloader_v2 import VOCDataset\n",
        "from utils.ap import precision_recall_levels, ap, display_roc\n",
        "from utils.yolo import nms, filter_boxes"
      ],
      "metadata": {
        "id": "AfDLi48cCdqv"
      },
      "execution_count": null,
      "outputs": []
    },
    {
      "cell_type": "markdown",
      "source": [
        "## Define Functions"
      ],
      "metadata": {
        "id": "vFbfDlAs_BPT"
      }
    },
    {
      "cell_type": "markdown",
      "source": [
        "### Define fuse_conv_bn_weights Function\n",
        "This fucntion calculates fuses one convolutional layer with its corresponding batch normalization layer and calculates the new weights."
      ],
      "metadata": {
        "id": "M3I6tHrSKcVN"
      }
    },
    {
      "cell_type": "code",
      "source": [
        "def fuse_conv_bn_weights(conv_w, bn_rm, bn_rv, bn_w, bn_b):\n",
        "    \"\"\"\n",
        "    Input:\n",
        "        conv_w: shape=(output_channels, in_channels, kernel_size, kernel_size)\n",
        "        conv_b: shape=(output_channels)\n",
        "        bn_rm:  shape=(output_channels)\n",
        "        bn_rv:  shape=(output_channels)\n",
        "        bn_w:   shape=(output_channels)\n",
        "        bn_b:   shape=(output_channels)\n",
        "\n",
        "    Output:\n",
        "        fused_conv_w = shape=conv_w\n",
        "        fused_conv_b = shape=conv_b\n",
        "    \"\"\"\n",
        "    bn_eps = 1e-05\n",
        "\n",
        "    fused_conv = torch.zeros(conv_w.shape)\n",
        "    fused_bias = torch.zeros(conv_w.shape[0])\n",
        "\n",
        "    conv_b = torch.zeros(conv_w.shape[0])\n",
        "\n",
        "    for output_channel in range(conv_w.shape[0]):\n",
        "        fused_conv[output_channel] = conv_w[output_channel] * bn_w[output_channel] / ((bn_rv[output_channel] + bn_eps)** (1/2))\n",
        "        fused_bias[output_channel] = bn_b[output_channel] + ((bn_w[output_channel] * (conv_b[output_channel] - bn_rm[output_channel])) / ((bn_rv[output_channel] + bn_eps)** (1/2)))\n",
        "\n",
        "    return fused_conv, fused_bias"
      ],
      "metadata": {
        "id": "rITYflpOLeja"
      },
      "execution_count": null,
      "outputs": []
    },
    {
      "cell_type": "markdown",
      "source": [
        "### Define fuse_conv_bn_net Function\n",
        "This function accepts the state dictionary as well as the number of convolutional layers to be fused with their corresponding batch normalization layers."
      ],
      "metadata": {
        "id": "J1cqTK9aTAZo"
      }
    },
    {
      "cell_type": "code",
      "source": [
        "def fuse_conv_bn_net(state_dict, num_conv_layers):\n",
        "    fused_dict = {}\n",
        "\n",
        "    for i in range(1, num_conv_layers+1):\n",
        "        fused_dict[\"conv\" + str(i) + \".weight\"], fused_dict[\"conv\" + str(i) + \".bias\"] = fuse_conv_bn_weights(\n",
        "                                                                state_dict[\"conv\" + str(i) + \".weight\"],\n",
        "                                                                state_dict[\"bn\" + str(i) + \".running_mean\"],\n",
        "                                                                state_dict[\"bn\" + str(i) + \".running_var\"],\n",
        "                                                                state_dict[\"bn\" + str(i) + \".weight\"],\n",
        "                                                                state_dict[\"bn\" + str(i) + \".bias\"])\n",
        "    fused_dict[\"conv9.weight\"] = state_dict[\"conv9.weight\"]\n",
        "    fused_dict[\"conv9.bias\"]   = state_dict[\"conv9.bias\"]\n",
        "    fused_dict[\"anchors\"]      = state_dict[\"anchors\"]\n",
        "    return fused_dict"
      ],
      "metadata": {
        "id": "Z1suRvp7VsaM"
      },
      "execution_count": null,
      "outputs": []
    },
    {
      "cell_type": "markdown",
      "source": [
        "### Define net_time Function"
      ],
      "metadata": {
        "id": "CUjpF5Qva0Tj"
      }
    },
    {
      "cell_type": "code",
      "source": [
        "def net_time(net, test_loader):\n",
        "    net.eval()\n",
        "\n",
        "    t_start = time.time()\n",
        "\n",
        "    for _, (inputs, _) in tqdm.tqdm(enumerate(test_loader), total=len(test_loader)):\n",
        "        net.forward(inputs)\n",
        "\n",
        "    t_end = time.time()\n",
        "    t = t_end - t_start\n",
        "\n",
        "    return t"
      ],
      "metadata": {
        "id": "-_IBJUu-a4Ru"
      },
      "execution_count": null,
      "outputs": []
    },
    {
      "cell_type": "markdown",
      "source": [
        "### Define test Function"
      ],
      "metadata": {
        "id": "jzAWOCFBjRO9"
      }
    },
    {
      "cell_type": "code",
      "source": [
        "def test(net: nn.Module, data_loader: torch.utils.data.DataLoader, device):\n",
        "    \"\"\"\n",
        "    Description:\n",
        "    This function tests the network.\n",
        "\n",
        "    Args:\n",
        "    net: the network to test\n",
        "    data_loader: the data loader for the test set\n",
        "    device: the device to use for training\n",
        "    num_validation_samples: the number of passed images to the validate function\n",
        "    \"\"\"\n",
        "\n",
        "    test_precision = []\n",
        "    test_recall = []\n",
        "\n",
        "    net.to(device)\n",
        "    net.eval()\n",
        "\n",
        "    with torch.no_grad():\n",
        "        for idx, (input, target) in tqdm.tqdm(enumerate(data_loader), total=len(data_loader)):\n",
        "            input  = input.to(device)\n",
        "            target = target.to(device)\n",
        "            output = net(input, yolo=True)\n",
        "            #The right threshold values can be adjusted for the target application\n",
        "            output = filter_boxes(output, CONFIDENCE_THRESHOLD)\n",
        "            output = nms(output, NMS_THRESHOLD)\n",
        "            # Calculate precision and recall for each sample\n",
        "            for i in range(len(target)):\n",
        "                precision, recall = precision_recall_levels(target[i], output[i])\n",
        "                test_precision.append(precision)\n",
        "                test_recall.append(recall)\n",
        "\n",
        "    # Calculate average precision with collected samples\n",
        "    average_precision = ap(test_precision, test_recall)\n",
        "    # Plot ROC\n",
        "    display_roc(test_precision, test_recall)\n",
        "\n",
        "    return average_precision"
      ],
      "metadata": {
        "id": "41rhKlcujTn1"
      },
      "execution_count": null,
      "outputs": []
    },
    {
      "cell_type": "markdown",
      "source": [
        "## Execute Workspace"
      ],
      "metadata": {
        "id": "zlWGTA1n_JbN"
      }
    },
    {
      "cell_type": "markdown",
      "source": [
        "### Hyperparameters"
      ],
      "metadata": {
        "id": "JerxJsxUaG0M"
      }
    },
    {
      "cell_type": "code",
      "source": [
        "# Thresholds\n",
        "CONFIDENCE_THRESHOLD     = 0.0\n",
        "NMS_THRESHOLD            = 0.5\n",
        "# Batch Size\n",
        "TEST_BATCH_SIZE         = 128"
      ],
      "metadata": {
        "id": "CNlV6AgwaIoT"
      },
      "execution_count": null,
      "outputs": []
    },
    {
      "cell_type": "markdown",
      "source": [
        "### Define Variables"
      ],
      "metadata": {
        "id": "SZR5sR9_gPhG"
      }
    },
    {
      "cell_type": "code",
      "source": [
        "if torch.cuda.is_available():\n",
        "      torch_device = torch.device(\"cuda\")\n",
        "      print(\"Using GPU\")\n",
        "else:\n",
        "    torch_device = torch.device(\"cpu\")\n",
        "    print(\"Using CPU\")\n",
        "\n",
        "net       = TinyYoloV2(num_classes=1)\n",
        "fused_net = FusedTinyYoloV2(num_classes=1)\n",
        "\n",
        "test_dataset  = VOCDataset(root=\"/content/data\", year=\"2012\", image_set='val', only_person=True)   # Contains 2232 pictures\n",
        "test_loader   = torch.utils.data.DataLoader(dataset=test_dataset, batch_size=TEST_BATCH_SIZE, shuffle=False)"
      ],
      "metadata": {
        "colab": {
          "base_uri": "https://localhost:8080/"
        },
        "id": "Uaau9noVgMl3",
        "outputId": "45e76809-d1a4-4632-c713-9998cfa19829"
      },
      "execution_count": null,
      "outputs": [
        {
          "output_type": "stream",
          "name": "stdout",
          "text": [
            "Using CPU\n",
            "Dataset not found at /content/data/VOCdevkit/VOC2012. Downloading...\n",
            "Downloading http://host.robots.ox.ac.uk/pascal/VOC/voc2012/VOCtrainval_11-May-2012.tar to /content/data/VOCtrainval_11-May-2012.tar\n"
          ]
        },
        {
          "output_type": "stream",
          "name": "stderr",
          "text": [
            "100%|██████████| 2.00G/2.00G [06:33<00:00, 5.09MB/s]\n"
          ]
        },
        {
          "output_type": "stream",
          "name": "stdout",
          "text": [
            "Extracting /content/data/VOCtrainval_11-May-2012.tar to /content/data\n"
          ]
        }
      ]
    },
    {
      "cell_type": "markdown",
      "source": [
        "### Fuse Batch and Conv Layers\n",
        "Fuse batch normalization layers to their corresponding convolutional layers and load them to the chosen device"
      ],
      "metadata": {
        "id": "X6WmPMOzZOU7"
      }
    },
    {
      "cell_type": "code",
      "source": [
        "# Since the last convolutional layer doesn't have a batch normalization layer\n",
        "# after it, NUM_CONV_LAYERS was set to 8\n",
        "NUM_CONV_LAYERS = 8\n",
        "\n",
        "sd = torch.load(WEIGHTS_PATH + \"voc_fine_tuned.pt\", weights_only=True, map_location=torch_device)\n",
        "net.load_state_dict(sd, strict=False)\n",
        "\n",
        "sd_fused = fuse_conv_bn_net(state_dict=sd, num_conv_layers=NUM_CONV_LAYERS)\n",
        "fused_net.load_state_dict(sd_fused, strict=False)"
      ],
      "metadata": {
        "id": "ycxzBTHnGjiM",
        "colab": {
          "base_uri": "https://localhost:8080/"
        },
        "outputId": "73e8d47b-a080-4097-aef0-c4e289f18d5f"
      },
      "execution_count": null,
      "outputs": [
        {
          "output_type": "execute_result",
          "data": {
            "text/plain": [
              "<All keys matched successfully>"
            ]
          },
          "metadata": {},
          "execution_count": 13
        }
      ]
    },
    {
      "cell_type": "markdown",
      "source": [
        "### Timing Benchmark for Inference before Fusion"
      ],
      "metadata": {
        "id": "jKXG80YsZVb1"
      }
    },
    {
      "cell_type": "code",
      "source": [
        "print(f\"\\nInference Time before Fusion: {net_time(net, test_loader):.3}\")"
      ],
      "metadata": {
        "colab": {
          "base_uri": "https://localhost:8080/"
        },
        "id": "6mzr_qbdgFpY",
        "outputId": "7d1bcca2-fe8f-477a-b28a-fa66e623a6fc"
      },
      "execution_count": null,
      "outputs": [
        {
          "output_type": "stream",
          "name": "stderr",
          "text": [
            "100%|██████████| 18/18 [01:08<00:00,  3.78s/it]"
          ]
        },
        {
          "output_type": "stream",
          "name": "stdout",
          "text": [
            "\n",
            "Inference Time before Fusion: 68.1\n"
          ]
        },
        {
          "output_type": "stream",
          "name": "stderr",
          "text": [
            "\n"
          ]
        }
      ]
    },
    {
      "cell_type": "markdown",
      "source": [
        "### Timing Benchmark for Inference after Fusion"
      ],
      "metadata": {
        "id": "S7x-EYkrZeAR"
      }
    },
    {
      "cell_type": "code",
      "source": [
        "print(f\"\\nInference Time after Fusion: {net_time(fused_net, test_loader):.3}\")"
      ],
      "metadata": {
        "colab": {
          "base_uri": "https://localhost:8080/"
        },
        "id": "g9TekPmCilzF",
        "outputId": "22b913cf-a699-4ab9-b276-4f644790276a"
      },
      "execution_count": null,
      "outputs": [
        {
          "output_type": "stream",
          "name": "stderr",
          "text": [
            "100%|██████████| 18/18 [01:01<00:00,  3.44s/it]"
          ]
        },
        {
          "output_type": "stream",
          "name": "stdout",
          "text": [
            "\n",
            "Inference Time after Fusion: 62.0\n"
          ]
        },
        {
          "output_type": "stream",
          "name": "stderr",
          "text": [
            "\n"
          ]
        }
      ]
    },
    {
      "cell_type": "markdown",
      "source": [
        "### Average Precision Benchmark for TinyYolov2"
      ],
      "metadata": {
        "id": "4pBx0HT7c9ZC"
      }
    },
    {
      "cell_type": "code",
      "source": [
        "average_precision_before_fusion = test(net, test_loader, torch_device)\n",
        "print(f\"Average Precision before Fusion: {average_precision_before_fusion:.3%}\")"
      ],
      "metadata": {
        "colab": {
          "base_uri": "https://localhost:8080/",
          "height": 507
        },
        "id": "R6yM9DtKi5lN",
        "outputId": "49f9d052-efd3-4dea-f3e3-e8b1270b410f"
      },
      "execution_count": null,
      "outputs": [
        {
          "output_type": "stream",
          "name": "stderr",
          "text": [
            "100%|██████████| 18/18 [03:44<00:00, 12.50s/it]\n"
          ]
        },
        {
          "output_type": "display_data",
          "data": {
            "text/plain": [
              "<Figure size 640x480 with 1 Axes>"
            ],
            "image/png": "[encoded data removed]"
          },
          "metadata": {}
        },
        {
          "output_type": "stream",
          "name": "stdout",
          "text": [
            "Average Precision before Fusion: 57.551%\n"
          ]
        }
      ]
    },
    {
      "cell_type": "markdown",
      "source": [
        "### Average Precision Benchmark for FusedTinyYolov2"
      ],
      "metadata": {
        "id": "erATCMxuc9j9"
      }
    },
    {
      "cell_type": "code",
      "source": [
        "average_precision_after_fusion = test(fused_net, test_loader, torch_device)\n",
        "print(f\"Average Precision after Fusion: {average_precision_after_fusion:.3%}\")"
      ],
      "metadata": {
        "colab": {
          "base_uri": "https://localhost:8080/",
          "height": 507
        },
        "id": "y2S3rI_-i6cs",
        "outputId": "fbdfcac7-d8ce-49be-d7bc-12895300e7b4"
      },
      "execution_count": null,
      "outputs": [
        {
          "output_type": "stream",
          "name": "stderr",
          "text": [
            "100%|██████████| 18/18 [03:37<00:00, 12.08s/it]\n"
          ]
        },
        {
          "output_type": "display_data",
          "data": {
            "text/plain": [
              "<Figure size 640x480 with 1 Axes>"
            ],
            "image/png": "[encoded data removed]"
          },
          "metadata": {}
        },
        {
          "output_type": "stream",
          "name": "stdout",
          "text": [
            "Average Precision after Fusion: 57.551%\n"
          ]
        }
      ]
    },
    {
      "cell_type": "markdown",
      "source": [
        "### Save fused Weights"
      ],
      "metadata": {
        "id": "UD4C9nm0PRqz"
      }
    },
    {
      "cell_type": "code",
      "source": [
        "torch.save(fused_net.state_dict(), WEIGHTS_PATH + \"fused_voc_fine_tuned.pt\")"
      ],
      "metadata": {
        "id": "fYiP34PPPUZQ"
      },
      "execution_count": null,
      "outputs": []
    }
  ]
}