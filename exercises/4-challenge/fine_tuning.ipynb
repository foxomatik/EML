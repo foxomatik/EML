{
 "cells": [
  {
   "cell_type": "markdown",
   "metadata": {
    "id": "qHScsfah94sn"
   },
   "source": [
    "# Fine Tuning Tiny Yolo\n",
    "\n",
    "The Tiny Yolo Network is fine tuned to only detect people."
   ]
  },
  {
   "cell_type": "markdown",
   "metadata": {
    "id": "01ZXVrJuCYm1"
   },
   "source": [
    "## Prepare Workspace"
   ]
  },
  {
   "cell_type": "markdown",
   "metadata": {
    "id": "Uscw6FakB6kV"
   },
   "source": [
    "### Mount Google Drive"
   ]
  },
  {
   "cell_type": "code",
   "execution_count": null,
   "metadata": {
    "id": "eoGb75c63blH"
   },
   "outputs": [],
   "source": [
    "from google.colab import drive\n",
    "drive.mount('/content/drive')\n"
   ]
  },
  {
   "cell_type": "markdown",
   "metadata": {
    "id": "uQwQXHGSCKZr"
   },
   "source": [
    "### Create the directories needed and place uploaded files inside them"
   ]
  },
  {
   "cell_type": "code",
   "execution_count": null,
   "metadata": {
    "id": "oMlA8hKU93Vi"
   },
   "outputs": [],
   "source": [
    "!pip install torchinfo\n",
    "!pip install torchvision pillow\n",
    "\n",
    "!mkdir /content/data\n",
    "\n",
    "!cp /content/drive/MyDrive/eml_challenge/data/person_indices.json /content/data\n",
    "!cp -r /content/drive/MyDrive/eml_challenge/utils /content\n",
    "!cp /content/drive/MyDrive/eml_challenge/tinyyolov2.py /content"
   ]
  },
  {
   "cell_type": "markdown",
   "metadata": {
    "id": "SCi-d3NlWeRl"
   },
   "source": [
    "### Append directory paths to system path"
   ]
  },
  {
   "cell_type": "code",
   "execution_count": null,
   "metadata": {
    "id": "75a9jpWp9WfF"
   },
   "outputs": [],
   "source": [
    "import sys\n",
    "sys.path.append('/content')\n",
    "sys.path.append('/content/data')\n",
    "sys.path.append('/content/utils')\n",
    "sys.path.append('/content/drive/MyDrive/eml_challenge/weights')"
   ]
  },
  {
   "cell_type": "markdown",
   "metadata": {
    "id": "8ZmM7WjDXXzw"
   },
   "source": [
    "## Executing Workspace"
   ]
  },
  {
   "cell_type": "markdown",
   "metadata": {
    "id": "kWzCwEErXfKE"
   },
   "source": [
    "### Importing essential libraries"
   ]
  },
  {
   "cell_type": "code",
   "execution_count": null,
   "metadata": {
    "id": "idmHICjM9Vq8"
   },
   "outputs": [],
   "source": [
    "import torch\n",
    "import torchinfo\n",
    "import torch.nn as nn\n",
    "import numpy as np\n",
    "\n",
    "# A subset of VOCDataLoader just for one class (person) (0)\n",
    "from utils.dataloader import VOCDataLoaderPerson\n",
    "# Import ReduceLROnPlateau to reduce learning rate of optimizer after Plateau\n",
    "from torch.optim.lr_scheduler import ReduceLROnPlateau\n",
    "\n",
    "data_loader = VOCDataLoaderPerson(train=True, batch_size=128, shuffle=True)\n",
    "test_loader = VOCDataLoaderPerson(train=False, batch_size=1)\n",
    "\n",
    "from tinyyolov2 import TinyYoloV2\n",
    "from utils.loss import YoloLoss\n",
    "import tqdm\n",
    "from utils.ap import precision_recall_levels, ap, display_roc\n",
    "from utils.yolo import nms, filter_boxes\n",
    "from utils.viz import display_result"
   ]
  },
  {
   "cell_type": "markdown",
   "metadata": {
    "id": "OqV106CvXmNV"
   },
   "source": [
    "### Define Early Stopping class"
   ]
  },
  {
   "cell_type": "code",
   "execution_count": null,
   "metadata": {
    "id": "wIaSazwOVty3"
   },
   "outputs": [],
   "source": [
    "class EarlyStopping:\n",
    "    def __init__(self, patience=7, verbose=False, delta=0,\n",
    "                 path='/content/drive/MyDrive/eml_challenge/weights/checkpoint.pt'):\n",
    "        \"\"\"\n",
    "        Args:\n",
    "            patience (int): How long to wait after last improvement.\n",
    "            verbose (bool): If True, prints a message for each validation metric improvement.\n",
    "            delta (float): Minimum change in the monitored metric to qualify as an improvement.\n",
    "            path (str): Path to save the best model checkpoint.\n",
    "        \"\"\"\n",
    "        self.patience = patience\n",
    "        self.verbose = verbose\n",
    "        self.delta = delta\n",
    "        self.path = path\n",
    "        self.counter = 0\n",
    "        self.best_score = None\n",
    "        self.early_stop = False\n",
    "        self.avg_precision_min = 0 # Track the minimum average precision\n",
    "\n",
    "    def __call__(self, avg_precision, model):\n",
    "        score = avg_precision  # Positiv because we maximize AP\n",
    "\n",
    "        if self.best_score is None:\n",
    "            self.best_score = score\n",
    "            self.save_checkpoint(avg_precision, model)\n",
    "        elif score < self.best_score + self.delta:\n",
    "            self.counter += 1\n",
    "            if self.verbose:\n",
    "                print(f\"EarlyStopping counter: {self.counter} out of {self.patience}\")\n",
    "            if self.counter >= self.patience:\n",
    "                self.early_stop = True\n",
    "        else:\n",
    "            self.best_score = score\n",
    "            self.save_checkpoint(avg_precision, model)\n",
    "            self.counter = 0\n",
    "\n",
    "    def save_checkpoint(self, avg_precision, model):\n",
    "        \"\"\"Save model when average precision increases.\"\"\"\n",
    "        if self.verbose:\n",
    "            print(f\"Average Precision increased ({self.avg_precision_min:.6f} --> {avg_precision:.6f}). Saving model...\")\n",
    "        torch.save(model.state_dict(), self.path)\n",
    "        self.avg_precision_min = avg_precision\n"
   ]
  },
  {
   "cell_type": "markdown",
   "metadata": {
    "id": "dkMadXlHXyYT"
   },
   "source": [
    "### Fine Tuning function definition"
   ]
  },
  {
   "cell_type": "code",
   "execution_count": null,
   "metadata": {
    "id": "rBCP5BAT9ijI"
   },
   "outputs": [],
   "source": [
    "def fine_tune(net: nn.Module, sd,\n",
    "              data_loader: torch.utils.data.DataLoader, test_loader: torch.utils.data.DataLoader,\n",
    "              num_test_samples: int=0):\n",
    "\n",
    "    if torch.cuda.is_available():\n",
    "      torch_device = torch.device(\"cuda\")\n",
    "      print(\"Using GPU\")\n",
    "    else:\n",
    "      torch_device = torch.device(\"cpu\")\n",
    "      print(\"Using CPU\")\n",
    "\n",
    "    test_AP = []\n",
    "    test_precision = []\n",
    "    test_recall = []\n",
    "\n",
    "    #We load all parameters from the pretrained dict except for the last layer\n",
    "    # net.load_state_dict({k: v for k, v in sd.items() if not '9' in k}, strict=False)\n",
    "    net.load_state_dict({k: v for k, v in sd.items() if not '9' in k}, strict=False)\n",
    "    net.eval()\n",
    "    # Move weights to device\n",
    "    net.to(torch_device)\n",
    "\n",
    "    #We only train the last layer (conv9)\n",
    "    for key, param in net.named_parameters():\n",
    "        if any(x in key for x in ['1', '2', '3', '4', '5', '6', '7']):\n",
    "            param.requires_grad = False\n",
    "\n",
    "    # Definition of the loss\n",
    "    criterion = YoloLoss(anchors=net.anchors)\n",
    "    # Definition of the optimizer\n",
    "    learning_rate = 0.001\n",
    "    optimizer = torch.optim.Adam(filter(lambda x: x.requires_grad, net.parameters()), lr=learning_rate)\n",
    "    # Define the ReduceLROnPlateau scheduler\n",
    "    scheduler = ReduceLROnPlateau(optimizer, mode='max', factor=0.1, patience=5, verbose=True)\n",
    "    # Initialize EarlyStopping\n",
    "    early_stopping = EarlyStopping(patience=7, verbose=True)\n",
    "\n",
    "    for epoch in range(NUM_EPOCHS):\n",
    "        print(f\"Epoch: {epoch}\")\n",
    "        net.train()\n",
    "        if epoch != 0:\n",
    "            for idx, (input, target) in tqdm.tqdm(enumerate(data_loader), total=len(data_loader)):\n",
    "                optimizer.zero_grad()\n",
    "                # Move Inputs and targets to Device\n",
    "                input  = input.to(torch_device)\n",
    "                target = target.to(torch_device)\n",
    "                #Yolo head is implemented in the loss for training, therefore yolo=False\n",
    "                output = net(input, yolo=False)\n",
    "                loss, _ = criterion(output, target)\n",
    "                loss.backward()\n",
    "                optimizer.step()\n",
    "\n",
    "        with torch.no_grad():\n",
    "            for idx, (input, target) in tqdm.tqdm(enumerate(test_loader), total=num_test_samples):\n",
    "                net.eval()\n",
    "                input  = input.to(torch_device)\n",
    "                target = target.to(torch_device)\n",
    "                output = net(input, yolo=True)\n",
    "                #The right threshold values can be adjusted for the target application\n",
    "                output = filter_boxes(output, 0.0)\n",
    "                output = nms(output, 0.5)\n",
    "                # Calculate precision and recall for each sample\n",
    "                precision, recall = precision_recall_levels(target[0], output[0])\n",
    "                test_precision.append(precision)\n",
    "                test_recall.append(recall)\n",
    "                if idx == num_test_samples:\n",
    "                    break\n",
    "\n",
    "        #Calculation of average precision with collected samples\n",
    "        average_precision = ap(test_precision, test_recall)\n",
    "        test_AP.append(average_precision)\n",
    "        #plot ROC\n",
    "        display_roc(test_precision, test_recall)\n",
    "        print('average precision', test_AP)\n",
    "        # Adjust learning rate in case of a Plateau of AP\n",
    "        scheduler.step(average_precision)\n",
    "        print(f\"learning rate: {scheduler.get_last_lr()}\")\n",
    "        # Stop training in case there is no further improvement of AP\n",
    "        early_stopping(average_precision, net)\n",
    "        if early_stopping.early_stop:\n",
    "            print(\"Early stopping triggered. Stopping training.\")\n",
    "            torch.cuda.empty_cache()\n",
    "            return net.state_dict()\n",
    "\n",
    "    torch.cuda.empty_cache()\n",
    "\n",
    "    return net.state_dict()"
   ]
  },
  {
   "cell_type": "markdown",
   "metadata": {
    "id": "kgMb3wcNX7WS"
   },
   "source": [
    "## Testing Workspace"
   ]
  },
  {
   "cell_type": "code",
   "execution_count": null,
   "metadata": {
    "id": "L2wA0QqK9qZ-"
   },
   "outputs": [],
   "source": [
    "# We define a tinyyolo network with only two possible classes\n",
    "net = TinyYoloV2(num_classes=1)\n",
    "sd = torch.load(\"/content/drive/MyDrive/eml_challenge/weights/voc_pretrained.pt\")\n",
    "\n",
    "# Number of Epochs\n",
    "NUM_EPOCHS = 50\n",
    "\n",
    "sd_fine_tuned = fine_tune(net, sd, data_loader, test_loader, num_test_samples=350)\n",
    "torch.save(sd_fine_tuned, '/content/drive/MyDrive/eml_challenge/weights/voc_fine_tuned.pt')"
   ]
  }
 ],
 "metadata": {
  "colab": {
   "authorship_tag": "ABX9TyNCUYGbsWS5xlTCqnzCzfY5",
   "machine_shape": "hm",
   "mount_file_id": "1mZ_RhF7lqhnHz0hRq_Vc98g-h5hCCFLo",
   "provenance": []
  },
  "kernelspec": {
   "display_name": "Python 3",
   "name": "python3"
  },
  "language_info": {
   "name": "python"
  }
 },
 "nbformat": 4,
 "nbformat_minor": 0
}
