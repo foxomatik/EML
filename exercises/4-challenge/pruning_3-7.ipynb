{
 "cells": [
  {
   "cell_type": "markdown",
   "id": "1f7e391c-be0f-47d6-ab83-d3c7621bf774",
   "metadata": {},
   "source": [
    "# Embedded ML Lab - Excercise 4 - Pruning\n",
    "\n",
    "Focus on structured pruning to save computation time. We will do this in three steps. \n",
    "* We will use a builtin-function, similar to previous l1 pruning, to sets whole output channels to zero + delete.  \n",
    "\n",
    "* We will implement a function, similar to previous l1 pruning, to sets whole output channels to zero.  \n",
    "\n",
    "* We will delete the zeroed-out channels and densify the network again to have a reduction in computation time.\n",
    "\n",
    "* We will retrain the network to gain accuracy again.  "
   ]
  },
  {
   "cell_type": "code",
   "execution_count": 1,
   "id": "c20683ad-e745-4079-aad8-96e618dd7cbe",
   "metadata": {},
   "outputs": [
    {
     "name": "stdout",
     "output_type": "stream",
     "text": [
      "Looking in indexes: https://pypi.org/simple, https://pypi.ngc.nvidia.com\n",
      "Collecting torchinfo\n",
      "  Downloading torchinfo-1.8.0-py3-none-any.whl.metadata (21 kB)\n",
      "Downloading torchinfo-1.8.0-py3-none-any.whl (23 kB)\n",
      "Installing collected packages: torchinfo\n",
      "Successfully installed torchinfo-1.8.0\n"
     ]
    }
   ],
   "source": [
    "!pip install torchinfo"
   ]
  },
  {
   "cell_type": "code",
   "execution_count": 2,
   "id": "b9cb9f0f-f0e8-4025-9a06-106eada74c12",
   "metadata": {
    "editable": true,
    "slideshow": {
     "slide_type": ""
    },
    "tags": []
   },
   "outputs": [],
   "source": [
    "# torch\n",
    "import torch\n",
    "from torch import nn\n",
    "from torch.utils.data import Subset\n",
    "from torchinfo import summary\n",
    "from torchvision.transforms import v2\n",
    "from torch.optim.lr_scheduler import ReduceLROnPlateau # Import ReduceLROnPlateau to reduce learning rate of optimizer after Plateau\n",
    "\n",
    "\n",
    "# Scikit-learn libraires\n",
    "from sklearn.model_selection import train_test_split\n",
    "\n",
    "# EML libraires\n",
    "from tinyyolov2_pruned import TinyYoloV2, PrunedTinyYoloV2, FusedTinyYoloV2, PrunedFusedTinyYoloV2\n",
    "from utils.dataloader import VOCDataLoaderPerson\n",
    "from utils.dataloader_v2 import VOCDataset\n",
    "from utils.ap import ap, precision_recall_levels\n",
    "from utils.yolo import nms, filter_boxes\n",
    "from utils.loss import YoloLoss\n",
    "\n",
    "# Other libraries\n",
    "import numpy as np\n",
    "import matplotlib.pyplot as plt\n",
    "from typing import List, Dict, Tuple\n",
    "import time\n",
    "import tqdm\n",
    "import copy"
   ]
  },
  {
   "cell_type": "markdown",
   "id": "f94b041a-580c-4542-9670-69c23f276e0b",
   "metadata": {},
   "source": [
    "# Globals and Hyperparameters"
   ]
  },
  {
   "cell_type": "code",
   "execution_count": 3,
   "id": "cfabd4ee-e326-4339-ba8b-e3de55ce5ece",
   "metadata": {},
   "outputs": [],
   "source": [
    "# Weights\n",
    "WEIGHTS_PATH = \"./pruning_save3-7/\"\n",
    "\n",
    "# Number or Epochs for fine-tuning\n",
    "NUM_EPOCHS               = 15\n",
    "# Thresholds\n",
    "CONFIDENCE_THRESHOLD     = 0.0\n",
    "NMS_THRESHOLD            = 0.5\n",
    "\n",
    "# Batch sizes\n",
    "TRAIN_BATCH_SIZE         = 64\n",
    "VALIDATION_BATCH_SIZE    = 64\n",
    "TEST_BATCH_SIZE          = 64\n",
    "\n",
    "# Dataset custom split ratios\n",
    "TRAIN_DATASET_RATIO      = 0.70\n",
    "TEST_DATASET_RATIO       = 0.15\n",
    "VALIDATION_DATASET_RATIO = 0.15"
   ]
  },
  {
   "cell_type": "markdown",
   "id": "5e2c5735-f16e-4e16-8a35-5d03d9c0c21c",
   "metadata": {},
   "source": [
    "# Function Definitions"
   ]
  },
  {
   "cell_type": "markdown",
   "id": "8e755be6-3f69-4caf-83e9-58ea479c386b",
   "metadata": {
    "editable": true,
    "slideshow": {
     "slide_type": ""
    },
    "tags": []
   },
   "source": [
    "## Utility Functions"
   ]
  },
  {
   "cell_type": "markdown",
   "id": "2dc29ae8-8b3d-4f3a-a363-a443faede706",
   "metadata": {},
   "source": [
    "### Size on Disk"
   ]
  },
  {
   "cell_type": "code",
   "execution_count": 4,
   "id": "3fa8048a-f680-4717-908c-921d4c409d3d",
   "metadata": {},
   "outputs": [],
   "source": [
    "def size_on_disk(state_dict: Dict) -> Tuple[int, int]:\n",
    "    buff = io.BytesIO()\n",
    "    torch.save(state_dict, buff)\n",
    "    compressed_buff = gzip.compress(buff.getvalue(), compresslevel=9)\n",
    "    return compressed_buff.__sizeof__(), buff.__sizeof__()"
   ]
  },
  {
   "cell_type": "markdown",
   "id": "786cdfc2-001a-4015-9a26-26ab4343814e",
   "metadata": {},
   "source": [
    "### Multiplications and Additions"
   ]
  },
  {
   "cell_type": "code",
   "execution_count": 5,
   "id": "3705a351-f567-49cf-b126-4a0308e843c9",
   "metadata": {},
   "outputs": [],
   "source": [
    "def net_macs(model_class: torch.nn.Module, state_dict: Dict) -> int:\n",
    "    net = model_class(num_classes=1)\n",
    "    net.load_state_dict(state_dict, strict=False)\n",
    "    res = summary(net, (1, 3, 320, 320), verbose=0)\n",
    "    return res.total_mult_adds"
   ]
  },
  {
   "cell_type": "markdown",
   "id": "c25032e6-650d-4798-b095-2297c8865b54",
   "metadata": {},
   "source": [
    "### Plot function"
   ]
  },
  {
   "cell_type": "code",
   "execution_count": 6,
   "id": "66ecb7d8-a816-4ffc-ae7d-faaa122bd387",
   "metadata": {},
   "outputs": [],
   "source": [
    "def plot(data, xlabel='Execution time', save_path='plot.png'):\n",
    "   \n",
    "    data = copy.deepcopy(data)\n",
    "    for (x, y, label) in data:\n",
    "        x = np.array(x)/max(x)\n",
    "        plt.plot(x, y, label=label, alpha=0.5)\n",
    "        plt.scatter(x, y, alpha=0.5)\n",
    "        \n",
    "    plt.ylabel('Average Precision')\n",
    "    plt.xlabel(xlabel)\n",
    "    plt.legend()\n",
    "        \n",
    "    plt.savefig(save_path)\n",
    "    plt.show()"
   ]
  },
  {
   "cell_type": "markdown",
   "id": "2df73035-6bb2-444c-8c02-564718f84f23",
   "metadata": {},
   "source": [
    "### Timing evaluation"
   ]
  },
  {
   "cell_type": "code",
   "execution_count": 7,
   "id": "27d13c65-1376-4c24-90c0-0ca6dd66667a",
   "metadata": {},
   "outputs": [],
   "source": [
    "def net_time(net, test_loader):\n",
    "    net.eval()\n",
    "\n",
    "    t_start = time.time()\n",
    "\n",
    "    for _, (inputs, _) in enumerate(test_loader):\n",
    "        net.forward(inputs)\n",
    "        break\n",
    "\n",
    "    t_end = time.time()\n",
    "    t = t_end - t_start\n",
    "\n",
    "    return t"
   ]
  },
  {
   "cell_type": "markdown",
   "id": "bbf232d8-bd76-4b52-a7d5-cc30bc199178",
   "metadata": {},
   "source": [
    "## Pruning Functions"
   ]
  },
  {
   "cell_type": "markdown",
   "id": "9ac96406-5fe8-4e28-b6c8-fc6a4d025207",
   "metadata": {},
   "source": [
    "### Structured Pruning"
   ]
  },
  {
   "cell_type": "code",
   "execution_count": 8,
   "id": "8885596a-b740-46dc-8486-d513628b1f59",
   "metadata": {},
   "outputs": [],
   "source": [
    "def l1_structured_pruning(state_dict: Dict, prune_ratio: float) -> Dict:\n",
    "    state_dict = copy.deepcopy(state_dict)\n",
    "    # conv layer 3-7\n",
    "    for num in range(5):\n",
    "        conv_layer = state_dict.get('conv{}.weight'.format(num+3))\n",
    "        \n",
    "        # L1 norm of each output channels + mask\n",
    "        out_channels_num = conv_layer.shape[0]\n",
    "        out_channel_l1_norm = torch.zeros(conv_layer.shape[0])\n",
    "        for out_channel in range(out_channels_num):\n",
    "            out_channel_l1_norm[out_channel] = conv_layer[out_channel].cpu().abs().sum().item()\n",
    "    \n",
    "        threshold = np.percentile(out_channel_l1_norm.cpu().numpy(), prune_ratio*100)\n",
    "        conv_mask = torch.where(out_channel_l1_norm<threshold, 0.0, 1.0)\n",
    "    \n",
    "        # Zero out the pruned channels\n",
    "        for idx, keep in enumerate(conv_mask):\n",
    "            if keep != 1.0:\n",
    "                state_dict['conv{}.weight'.format(num+3)][idx] = 0\n",
    "                # state_dict['conv{}.bias'.format(num+3)][idx] = 0\n",
    "                \n",
    "    return state_dict"
   ]
  },
  {
   "cell_type": "code",
   "execution_count": 9,
   "id": "02dd0eee-549a-4dc4-a4d5-35a4320b8736",
   "metadata": {},
   "outputs": [],
   "source": [
    "def l1_structured_fused_pruning(state_dict: Dict, prune_ratio: float) -> Dict:\n",
    "    state_dict = copy.deepcopy(state_dict)\n",
    "    # conv layer 3-7\n",
    "    for num in range(5):\n",
    "        conv_layer = state_dict.get('conv{}.weight'.format(num+3))\n",
    "        \n",
    "        # L1 norm of each output channels + mask\n",
    "        out_channels_num = conv_layer.shape[0]\n",
    "        out_channel_l1_norm = torch.zeros(conv_layer.shape[0])\n",
    "        for out_channel in range(out_channels_num):\n",
    "            out_channel_l1_norm[out_channel] = conv_layer[out_channel].cpu().abs().sum().item()\n",
    "    \n",
    "        threshold = np.percentile(out_channel_l1_norm.cpu().numpy(), prune_ratio*100)\n",
    "        conv_mask = torch.where(out_channel_l1_norm<threshold, 0.0, 1.0)\n",
    "    \n",
    "        # Zero out the pruned channels\n",
    "        for idx, keep in enumerate(conv_mask):\n",
    "            if keep != 1.0:\n",
    "                state_dict['conv{}.weight'.format(num+3)][idx] = 0\n",
    "                state_dict['conv{}.bias'.format(num+3)][idx] = 0\n",
    "                \n",
    "    return state_dict"
   ]
  },
  {
   "cell_type": "code",
   "execution_count": 10,
   "id": "2c114b7a-5663-4d71-bf54-15bb2587996d",
   "metadata": {},
   "outputs": [],
   "source": [
    "def count_pruned_weights(model_class, state_dict):\n",
    "    model = model_class(num_classes=1)\n",
    "    model.load_state_dict(state_dict, strict=False)\n",
    "\n",
    "    for name, module in model.named_modules():\n",
    "        if isinstance(module, torch.nn.Conv2d):\n",
    "            total_weights = module.weight.nelement()\n",
    "            zero_weights = torch.sum(module.weight == 0).item()\n",
    "            percentage = (zero_weights / total_weights) * 100\n",
    "            \n",
    "            print(f\"{name}: {zero_weights}/{total_weights} weights are 0 ({percentage:.2f}%)\")"
   ]
  },
  {
   "cell_type": "markdown",
   "id": "298eab57-e68f-498a-b034-ceca2d816398",
   "metadata": {},
   "source": [
    "### Densifying Model"
   ]
  },
  {
   "cell_type": "code",
   "execution_count": 11,
   "id": "c4235207-2a0a-49e2-8396-2627e9110e27",
   "metadata": {},
   "outputs": [],
   "source": [
    "def densify_state_dict(state_dict: Dict) -> Dict:\n",
    "    state_dict = copy.deepcopy(state_dict)\n",
    "    # layer 3-7\n",
    "    for num in range(5):\n",
    "        conv_layer = state_dict.get('conv{}.weight'.format(num+3))\n",
    "        bn_weight = state_dict.get('bn{}.weight'.format(num+3))\n",
    "        bn_bias = state_dict.get('bn{}.bias'.format(num+3))\n",
    "        bn_running_mean = state_dict.get('bn{}.running_mean'.format(num+3))\n",
    "        bn_running_var = state_dict.get('bn{}.running_var'.format(num+3))\n",
    "\n",
    "        # calc L1 norm of all output channels\n",
    "        idxs = []\n",
    "        out_channels_num = conv_layer.shape[0]\n",
    "        for out_channel in range(out_channels_num):\n",
    "            out_channel_l1_norm = conv_layer[out_channel].cpu().abs().sum().item()\n",
    "    \n",
    "            # get indices of not-zeroed out-channels   \n",
    "            if out_channel_l1_norm != 0:\n",
    "                idxs.append(out_channel)\n",
    "        \n",
    "        conv_layer = conv_layer[idxs,:,:,:]\n",
    "        bn_weight = bn_weight[idxs]\n",
    "        bn_bias = bn_bias[idxs]\n",
    "        bn_running_mean = bn_running_mean[idxs]\n",
    "        bn_running_var = bn_running_var[idxs]\n",
    "    \n",
    "        # update state dict\n",
    "        state_dict['conv{}.weight'.format(num+3)] = conv_layer\n",
    "        state_dict['bn{}.weight'.format(num+3)] = bn_weight\n",
    "        state_dict['bn{}.bias'.format(num+3)] = bn_bias\n",
    "        state_dict['bn{}.running_mean'.format(num+3)] = bn_running_mean\n",
    "        state_dict['bn{}.running_var'.format(num+3)] = bn_running_var\n",
    "        \n",
    "        # prune input layer of next conv layer + update state dict\n",
    "        conv_layer_next = state_dict.get('conv{}.weight'.format(num+3+1))\n",
    "        conv_layer_next = conv_layer_next[:,idxs,:,:]\n",
    "        state_dict['conv{}.weight'.format(num+3+1)] = conv_layer_next\n",
    "    \n",
    "    return state_dict"
   ]
  },
  {
   "cell_type": "code",
   "execution_count": 12,
   "id": "dfbb8e7a-dfdf-4e79-83ef-0d9da69d57d8",
   "metadata": {},
   "outputs": [],
   "source": [
    "def densify_fused_state_dict(state_dict: Dict) -> Dict:\n",
    "    state_dict = copy.deepcopy(state_dict)\n",
    "    # layer 3-7\n",
    "    for num in range(5):\n",
    "        conv_layer = state_dict.get('conv{}.weight'.format(num+3))\n",
    "        conv_bias = state_dict.get('conv{}.bias'.format(num+3))\n",
    "\n",
    "        # calc L1 norm of all output channels\n",
    "        idxs = []\n",
    "        out_channels_num = conv_layer.shape[0]\n",
    "        for out_channel in range(out_channels_num):\n",
    "            out_channel_l1_norm = conv_layer[out_channel].cpu().abs().sum().item()\n",
    "    \n",
    "            # get indices of not-zeroed out-channels   \n",
    "            if out_channel_l1_norm != 0:\n",
    "                idxs.append(out_channel)\n",
    "        \n",
    "        conv_layer = conv_layer[idxs,:,:,:]\n",
    "        conv_bias = conv_bias[idxs]\n",
    "    \n",
    "        # update state dict\n",
    "        state_dict['conv{}.weight'.format(num+3)] = conv_layer\n",
    "        state_dict['conv{}.bias'.format(num+3)] = conv_bias\n",
    "        \n",
    "        # prune input layer of next conv layer + update state dict\n",
    "        conv_layer_next = state_dict.get('conv{}.weight'.format(num+3+1))\n",
    "        conv_layer_next = conv_layer_next[:,idxs,:,:]\n",
    "        state_dict['conv{}.weight'.format(num+3+1)] = conv_layer_next\n",
    "    \n",
    "    return state_dict"
   ]
  },
  {
   "cell_type": "markdown",
   "id": "e61ec426-1766-4d07-bd55-2c70628807b0",
   "metadata": {},
   "source": [
    "## Training Functions"
   ]
  },
  {
   "cell_type": "markdown",
   "id": "fa85f2fd-53dd-46ac-af95-c81782316728",
   "metadata": {},
   "source": [
    "### Dataset"
   ]
  },
  {
   "cell_type": "code",
   "execution_count": 13,
   "id": "467ea9ec-7d97-43e5-a0aa-25d0e260d174",
   "metadata": {},
   "outputs": [],
   "source": [
    "def split_dataset_custom(dataset: torch.utils.data.Dataset, train_ratio: float, test_ratio: float, validation_ratio: float, pipeline=None):\n",
    "    if (train_ratio + validation_ratio + test_ratio != 1):\n",
    "        raise ValueError(\"The sum of the ratios must be equal to 1.\")\n",
    "\n",
    "    dataset_size = len(dataset)\n",
    "    indices = list(range(dataset_size))\n",
    "\n",
    "    # Step 2: Split into train+validation and test\n",
    "    train_validation_indices, test_indices = train_test_split(indices, test_size=int(test_ratio*dataset_size), random_state=42)\n",
    "    # Step 3: Split train+validation into train and val\n",
    "    train_indices, validation_indices = train_test_split(train_validation_indices, test_size=int(validation_ratio*dataset_size), random_state=42)\n",
    "\n",
    "    # Create Subsets\n",
    "    train_dataset = Subset(dataset, train_indices)\n",
    "    validation_dataset = Subset(dataset, validation_indices)\n",
    "    test_dataset = Subset(dataset, test_indices)\n",
    "\n",
    "    if pipeline:\n",
    "        train_dataset.transform = pipeline\n",
    "\n",
    "    return train_dataset, validation_dataset, test_dataset"
   ]
  },
  {
   "cell_type": "markdown",
   "id": "8a916f72-ec14-4e34-ab44-bc15124d6805",
   "metadata": {},
   "source": [
    "### Early Stopping"
   ]
  },
  {
   "cell_type": "code",
   "execution_count": 14,
   "id": "4f4eada1-c584-47a6-8aaa-bad3950d5254",
   "metadata": {},
   "outputs": [],
   "source": [
    "class EarlyStopping:\n",
    "    def __init__(self, patience=5, verbose=False, delta=0,\n",
    "                 path='./pruning_save/checkpoint.pt',\n",
    "                 best_model_path='./pruning_save/voc_fine_tuned.pt'):\n",
    "        \"\"\"\n",
    "        Args:\n",
    "            patience (int): How long to wait after last improvement.\n",
    "            verbose (bool): If True, prints a message for each validation metric improvement.\n",
    "            delta (float): Minimum change in the monitored metric to qualify as an improvement.\n",
    "            path (str): Path to save the best model checkpoint.\n",
    "        \"\"\"\n",
    "        self.patience = patience\n",
    "        self.verbose = verbose\n",
    "        self.delta = delta\n",
    "        self.path = path\n",
    "        self.best_model_path = best_model_path\n",
    "        self.counter = 0\n",
    "        self.best_score = None\n",
    "        self.early_stop = False\n",
    "        self.avg_precision_min = 0 # Track the minimum average precision\n",
    "\n",
    "    def __call__(self, avg_precision, model):\n",
    "        score = avg_precision  # Positive because we maximize AP\n",
    "\n",
    "        if self.best_score is None:\n",
    "            self.best_score = score\n",
    "            self.save_checkpoint(avg_precision, model)\n",
    "        elif score < self.best_score + self.delta:\n",
    "            self.counter += 1\n",
    "            if self.verbose:\n",
    "                print(f\"EarlyStopping counter: {self.counter} out of {self.patience}\")\n",
    "            if self.counter >= self.patience:\n",
    "                self.early_stop = True\n",
    "                torch.save(model.state_dict(), self.best_model_path)\n",
    "        else:\n",
    "            self.best_score = score\n",
    "            self.save_checkpoint(avg_precision, model)\n",
    "            self.counter = 0\n",
    "\n",
    "    def save_checkpoint(self, avg_precision, model):\n",
    "        \"\"\"Save model when average precision increases.\"\"\"\n",
    "        if self.verbose:\n",
    "            print(f\"Average Precision increased ({self.avg_precision_min:.6f} --> {avg_precision:.6f}). Saving model...\")\n",
    "        torch.save(model.state_dict(), self.path)\n",
    "        self.avg_precision_min = avg_precision"
   ]
  },
  {
   "cell_type": "markdown",
   "id": "79097778-ea1b-40e9-9115-301f6b1ef700",
   "metadata": {},
   "source": [
    "### train, validate and test"
   ]
  },
  {
   "cell_type": "code",
   "execution_count": 15,
   "id": "db833cda-8b0b-412f-bfab-fe13d9a6828b",
   "metadata": {},
   "outputs": [],
   "source": [
    "def train(net: nn.Module, data_loader: torch.utils.data.DataLoader, optimizer, criterion, device):\n",
    "    \"\"\"\n",
    "    Description:\n",
    "    This function trains the network for one epoch and returns average loss.\n",
    "\n",
    "    Args:\n",
    "    net: the network to train\n",
    "    data_loader: the data loader for the training set\n",
    "    optimizer: the optimizer to use for training\n",
    "    criterion: the loss function to use for training\n",
    "    device: the device to use for training\n",
    "    \"\"\"\n",
    "\n",
    "    total_loss = 0\n",
    "\n",
    "    net.train()\n",
    "    # Move weights to device\n",
    "    net.to(device)\n",
    "\n",
    "    for idx, (input, target) in enumerate(data_loader):\n",
    "        # Move Inputs and targets to Device\n",
    "        input  = input.to(device)\n",
    "        target = target.to(device)\n",
    "        optimizer.zero_grad()\n",
    "        #Yolo head is implemented in the loss for training, therefore yolo=False\n",
    "        output = net(input, yolo=False)\n",
    "        loss, _ = criterion(output, target)\n",
    "        loss.backward()\n",
    "        optimizer.step()\n",
    "\n",
    "        total_loss += loss.item()\n",
    "\n",
    "    average_loss = total_loss / len(data_loader)\n",
    "\n",
    "    return average_loss"
   ]
  },
  {
   "cell_type": "code",
   "execution_count": 16,
   "id": "afa80e9f-96b5-49b0-a6fd-834255125b4c",
   "metadata": {},
   "outputs": [],
   "source": [
    "def validate(net: nn.Module, data_loader: torch.utils.data.DataLoader, device):\n",
    "    \"\"\"\n",
    "    Description:\n",
    "    This function is used to validate the network. It is currently needed for\n",
    "    early stopping and learning rate adjustment.\n",
    "\n",
    "    Args:\n",
    "    net: the network to test\n",
    "    data_loader: the data loader for the test set\n",
    "    device: the device to use for training\n",
    "    \"\"\"\n",
    "\n",
    "    eval_precision = []\n",
    "    eval_recall = []\n",
    "\n",
    "    net.eval()\n",
    "    # Move weights to device\n",
    "    net.to(device)\n",
    "\n",
    "    with torch.no_grad():\n",
    "        for idx, (input, target) in enumerate(data_loader):\n",
    "            input  = input.to(device)\n",
    "            target = target.to(device)\n",
    "            output = net(input, yolo=True)\n",
    "            #The right threshold values can be adjusted for the target application\n",
    "            output = filter_boxes(output, CONFIDENCE_THRESHOLD)\n",
    "            output = nms(output, NMS_THRESHOLD)\n",
    "            if idx == 0:\n",
    "                input  = input.to(torch.device('cpu'))\n",
    "                target = target.to(torch.device('cpu'))\n",
    "                input  = input.to(device)\n",
    "                target = target.to(device)\n",
    "            # Calculate precision and recall for each sample\n",
    "            for i in range(len(target)):\n",
    "                precision, recall = precision_recall_levels(target[i], output[i])\n",
    "                eval_precision.append(precision)\n",
    "                eval_recall.append(recall)\n",
    "\n",
    "    # Calculate average precision with collected samples\n",
    "    average_precision = ap(eval_precision, eval_recall)\n",
    "    # Plot ROC\n",
    "    # display_roc(eval_precision, eval_recall)\n",
    "\n",
    "    return average_precision"
   ]
  },
  {
   "cell_type": "code",
   "execution_count": 17,
   "id": "7466b150-033b-4d4d-bc8d-dda0932a627d",
   "metadata": {},
   "outputs": [],
   "source": [
    "def test(net: nn.Module, data_loader: torch.utils.data.DataLoader, device, best_model_path):\n",
    "    \"\"\"\n",
    "    Description:\n",
    "    This function tests the network.\n",
    "\n",
    "    Args:\n",
    "    net: the network to test\n",
    "    data_loader: the data loader for the test set\n",
    "    device: the device to use for training\n",
    "    num_validation_samples: the number of passed images to the validate function\n",
    "    \"\"\"\n",
    "\n",
    "    test_precision = []\n",
    "    test_recall = []\n",
    "\n",
    "    # Load weights and move them to device\n",
    "    sd = torch.load(best_model_path, weights_only=True)\n",
    "    net.load_state_dict(sd)\n",
    "    net.to(device)\n",
    "    net.eval()\n",
    "\n",
    "    with torch.no_grad():\n",
    "        for idx, (input, target) in enumerate(data_loader):\n",
    "            input  = input.to(device)\n",
    "            target = target.to(device)\n",
    "            output = net(input, yolo=True)\n",
    "            #The right threshold values can be adjusted for the target application\n",
    "            output = filter_boxes(output, CONFIDENCE_THRESHOLD)\n",
    "            output = nms(output, NMS_THRESHOLD)\n",
    "            # Calculate precision and recall for each sample\n",
    "            for i in range(len(target)):\n",
    "                precision, recall = precision_recall_levels(target[i], output[i])\n",
    "                test_precision.append(precision)\n",
    "                test_recall.append(recall)\n",
    "\n",
    "    # Calculate average precision with collected samples\n",
    "    average_precision = ap(test_precision, test_recall)\n",
    "    # Plot ROC\n",
    "    # display_roc(test_precision, test_recall)\n",
    "\n",
    "    return average_precision"
   ]
  },
  {
   "cell_type": "markdown",
   "id": "c280febc-5537-465a-937b-c2c842876b31",
   "metadata": {},
   "source": [
    "### Test function for scratch model"
   ]
  },
  {
   "cell_type": "code",
   "execution_count": 18,
   "id": "dcba110d-0ea7-405e-b394-605d4f96ee4b",
   "metadata": {},
   "outputs": [],
   "source": [
    "def test_scratch(net: nn.Module, sd, data_loader: torch.utils.data.DataLoader, device):\n",
    "    \"\"\"\n",
    "    Description:\n",
    "    This function tests the network.\n",
    "\n",
    "    Args:\n",
    "    net: the network to test\n",
    "    data_loader: the data loader for the test set\n",
    "    device: the device to use for training\n",
    "    num_validation_samples: the number of passed images to the validate function\n",
    "    \"\"\"\n",
    "\n",
    "    test_precision = []\n",
    "    test_recall = []\n",
    "\n",
    "    # Load weights and move them to device\n",
    "    net.load_state_dict(sd)\n",
    "    net.to(device)\n",
    "    net.eval()\n",
    "\n",
    "    with torch.no_grad():\n",
    "        for idx, (input, target) in enumerate(data_loader):\n",
    "            input  = input.to(device)\n",
    "            target = target.to(device)\n",
    "            output = net(input, yolo=True)\n",
    "            #The right threshold values can be adjusted for the target application\n",
    "            output = filter_boxes(output, CONFIDENCE_THRESHOLD)\n",
    "            output = nms(output, NMS_THRESHOLD)\n",
    "            # Calculate precision and recall for each sample\n",
    "            for i in range(len(target)):\n",
    "                precision, recall = precision_recall_levels(target[i], output[i])\n",
    "                test_precision.append(precision)\n",
    "                test_recall.append(recall)\n",
    "\n",
    "    # Calculate average precision with collected samples\n",
    "    average_precision = ap(test_precision, test_recall)\n",
    "    # Plot ROC\n",
    "    # display_roc(test_precision, test_recall)\n",
    "\n",
    "    return average_precision"
   ]
  },
  {
   "cell_type": "markdown",
   "id": "315c5f5f-853c-4d08-a017-048b09bcba3d",
   "metadata": {},
   "source": [
    "### Fine Tuning"
   ]
  },
  {
   "cell_type": "code",
   "execution_count": 19,
   "id": "bae8a4b8-671f-445f-a630-a24d4f64498c",
   "metadata": {},
   "outputs": [],
   "source": [
    "def fine_tune(net: nn.Module,\n",
    "              sd,\n",
    "              data_loader: torch.utils.data.DataLoader,\n",
    "              validation_loader: torch.utils.data.DataLoader,\n",
    "              test_loader: torch.utils.data.DataLoader):\n",
    "\n",
    "    if torch.cuda.is_available():\n",
    "        torch_device = torch.device(\"cuda\")\n",
    "    else:\n",
    "        torch_device = torch.device(\"cpu\")\n",
    "\n",
    "    eval_AP = []\n",
    "    epoch_loss_list = []\n",
    "\n",
    "    #We load all parameters from the pretrained dict except for the last layer\n",
    "    net.load_state_dict({k: v for k, v in sd.items() if not '9' in k}, strict=False)\n",
    "\n",
    "    #We only train the last layer (conv9)\n",
    "    for key, param in net.named_parameters():\n",
    "        if any(x in key for x in ['1', '2', '3', '4', '5', '6', '7']):\n",
    "            param.requires_grad = False\n",
    "\n",
    "    # Definition of the loss\n",
    "    criterion = YoloLoss(anchors=net.anchors)\n",
    "\n",
    "    # Definition of the optimizer\n",
    "    learning_rate = 0.001\n",
    "    optimizer = torch.optim.Adam(filter(lambda x: x.requires_grad, net.parameters()), lr=learning_rate)\n",
    "\n",
    "    # Initialize EarlyStopping\n",
    "    if True:\n",
    "        early_stopping = EarlyStopping(patience=5, verbose=True, path=WEIGHTS_PATH+\"checkpoint.pt\", best_model_path=WEIGHTS_PATH+\"voc_fine_tuned.pt\")\n",
    "\n",
    "    for epoch in range(NUM_EPOCHS):\n",
    "        # print(\"****************************************************************************************************************************\")\n",
    "        # print(f\"Epoch: {epoch+1}/{NUM_EPOCHS}\")\n",
    "\n",
    "        # Train the network\n",
    "        average_loss = train(net, data_loader, optimizer, criterion, torch_device)\n",
    "        epoch_loss_list.append(average_loss)\n",
    "\n",
    "        # Validate the network\n",
    "        average_precision = validate(net, validation_loader, torch_device)\n",
    "        eval_AP.append(average_precision)\n",
    "        # print(f'Average Precision in the last 5 Epochs: {eval_AP[-5:]}')\n",
    "        # print(f'Average Precision This Epoch: {average_precision:.3%}')\n",
    "\n",
    "        # Stop training in case there is no further improvement of AP\n",
    "        if True:\n",
    "            early_stopping(average_precision, net)\n",
    "            if early_stopping.early_stop:\n",
    "                # print(\"Early stopping triggered. Stopping training.\")\n",
    "                break\n",
    "\n",
    "    if True:\n",
    "        if not early_stopping.early_stop:\n",
    "            torch.save(net.state_dict(), WEIGHTS_PATH + \"voc_fine_tuned.pt\")\n",
    "            # print(\"No early stopping triggered. Training completed.\")\n",
    "\n",
    "    best_validation_average_precision = max(eval_AP)\n",
    "    # Test the network\n",
    "    test_average_precision = test(net, test_loader, torch_device, best_model_path=WEIGHTS_PATH+\"voc_fine_tuned.pt\")\n",
    "    # print(f'Best Validation Average Precision: {best_validation_average_precision:.3%}')\n",
    "    # print(f'Test Average Precision:            {test_average_precision:.3%}')\n",
    "    # print(\"****************************************************************************************************************************\")\n",
    "\n",
    "    # Plot the loss curve\n",
    "    # plot_loss(epoch_loss_list)\n",
    "\n",
    "    torch.cuda.empty_cache()\n",
    "\n",
    "    sd_best = torch.load(WEIGHTS_PATH+\"voc_fine_tuned.pt\", map_location=\"cuda\")\n",
    "    net.load_state_dict(sd_best, strict=False)\n",
    "    \n",
    "    return best_validation_average_precision, test_average_precision, net.state_dict(), epoch_loss_list[-1]"
   ]
  },
  {
   "cell_type": "markdown",
   "id": "1efb5961-f8a2-43e3-9541-e9ac2aaa6c2f",
   "metadata": {},
   "source": [
    "# Dataset Generation"
   ]
  },
  {
   "cell_type": "code",
   "execution_count": 20,
   "id": "a4e5c1a2-06b3-4d5c-8175-2b4b77a23d1f",
   "metadata": {},
   "outputs": [],
   "source": [
    "pipeline = v2.Compose([\n",
    "    v2.RandomPhotometricDistort(p=0.5),\n",
    "    v2.RandomHorizontalFlip(p=0.5),\n",
    "])"
   ]
  },
  {
   "cell_type": "code",
   "execution_count": 21,
   "id": "7447cca3-e4b1-4538-a3a7-4c687ec64b15",
   "metadata": {},
   "outputs": [
    {
     "name": "stdout",
     "output_type": "stream",
     "text": [
      "Dataset already exists at ./data/VOCdevkit/VOC2012. Skipping download.\n",
      "Dataset has to be split. Define the transform member variable for training dataset separately.\n",
      "48\n",
      "11\n",
      "11\n"
     ]
    }
   ],
   "source": [
    "dataset = VOCDataset(root=\"./data\", year=\"2012\", image_set='trainval', transform=None, only_person=True) # Contains 4374 pictures\n",
    "\n",
    "train_dataset, validation_dataset, test_dataset = split_dataset_custom(dataset,\n",
    "                                                                       train_ratio=TRAIN_DATASET_RATIO,\n",
    "                                                                       test_ratio=TEST_DATASET_RATIO,\n",
    "                                                                       validation_ratio=VALIDATION_DATASET_RATIO,\n",
    "                                                                       pipeline=pipeline)\n",
    "\n",
    "train_loader      = torch.utils.data.DataLoader(dataset=train_dataset, batch_size=TRAIN_BATCH_SIZE, shuffle=True)\n",
    "validation_loader = torch.utils.data.DataLoader(dataset=validation_dataset, batch_size=VALIDATION_BATCH_SIZE, shuffle=True)\n",
    "test_loader       = torch.utils.data.DataLoader(dataset=test_dataset, batch_size=TEST_BATCH_SIZE, shuffle=True)\n",
    "\n",
    "print(len(train_loader))\n",
    "print(len(validation_loader))\n",
    "print(len(test_loader))"
   ]
  },
  {
   "cell_type": "markdown",
   "id": "67f9d95e-c006-4723-9073-91604efce7e9",
   "metadata": {},
   "source": [
    "# Finetuned model"
   ]
  },
  {
   "cell_type": "code",
   "execution_count": 22,
   "id": "28c9316f-4639-4c11-a5b1-45d103cd58a0",
   "metadata": {},
   "outputs": [
    {
     "data": {
      "text/plain": [
       "<All keys matched successfully>"
      ]
     },
     "execution_count": 22,
     "metadata": {},
     "output_type": "execute_result"
    }
   ],
   "source": [
    "torch_device = torch.device(\"cuda\" if torch.cuda.is_available() else \"cpu\")\n",
    "\n",
    "sd = torch.load('./weights/voc_fine_tuned.pt', weights_only=True, map_location=torch_device)\n",
    "\n",
    "model = TinyYoloV2(num_classes=1)\n",
    "model.load_state_dict(sd, strict=False)"
   ]
  },
  {
   "cell_type": "code",
   "execution_count": 23,
   "id": "eac2357b-bb4b-4c26-a6bf-ced77637174b",
   "metadata": {},
   "outputs": [
    {
     "name": "stdout",
     "output_type": "stream",
     "text": [
      "\n",
      "Inference Time before Pruning: 4.24\n"
     ]
    },
    {
     "name": "stderr",
     "output_type": "stream",
     "text": [
      "/opt/conda/lib/python3.11/site-packages/torch/functional.py:507: UserWarning: torch.meshgrid: in an upcoming release, it will be required to pass the indexing argument. (Triggered internally at ../aten/src/ATen/native/TensorShape.cpp:3549.)\n",
      "  return _VF.meshgrid(tensors, **kwargs)  # type: ignore[attr-defined]\n"
     ]
    }
   ],
   "source": [
    "print(f\"\\nInference Time before Pruning: {net_time(model, test_loader):.3}\")"
   ]
  },
  {
   "cell_type": "markdown",
   "id": "a3d26d11-c7b4-42cd-b21e-e8dbf50a34d1",
   "metadata": {},
   "source": [
    "## L1 Pruning"
   ]
  },
  {
   "cell_type": "code",
   "execution_count": 23,
   "id": "d6d01938-3282-4b3b-81cc-6d122e8833a1",
   "metadata": {},
   "outputs": [
    {
     "name": "stderr",
     "output_type": "stream",
     "text": [
      "  0%|          | 0/15 [00:00<?, ?it/s]/opt/conda/lib/python3.11/site-packages/torch/functional.py:507: UserWarning: torch.meshgrid: in an upcoming release, it will be required to pass the indexing argument. (Triggered internally at ../aten/src/ATen/native/TensorShape.cpp:3549.)\n",
      "  return _VF.meshgrid(tensors, **kwargs)  # type: ignore[attr-defined]\n",
      "100%|██████████| 15/15 [58:45<00:00, 235.00s/it] \n"
     ]
    },
    {
     "data": {
      "image/png": "[encoded data removed]",
      "text/plain": [
       "<Figure size 640x480 with 1 Axes>"
      ]
     },
     "metadata": {},
     "output_type": "display_data"
    }
   ],
   "source": [
    "ratios = np.linspace(0, 0.8, 15)\n",
    "\n",
    "sd = torch.load('./weights/voc_fine_tuned.pt', map_location=torch_device)\n",
    "ap_pruned, ap_densed, idxs = [], [], []\n",
    "for idx, ratio in tqdm.tqdm(enumerate(ratios), total=len(ratios)):\n",
    "    # pruned model\n",
    "    sd_pruned = l1_structured_pruning(sd, ratio)\n",
    "    net = TinyYoloV2(num_classes=1)\n",
    "    ap_pruned.append(test_scratch(net, sd_pruned, test_loader, torch_device))\n",
    "\n",
    "    # densed model\n",
    "    sd_densed = densify_state_dict(sd_pruned)\n",
    "    net = PrunedTinyYoloV2(num_classes=1)\n",
    "    ap_densed.append(test_scratch(net, sd_densed, test_loader, torch_device))\n",
    "\n",
    "    idxs.append(idx)\n",
    "    \n",
    "plot([(idxs, ap_pruned, 'ap_pruned'), (idxs, ap_densed, 'ap_densed')], xlabel='idxs', save_path='ap_l1_finetuned3-7.png')"
   ]
  },
  {
   "cell_type": "code",
   "execution_count": 28,
   "id": "a84a5e5b-9e19-490a-986a-cebe2a1e0bd1",
   "metadata": {},
   "outputs": [
    {
     "name": "stdout",
     "output_type": "stream",
     "text": [
      "19\n",
      "19\n",
      "19\n"
     ]
    }
   ],
   "source": [
    "print(len(ap_pruned))\n",
    "print(len(ap_densed))\n",
    "print(len(idxs))"
   ]
  },
  {
   "cell_type": "code",
   "execution_count": null,
   "id": "ab8e32c6-d3b5-4b23-b5f6-6066e4d73a79",
   "metadata": {},
   "outputs": [],
   "source": [
    "model_densed = PrunedTinyYoloV2(num_classes=1)\n",
    "model_densed.load_state_dict(sd_densed, strict=False)\n",
    "print(f\"\\nInference Time after Densifying: {net_time(model_densed, test_loader):.3}\")"
   ]
  },
  {
   "cell_type": "markdown",
   "id": "ffcb04c8-6e5b-4ffe-8515-2b6efa5888aa",
   "metadata": {},
   "source": [
    "## Re-Training"
   ]
  },
  {
   "cell_type": "code",
   "execution_count": null,
   "id": "c49733e0-1848-4dab-8655-3b2d6ef9ad49",
   "metadata": {},
   "outputs": [
    {
     "name": "stderr",
     "output_type": "stream",
     "text": [
      "  0%|          | 0/19 [00:00<?, ?it/s]"
     ]
    },
    {
     "name": "stdout",
     "output_type": "stream",
     "text": [
      "Average Precision increased (0.000000 --> 0.335309). Saving model...\n",
      "Average Precision increased (0.335309 --> 0.362410). Saving model...\n",
      "EarlyStopping counter: 1 out of 5\n",
      "Average Precision increased (0.362410 --> 0.385104). Saving model...\n",
      "Average Precision increased (0.385104 --> 0.386614). Saving model...\n",
      "Average Precision increased (0.386614 --> 0.391223). Saving model...\n",
      "Average Precision increased (0.391223 --> 0.402681). Saving model...\n",
      "EarlyStopping counter: 1 out of 5\n",
      "EarlyStopping counter: 2 out of 5\n",
      "EarlyStopping counter: 3 out of 5\n",
      "EarlyStopping counter: 4 out of 5\n",
      "EarlyStopping counter: 5 out of 5\n"
     ]
    },
    {
     "name": "stderr",
     "output_type": "stream",
     "text": [
      "  5%|▌         | 1/19 [51:18<15:23:34, 3078.58s/it]"
     ]
    },
    {
     "name": "stdout",
     "output_type": "stream",
     "text": [
      "Average Precision increased (0.000000 --> 0.318606). Saving model...\n",
      "Average Precision increased (0.318606 --> 0.366937). Saving model...\n",
      "EarlyStopping counter: 1 out of 5\n",
      "Average Precision increased (0.366937 --> 0.384797). Saving model...\n",
      "Average Precision increased (0.384797 --> 0.404810). Saving model...\n",
      "EarlyStopping counter: 1 out of 5\n",
      "EarlyStopping counter: 2 out of 5\n",
      "EarlyStopping counter: 3 out of 5\n",
      "EarlyStopping counter: 4 out of 5\n",
      "EarlyStopping counter: 5 out of 5\n"
     ]
    },
    {
     "name": "stderr",
     "output_type": "stream",
     "text": [
      " 11%|█         | 2/19 [1:34:08<13:07:26, 2779.18s/it]"
     ]
    },
    {
     "name": "stdout",
     "output_type": "stream",
     "text": [
      "Average Precision increased (0.000000 --> 0.273469). Saving model...\n",
      "Average Precision increased (0.273469 --> 0.308099). Saving model...\n",
      "Average Precision increased (0.308099 --> 0.342184). Saving model...\n",
      "Average Precision increased (0.342184 --> 0.356654). Saving model...\n",
      "Average Precision increased (0.356654 --> 0.385590). Saving model...\n",
      "EarlyStopping counter: 1 out of 5\n",
      "EarlyStopping counter: 2 out of 5\n",
      "EarlyStopping counter: 3 out of 5\n",
      "EarlyStopping counter: 4 out of 5\n",
      "EarlyStopping counter: 5 out of 5\n"
     ]
    },
    {
     "name": "stderr",
     "output_type": "stream",
     "text": [
      " 16%|█▌        | 3/19 [2:17:09<11:57:00, 2688.79s/it]"
     ]
    },
    {
     "name": "stdout",
     "output_type": "stream",
     "text": [
      "Average Precision increased (0.000000 --> 0.265218). Saving model...\n",
      "Average Precision increased (0.265218 --> 0.306253). Saving model...\n",
      "Average Precision increased (0.306253 --> 0.322441). Saving model...\n",
      "Average Precision increased (0.322441 --> 0.350701). Saving model...\n",
      "Average Precision increased (0.350701 --> 0.381960). Saving model...\n",
      "EarlyStopping counter: 1 out of 5\n",
      "EarlyStopping counter: 2 out of 5\n",
      "EarlyStopping counter: 3 out of 5\n",
      "EarlyStopping counter: 4 out of 5\n",
      "EarlyStopping counter: 5 out of 5\n"
     ]
    },
    {
     "name": "stderr",
     "output_type": "stream",
     "text": [
      " 21%|██        | 4/19 [2:59:32<10:57:50, 2631.38s/it]"
     ]
    },
    {
     "name": "stdout",
     "output_type": "stream",
     "text": [
      "Average Precision increased (0.000000 --> 0.263129). Saving model...\n",
      "Average Precision increased (0.263129 --> 0.309128). Saving model...\n",
      "Average Precision increased (0.309128 --> 0.313458). Saving model...\n",
      "Average Precision increased (0.313458 --> 0.317194). Saving model...\n",
      "Average Precision increased (0.317194 --> 0.355814). Saving model...\n",
      "Average Precision increased (0.355814 --> 0.373647). Saving model...\n",
      "EarlyStopping counter: 1 out of 5\n",
      "EarlyStopping counter: 2 out of 5\n",
      "EarlyStopping counter: 3 out of 5\n",
      "EarlyStopping counter: 4 out of 5\n",
      "EarlyStopping counter: 5 out of 5\n"
     ]
    },
    {
     "name": "stderr",
     "output_type": "stream",
     "text": [
      " 26%|██▋       | 5/19 [3:46:13<10:28:14, 2692.47s/it]"
     ]
    },
    {
     "name": "stdout",
     "output_type": "stream",
     "text": [
      "Average Precision increased (0.000000 --> 0.261370). Saving model...\n",
      "Average Precision increased (0.261370 --> 0.319211). Saving model...\n",
      "EarlyStopping counter: 1 out of 5\n",
      "Average Precision increased (0.319211 --> 0.319668). Saving model...\n",
      "Average Precision increased (0.319668 --> 0.371330). Saving model...\n",
      "Average Precision increased (0.371330 --> 0.375264). Saving model...\n"
     ]
    }
   ],
   "source": [
    "ratios = [0.0] + [0.05 for _ in range(18)]\n",
    "\n",
    "torch_device = torch.device(\"cuda\")\n",
    "sd = torch.load('./weights/voc_fine_tuned.pt', map_location=torch_device)\n",
    "ap_from_scratch, ap_fine_tuned, macs, train_loss = [], [], [], []\n",
    "\n",
    "# from scratch\n",
    "for ratio in tqdm.tqdm(ratios):\n",
    "    # Setting Filters to zero\n",
    "    sd = l1_structured_pruning(sd, ratio)\n",
    "    \n",
    "    # Densifying the state dict\n",
    "    sd = densify_state_dict(copy.deepcopy(sd))\n",
    "    \n",
    "    # AP calculation\n",
    "    net = PrunedTinyYoloV2(num_classes=1)\n",
    "    ap_from_scratch.append(test_scratch(net, sd, test_loader, torch_device))\n",
    "\n",
    "# Retrain pruned layers\n",
    "sd = torch.load('./weights/voc_fine_tuned.pt', map_location=torch_device)\n",
    "prev = 0.65\n",
    "for ratio in tqdm.tqdm(ratios):\n",
    "    # Setting Filters to zero\n",
    "    sd = l1_structured_pruning(sd, ratio)\n",
    "    \n",
    "    # Densifying the state dict\n",
    "    sd = densify_state_dict(copy.deepcopy(sd))\n",
    "    \n",
    "    # We fine tune the network\n",
    "    net = PrunedTinyYoloV2(num_classes=1)\n",
    "    _, ap_ft, sd, loss = fine_tune(net, sd, train_loader, validation_loader, test_loader)\n",
    "    ap_fine_tuned.append(ap_ft)\n",
    "    train_loss.append(loss)\n",
    "    macs.append(net_macs(PrunedTinyYoloV2, sd))\n",
    "\n",
    "    # Save fine tuned densed network\n",
    "    torch.save(sd, f\"./weights3-7/voc_fine_tuned_pruned3-7{round(prev+ratio, 3)}.pt\")\n",
    "    prev=prev+ratio\n",
    "    \n",
    "plot([(macs, ap_from_scratch, 'ap_scratch'),\n",
    "      (macs, ap_fine_tuned, 'ap_fine_tuned')],\n",
    "      xlabel='MACs [relative to max]', save_path='ap_macs_finetuned3-7.png')"
   ]
  },
  {
   "cell_type": "code",
   "execution_count": 40,
   "id": "690d864c-c794-48be-90c7-f54126c204ff",
   "metadata": {},
   "outputs": [
    {
     "name": "stdout",
     "output_type": "stream",
     "text": [
      "19\n",
      "19\n",
      "19\n"
     ]
    },
    {
     "data": {
      "image/png": "[encoded data removed]",
      "text/plain": [
       "<Figure size 640x480 with 1 Axes>"
      ]
     },
     "metadata": {},
     "output_type": "display_data"
    }
   ],
   "source": [
    "print(len(ap_from_scratch))\n",
    "print(len(ap_fine_tuned))\n",
    "print(len(macs))\n",
    "\n",
    "plot([(macs, ap_from_scratch, 'ap_scratch'),\n",
    "      (macs, ap_fine_tuned, 'ap_fine_tuned')],\n",
    "      xlabel='MACs [relative to max]', save_path='ap_macs_finetuned3-7.png')"
   ]
  },
  {
   "cell_type": "markdown",
   "id": "3bf78048-d136-43b9-8f0e-ace9fc1a4b3c",
   "metadata": {},
   "source": [
    "# Fused model"
   ]
  },
  {
   "cell_type": "code",
   "execution_count": 27,
   "id": "9a14b343-7bf2-460b-8e6e-d3c36d23ee2e",
   "metadata": {},
   "outputs": [
    {
     "data": {
      "text/plain": [
       "<All keys matched successfully>"
      ]
     },
     "execution_count": 27,
     "metadata": {},
     "output_type": "execute_result"
    }
   ],
   "source": [
    "torch_device = torch.device(\"cuda\" if torch.cuda.is_available() else \"cpu\")\n",
    "\n",
    "sd_fused = torch.load('./weights/fused_voc_fine_tuned.pt', weights_only=True, map_location=torch_device)\n",
    "\n",
    "model_fused = FusedTinyYoloV2(num_classes=1)\n",
    "model_fused.load_state_dict(sd_fused, strict=False)"
   ]
  },
  {
   "cell_type": "code",
   "execution_count": 28,
   "id": "1e67b356-94e5-45c4-9365-5682c70873d4",
   "metadata": {},
   "outputs": [
    {
     "name": "stdout",
     "output_type": "stream",
     "text": [
      "\n",
      "Inference Time before Pruning: 3.68\n"
     ]
    }
   ],
   "source": [
    "print(f\"\\nInference Time before Pruning: {net_time(model_fused, test_loader):.3}\")"
   ]
  },
  {
   "cell_type": "markdown",
   "id": "590b8045-886a-4875-a13f-1273605c4b75",
   "metadata": {},
   "source": [
    "## L1 Pruning"
   ]
  },
  {
   "cell_type": "code",
   "execution_count": 41,
   "id": "a7614c03-4082-46aa-9d29-b36e2f762806",
   "metadata": {},
   "outputs": [
    {
     "name": "stderr",
     "output_type": "stream",
     "text": [
      "100%|██████████| 15/15 [56:14<00:00, 224.99s/it] \n"
     ]
    },
    {
     "data": {
      "image/png": "[encoded data removed]",
      "text/plain": [
       "<Figure size 640x480 with 1 Axes>"
      ]
     },
     "metadata": {},
     "output_type": "display_data"
    }
   ],
   "source": [
    "ratios = np.linspace(0, 0.8, 15)\n",
    "\n",
    "sd = torch.load('./weights/fused_voc_fine_tuned.pt', map_location=torch_device)\n",
    "ap_pruned, ap_densed, idxs = [], [], []\n",
    "for idx, ratio in tqdm.tqdm(enumerate(ratios), total=len(ratios)):\n",
    "    # pruned model\n",
    "    sd_fused_pruned = l1_structured_fused_pruning(sd, ratio)\n",
    "    net = FusedTinyYoloV2(num_classes=1)\n",
    "    ap_pruned.append(test_scratch(net, sd_fused_pruned, test_loader, torch_device))\n",
    "\n",
    "    # densed model\n",
    "    sd_fused_densed = densify_fused_state_dict(sd_fused_pruned)\n",
    "    net = PrunedFusedTinyYoloV2(num_classes=1)\n",
    "    ap_densed.append(test_scratch(net, sd_fused_densed, test_loader, torch_device))\n",
    "\n",
    "    idxs.append(idx)\n",
    "    \n",
    "plot([(idxs, ap_pruned, 'ap_pruned'), (idxs, ap_densed, 'ap_densed')], xlabel='idxs', save_path='ap_l1_fused.png')"
   ]
  },
  {
   "cell_type": "code",
   "execution_count": 42,
   "id": "b7eac44a-5d1c-449f-aa23-53350a20db84",
   "metadata": {},
   "outputs": [
    {
     "name": "stdout",
     "output_type": "stream",
     "text": [
      "[0.6620041810055146, 0.4803661540619561, 0.3707982275395839, 0.32131268224070114, 0.24816752126837202, 0.09228491296102863, 0.0920672309349641, 0.09152849105540829, 0.09113269472885718, 0.0911590171770024, 0.09106514378569991, 0.09112225437828257, 0.09090909090909091, 0.09090909090909091, 0.09090909090909091]\n",
      "[0.6620041810055145, 0.4803661208984609, 0.3707972293770057, 0.3213357642477666, 0.2481600707730298, 0.09228786049397192, 0.09206436318044696, 0.09152845231020888, 0.09113174839112999, 0.09115901199267361, 0.09106513013644046, 0.09112222712319977, 0.09090909090909091, 0.09090909090909091, 0.09090909090909091]\n",
      "[0, 1, 2, 3, 4, 5, 6, 7, 8, 9, 10, 11, 12, 13, 14]\n"
     ]
    }
   ],
   "source": [
    "print(ap_pruned)\n",
    "print(ap_densed)\n",
    "print(idxs)"
   ]
  },
  {
   "cell_type": "code",
   "execution_count": 44,
   "id": "6b8a91fa-b341-44af-9bd6-acf9febba6bb",
   "metadata": {},
   "outputs": [
    {
     "name": "stdout",
     "output_type": "stream",
     "text": [
      "\n",
      "Inference Time after Densifying: 2.88\n"
     ]
    }
   ],
   "source": [
    "model_fused_densed = PrunedFusedTinyYoloV2(num_classes=1)\n",
    "model_fused_densed.load_state_dict(sd_fused_densed, strict=False)\n",
    "print(f\"\\nInference Time after Densifying: {net_time(model_fused_densed, test_loader):.3}\")"
   ]
  },
  {
   "cell_type": "markdown",
   "id": "d615737a-f457-4a05-95ee-62afe8b04299",
   "metadata": {},
   "source": [
    "## Re-Training"
   ]
  },
  {
   "cell_type": "code",
   "execution_count": 83,
   "id": "3ff39db1-1fcb-4abf-8d95-fd4a31e5f3f0",
   "metadata": {},
   "outputs": [
    {
     "name": "stderr",
     "output_type": "stream",
     "text": [
      "  0%|          | 0/14 [00:00<?, ?it/s]"
     ]
    },
    {
     "name": "stdout",
     "output_type": "stream",
     "text": [
      "Average Precision increased (0.000000 --> 0.349992). Saving model...\n",
      "Average Precision increased (0.349992 --> 0.450042). Saving model...\n",
      "Average Precision increased (0.450042 --> 0.485865). Saving model...\n",
      "Average Precision increased (0.485865 --> 0.497467). Saving model...\n",
      "EarlyStopping counter: 1 out of 5\n",
      "Average Precision increased (0.497467 --> 0.501647). Saving model...\n",
      "Average Precision increased (0.501647 --> 0.512723). Saving model...\n",
      "EarlyStopping counter: 1 out of 5\n",
      "Average Precision increased (0.512723 --> 0.519342). Saving model...\n",
      "EarlyStopping counter: 1 out of 5\n",
      "EarlyStopping counter: 2 out of 5\n",
      "EarlyStopping counter: 3 out of 5\n",
      "EarlyStopping counter: 4 out of 5\n",
      "EarlyStopping counter: 5 out of 5\n"
     ]
    },
    {
     "name": "stderr",
     "output_type": "stream",
     "text": [
      "  7%|▋         | 1/14 [58:35<12:41:40, 3515.45s/it]"
     ]
    },
    {
     "name": "stdout",
     "output_type": "stream",
     "text": [
      "Average Precision increased (0.000000 --> 0.191861). Saving model...\n",
      "Average Precision increased (0.191861 --> 0.282417). Saving model...\n",
      "Average Precision increased (0.282417 --> 0.316082). Saving model...\n",
      "Average Precision increased (0.316082 --> 0.353567). Saving model...\n",
      "Average Precision increased (0.353567 --> 0.365738). Saving model...\n",
      "Average Precision increased (0.365738 --> 0.377381). Saving model...\n",
      "Average Precision increased (0.377381 --> 0.381521). Saving model...\n",
      "Average Precision increased (0.381521 --> 0.450295). Saving model...\n",
      "EarlyStopping counter: 1 out of 5\n",
      "EarlyStopping counter: 2 out of 5\n",
      "EarlyStopping counter: 3 out of 5\n",
      "EarlyStopping counter: 4 out of 5\n",
      "EarlyStopping counter: 5 out of 5\n"
     ]
    },
    {
     "name": "stderr",
     "output_type": "stream",
     "text": [
      " 14%|█▍        | 2/14 [1:54:01<11:20:51, 3404.26s/it]"
     ]
    },
    {
     "name": "stdout",
     "output_type": "stream",
     "text": [
      "Average Precision increased (0.000000 --> 0.091126). Saving model...\n",
      "Average Precision increased (0.091126 --> 0.091129). Saving model...\n",
      "Average Precision increased (0.091129 --> 0.091139). Saving model...\n",
      "Average Precision increased (0.091139 --> 0.091176). Saving model...\n",
      "Average Precision increased (0.091176 --> 0.091681). Saving model...\n",
      "Average Precision increased (0.091681 --> 0.091709). Saving model...\n",
      "Average Precision increased (0.091709 --> 0.092190). Saving model...\n",
      "Average Precision increased (0.092190 --> 0.092500). Saving model...\n",
      "Average Precision increased (0.092500 --> 0.318369). Saving model...\n",
      "EarlyStopping counter: 1 out of 5\n",
      "Average Precision increased (0.318369 --> 0.360661). Saving model...\n",
      "EarlyStopping counter: 1 out of 5\n",
      "EarlyStopping counter: 2 out of 5\n",
      "EarlyStopping counter: 3 out of 5\n",
      "EarlyStopping counter: 4 out of 5\n"
     ]
    },
    {
     "name": "stderr",
     "output_type": "stream",
     "text": [
      " 21%|██▏       | 3/14 [2:55:13<10:46:32, 3526.56s/it]"
     ]
    },
    {
     "name": "stdout",
     "output_type": "stream",
     "text": [
      "Average Precision increased (0.000000 --> 0.090909). Saving model...\n",
      "Average Precision increased (0.090909 --> 0.090909). Saving model...\n",
      "Average Precision increased (0.090909 --> 0.091097). Saving model...\n",
      "EarlyStopping counter: 1 out of 5\n",
      "Average Precision increased (0.091097 --> 0.091177). Saving model...\n",
      "EarlyStopping counter: 1 out of 5\n",
      "EarlyStopping counter: 2 out of 5\n",
      "EarlyStopping counter: 3 out of 5\n",
      "Average Precision increased (0.091177 --> 0.091573). Saving model...\n",
      "Average Precision increased (0.091573 --> 0.091578). Saving model...\n",
      "EarlyStopping counter: 1 out of 5\n",
      "EarlyStopping counter: 2 out of 5\n",
      "Average Precision increased (0.091578 --> 0.091620). Saving model...\n",
      "EarlyStopping counter: 1 out of 5\n",
      "Average Precision increased (0.091620 --> 0.091627). Saving model...\n"
     ]
    },
    {
     "name": "stderr",
     "output_type": "stream",
     "text": [
      " 29%|██▊       | 4/14 [3:54:52<9:51:09, 3546.94s/it] "
     ]
    },
    {
     "name": "stdout",
     "output_type": "stream",
     "text": [
      "Average Precision increased (0.000000 --> 0.091097). Saving model...\n",
      "Average Precision increased (0.091097 --> 0.091115). Saving model...\n",
      "EarlyStopping counter: 1 out of 5\n",
      "Average Precision increased (0.091115 --> 0.091128). Saving model...\n",
      "Average Precision increased (0.091128 --> 0.091210). Saving model...\n",
      "EarlyStopping counter: 1 out of 5\n",
      "EarlyStopping counter: 2 out of 5\n",
      "Average Precision increased (0.091210 --> 0.091543). Saving model...\n",
      "Average Precision increased (0.091543 --> 0.091570). Saving model...\n",
      "Average Precision increased (0.091570 --> 0.091591). Saving model...\n",
      "EarlyStopping counter: 1 out of 5\n",
      "EarlyStopping counter: 2 out of 5\n",
      "EarlyStopping counter: 3 out of 5\n",
      "EarlyStopping counter: 4 out of 5\n",
      "Average Precision increased (0.091591 --> 0.091596). Saving model...\n"
     ]
    },
    {
     "name": "stderr",
     "output_type": "stream",
     "text": [
      " 36%|███▌      | 5/14 [4:54:52<8:54:55, 3566.20s/it]"
     ]
    },
    {
     "name": "stdout",
     "output_type": "stream",
     "text": [
      "Average Precision increased (0.000000 --> 0.091110). Saving model...\n",
      "EarlyStopping counter: 1 out of 5\n",
      "Average Precision increased (0.091110 --> 0.091137). Saving model...\n",
      "Average Precision increased (0.091137 --> 0.091190). Saving model...\n",
      "Average Precision increased (0.091190 --> 0.091553). Saving model...\n",
      "EarlyStopping counter: 1 out of 5\n",
      "Average Precision increased (0.091553 --> 0.091569). Saving model...\n",
      "EarlyStopping counter: 1 out of 5\n",
      "EarlyStopping counter: 2 out of 5\n",
      "EarlyStopping counter: 3 out of 5\n",
      "EarlyStopping counter: 4 out of 5\n",
      "EarlyStopping counter: 5 out of 5\n"
     ]
    },
    {
     "name": "stderr",
     "output_type": "stream",
     "text": [
      " 43%|████▎     | 6/14 [5:42:35<7:23:37, 3327.19s/it]"
     ]
    },
    {
     "name": "stdout",
     "output_type": "stream",
     "text": [
      "Average Precision increased (0.000000 --> 0.090909). Saving model...\n",
      "Average Precision increased (0.090909 --> 0.091097). Saving model...\n",
      "EarlyStopping counter: 1 out of 5\n",
      "EarlyStopping counter: 2 out of 5\n",
      "Average Precision increased (0.091097 --> 0.091209). Saving model...\n",
      "EarlyStopping counter: 1 out of 5\n",
      "EarlyStopping counter: 2 out of 5\n",
      "Average Precision increased (0.091209 --> 0.091475). Saving model...\n",
      "Average Precision increased (0.091475 --> 0.091552). Saving model...\n",
      "EarlyStopping counter: 1 out of 5\n",
      "Average Precision increased (0.091552 --> 0.091565). Saving model...\n",
      "EarlyStopping counter: 1 out of 5\n",
      "Average Precision increased (0.091565 --> 0.091600). Saving model...\n",
      "Average Precision increased (0.091600 --> 0.091619). Saving model...\n",
      "EarlyStopping counter: 1 out of 5\n"
     ]
    },
    {
     "name": "stderr",
     "output_type": "stream",
     "text": [
      " 50%|█████     | 7/14 [6:43:35<6:40:51, 3435.99s/it]"
     ]
    },
    {
     "name": "stdout",
     "output_type": "stream",
     "text": [
      "Average Precision increased (0.000000 --> 0.091085). Saving model...\n",
      "Average Precision increased (0.091085 --> 0.091089). Saving model...\n",
      "EarlyStopping counter: 1 out of 5\n",
      "EarlyStopping counter: 2 out of 5\n",
      "Average Precision increased (0.091089 --> 0.091140). Saving model...\n",
      "Average Precision increased (0.091140 --> 0.091490). Saving model...\n",
      "EarlyStopping counter: 1 out of 5\n",
      "EarlyStopping counter: 2 out of 5\n",
      "EarlyStopping counter: 3 out of 5\n",
      "Average Precision increased (0.091490 --> 0.091561). Saving model...\n",
      "EarlyStopping counter: 1 out of 5\n",
      "EarlyStopping counter: 2 out of 5\n",
      "Average Precision increased (0.091561 --> 0.091585). Saving model...\n",
      "EarlyStopping counter: 1 out of 5\n",
      "EarlyStopping counter: 2 out of 5\n"
     ]
    },
    {
     "name": "stderr",
     "output_type": "stream",
     "text": [
      " 57%|█████▋    | 8/14 [7:44:23<5:50:20, 3503.50s/it]"
     ]
    },
    {
     "name": "stdout",
     "output_type": "stream",
     "text": [
      "Average Precision increased (0.000000 --> 0.090909). Saving model...\n",
      "Average Precision increased (0.090909 --> 0.091079). Saving model...\n",
      "EarlyStopping counter: 1 out of 5\n",
      "EarlyStopping counter: 2 out of 5\n",
      "Average Precision increased (0.091079 --> 0.091106). Saving model...\n",
      "Average Precision increased (0.091106 --> 0.091145). Saving model...\n",
      "EarlyStopping counter: 1 out of 5\n",
      "Average Precision increased (0.091145 --> 0.091506). Saving model...\n",
      "EarlyStopping counter: 1 out of 5\n",
      "EarlyStopping counter: 2 out of 5\n",
      "EarlyStopping counter: 3 out of 5\n",
      "Average Precision increased (0.091506 --> 0.091525). Saving model...\n",
      "EarlyStopping counter: 1 out of 5\n",
      "EarlyStopping counter: 2 out of 5\n",
      "Average Precision increased (0.091525 --> 0.091545). Saving model...\n"
     ]
    },
    {
     "name": "stderr",
     "output_type": "stream",
     "text": [
      " 64%|██████▍   | 9/14 [8:44:28<4:54:35, 3535.07s/it]"
     ]
    },
    {
     "name": "stdout",
     "output_type": "stream",
     "text": [
      "Average Precision increased (0.000000 --> 0.091115). Saving model...\n",
      "EarlyStopping counter: 1 out of 5\n",
      "EarlyStopping counter: 2 out of 5\n",
      "EarlyStopping counter: 3 out of 5\n",
      "EarlyStopping counter: 4 out of 5\n",
      "Average Precision increased (0.091115 --> 0.091144). Saving model...\n",
      "EarlyStopping counter: 1 out of 5\n",
      "EarlyStopping counter: 2 out of 5\n",
      "Average Precision increased (0.091144 --> 0.091428). Saving model...\n",
      "EarlyStopping counter: 1 out of 5\n",
      "EarlyStopping counter: 2 out of 5\n",
      "EarlyStopping counter: 3 out of 5\n",
      "Average Precision increased (0.091428 --> 0.091449). Saving model...\n",
      "EarlyStopping counter: 1 out of 5\n",
      "EarlyStopping counter: 2 out of 5\n"
     ]
    },
    {
     "name": "stderr",
     "output_type": "stream",
     "text": [
      " 71%|███████▏  | 10/14 [11:56:30<4:46:36, 4299.06s/it]\n"
     ]
    },
    {
     "ename": "KeyboardInterrupt",
     "evalue": "",
     "output_type": "error",
     "traceback": [
      "\u001b[0;31m---------------------------------------------------------------------------\u001b[0m",
      "\u001b[0;31mKeyboardInterrupt\u001b[0m                         Traceback (most recent call last)",
      "Cell \u001b[0;32mIn[83], line 32\u001b[0m\n\u001b[1;32m     30\u001b[0m \u001b[38;5;66;03m# We fine tune the network\u001b[39;00m\n\u001b[1;32m     31\u001b[0m net \u001b[38;5;241m=\u001b[39m PrunedFusedTinyYoloV2(num_classes\u001b[38;5;241m=\u001b[39m\u001b[38;5;241m1\u001b[39m)\n\u001b[0;32m---> 32\u001b[0m _, ap_ft, sd \u001b[38;5;241m=\u001b[39m \u001b[43mfine_tune\u001b[49m\u001b[43m(\u001b[49m\u001b[43mnet\u001b[49m\u001b[43m,\u001b[49m\u001b[43m \u001b[49m\u001b[43msd\u001b[49m\u001b[43m,\u001b[49m\u001b[43m \u001b[49m\u001b[43mtrain_loader\u001b[49m\u001b[43m,\u001b[49m\u001b[43m \u001b[49m\u001b[43mvalidation_loader\u001b[49m\u001b[43m,\u001b[49m\u001b[43m \u001b[49m\u001b[43mtest_loader\u001b[49m\u001b[43m)\u001b[49m\n\u001b[1;32m     33\u001b[0m ap_fine_tuned\u001b[38;5;241m.\u001b[39mappend(ap_ft)\n\u001b[1;32m     34\u001b[0m macs\u001b[38;5;241m.\u001b[39mappend(net_macs(PrunedFusedTinyYoloV2, sd))\n",
      "Cell \u001b[0;32mIn[19], line 39\u001b[0m, in \u001b[0;36mfine_tune\u001b[0;34m(net, sd, data_loader, validation_loader, test_loader)\u001b[0m\n\u001b[1;32m     32\u001b[0m     early_stopping \u001b[38;5;241m=\u001b[39m EarlyStopping(patience\u001b[38;5;241m=\u001b[39m\u001b[38;5;241m5\u001b[39m, verbose\u001b[38;5;241m=\u001b[39m\u001b[38;5;28;01mTrue\u001b[39;00m, path\u001b[38;5;241m=\u001b[39mWEIGHTS_PATH\u001b[38;5;241m+\u001b[39m\u001b[38;5;124m\"\u001b[39m\u001b[38;5;124mcheckpoint.pt\u001b[39m\u001b[38;5;124m\"\u001b[39m, best_model_path\u001b[38;5;241m=\u001b[39mWEIGHTS_PATH\u001b[38;5;241m+\u001b[39m\u001b[38;5;124m\"\u001b[39m\u001b[38;5;124mvoc_fine_tuned.pt\u001b[39m\u001b[38;5;124m\"\u001b[39m)\n\u001b[1;32m     34\u001b[0m \u001b[38;5;28;01mfor\u001b[39;00m epoch \u001b[38;5;129;01min\u001b[39;00m \u001b[38;5;28mrange\u001b[39m(NUM_EPOCHS):\n\u001b[1;32m     35\u001b[0m     \u001b[38;5;66;03m# print(\"****************************************************************************************************************************\")\u001b[39;00m\n\u001b[1;32m     36\u001b[0m     \u001b[38;5;66;03m# print(f\"Epoch: {epoch+1}/{NUM_EPOCHS}\")\u001b[39;00m\n\u001b[1;32m     37\u001b[0m \n\u001b[1;32m     38\u001b[0m     \u001b[38;5;66;03m# Train the network\u001b[39;00m\n\u001b[0;32m---> 39\u001b[0m     average_loss \u001b[38;5;241m=\u001b[39m \u001b[43mtrain\u001b[49m\u001b[43m(\u001b[49m\u001b[43mnet\u001b[49m\u001b[43m,\u001b[49m\u001b[43m \u001b[49m\u001b[43mdata_loader\u001b[49m\u001b[43m,\u001b[49m\u001b[43m \u001b[49m\u001b[43moptimizer\u001b[49m\u001b[43m,\u001b[49m\u001b[43m \u001b[49m\u001b[43mcriterion\u001b[49m\u001b[43m,\u001b[49m\u001b[43m \u001b[49m\u001b[43mtorch_device\u001b[49m\u001b[43m)\u001b[49m\n\u001b[1;32m     40\u001b[0m     epoch_loss_list\u001b[38;5;241m.\u001b[39mappend(average_loss)\n\u001b[1;32m     42\u001b[0m     \u001b[38;5;66;03m# Validate the network\u001b[39;00m\n",
      "Cell \u001b[0;32mIn[15], line 20\u001b[0m, in \u001b[0;36mtrain\u001b[0;34m(net, data_loader, optimizer, criterion, device)\u001b[0m\n\u001b[1;32m     17\u001b[0m \u001b[38;5;66;03m# Move weights to device\u001b[39;00m\n\u001b[1;32m     18\u001b[0m net\u001b[38;5;241m.\u001b[39mto(device)\n\u001b[0;32m---> 20\u001b[0m \u001b[43m\u001b[49m\u001b[38;5;28;43;01mfor\u001b[39;49;00m\u001b[43m \u001b[49m\u001b[43midx\u001b[49m\u001b[43m,\u001b[49m\u001b[43m \u001b[49m\u001b[43m(\u001b[49m\u001b[38;5;28;43minput\u001b[39;49m\u001b[43m,\u001b[49m\u001b[43m \u001b[49m\u001b[43mtarget\u001b[49m\u001b[43m)\u001b[49m\u001b[43m \u001b[49m\u001b[38;5;129;43;01min\u001b[39;49;00m\u001b[43m \u001b[49m\u001b[38;5;28;43menumerate\u001b[39;49m\u001b[43m(\u001b[49m\u001b[43mdata_loader\u001b[49m\u001b[43m)\u001b[49m\u001b[43m:\u001b[49m\n\u001b[1;32m     21\u001b[0m \u001b[43m    \u001b[49m\u001b[38;5;66;43;03m# Move Inputs and targets to Device\u001b[39;49;00m\n\u001b[1;32m     22\u001b[0m \u001b[43m    \u001b[49m\u001b[38;5;28;43minput\u001b[39;49m\u001b[43m  \u001b[49m\u001b[38;5;241;43m=\u001b[39;49m\u001b[43m \u001b[49m\u001b[38;5;28;43minput\u001b[39;49m\u001b[38;5;241;43m.\u001b[39;49m\u001b[43mto\u001b[49m\u001b[43m(\u001b[49m\u001b[43mdevice\u001b[49m\u001b[43m)\u001b[49m\n\u001b[1;32m     23\u001b[0m \u001b[43m    \u001b[49m\u001b[43mtarget\u001b[49m\u001b[43m \u001b[49m\u001b[38;5;241;43m=\u001b[39;49m\u001b[43m \u001b[49m\u001b[43mtarget\u001b[49m\u001b[38;5;241;43m.\u001b[39;49m\u001b[43mto\u001b[49m\u001b[43m(\u001b[49m\u001b[43mdevice\u001b[49m\u001b[43m)\u001b[49m\n",
      "File \u001b[0;32m/opt/conda/lib/python3.11/site-packages/torch/utils/data/dataloader.py:631\u001b[0m, in \u001b[0;36m_BaseDataLoaderIter.__next__\u001b[0;34m(self)\u001b[0m\n\u001b[1;32m    628\u001b[0m \u001b[38;5;28;01mif\u001b[39;00m \u001b[38;5;28mself\u001b[39m\u001b[38;5;241m.\u001b[39m_sampler_iter \u001b[38;5;129;01mis\u001b[39;00m \u001b[38;5;28;01mNone\u001b[39;00m:\n\u001b[1;32m    629\u001b[0m     \u001b[38;5;66;03m# TODO(https://github.com/pytorch/pytorch/issues/76750)\u001b[39;00m\n\u001b[1;32m    630\u001b[0m     \u001b[38;5;28mself\u001b[39m\u001b[38;5;241m.\u001b[39m_reset()  \u001b[38;5;66;03m# type: ignore[call-arg]\u001b[39;00m\n\u001b[0;32m--> 631\u001b[0m data \u001b[38;5;241m=\u001b[39m \u001b[38;5;28;43mself\u001b[39;49m\u001b[38;5;241;43m.\u001b[39;49m\u001b[43m_next_data\u001b[49m\u001b[43m(\u001b[49m\u001b[43m)\u001b[49m\n\u001b[1;32m    632\u001b[0m \u001b[38;5;28mself\u001b[39m\u001b[38;5;241m.\u001b[39m_num_yielded \u001b[38;5;241m+\u001b[39m\u001b[38;5;241m=\u001b[39m \u001b[38;5;241m1\u001b[39m\n\u001b[1;32m    633\u001b[0m \u001b[38;5;28;01mif\u001b[39;00m \u001b[38;5;28mself\u001b[39m\u001b[38;5;241m.\u001b[39m_dataset_kind \u001b[38;5;241m==\u001b[39m _DatasetKind\u001b[38;5;241m.\u001b[39mIterable \u001b[38;5;129;01mand\u001b[39;00m \\\n\u001b[1;32m    634\u001b[0m         \u001b[38;5;28mself\u001b[39m\u001b[38;5;241m.\u001b[39m_IterableDataset_len_called \u001b[38;5;129;01mis\u001b[39;00m \u001b[38;5;129;01mnot\u001b[39;00m \u001b[38;5;28;01mNone\u001b[39;00m \u001b[38;5;129;01mand\u001b[39;00m \\\n\u001b[1;32m    635\u001b[0m         \u001b[38;5;28mself\u001b[39m\u001b[38;5;241m.\u001b[39m_num_yielded \u001b[38;5;241m>\u001b[39m \u001b[38;5;28mself\u001b[39m\u001b[38;5;241m.\u001b[39m_IterableDataset_len_called:\n",
      "File \u001b[0;32m/opt/conda/lib/python3.11/site-packages/torch/utils/data/dataloader.py:675\u001b[0m, in \u001b[0;36m_SingleProcessDataLoaderIter._next_data\u001b[0;34m(self)\u001b[0m\n\u001b[1;32m    673\u001b[0m \u001b[38;5;28;01mdef\u001b[39;00m \u001b[38;5;21m_next_data\u001b[39m(\u001b[38;5;28mself\u001b[39m):\n\u001b[1;32m    674\u001b[0m     index \u001b[38;5;241m=\u001b[39m \u001b[38;5;28mself\u001b[39m\u001b[38;5;241m.\u001b[39m_next_index()  \u001b[38;5;66;03m# may raise StopIteration\u001b[39;00m\n\u001b[0;32m--> 675\u001b[0m     data \u001b[38;5;241m=\u001b[39m \u001b[38;5;28;43mself\u001b[39;49m\u001b[38;5;241;43m.\u001b[39;49m\u001b[43m_dataset_fetcher\u001b[49m\u001b[38;5;241;43m.\u001b[39;49m\u001b[43mfetch\u001b[49m\u001b[43m(\u001b[49m\u001b[43mindex\u001b[49m\u001b[43m)\u001b[49m  \u001b[38;5;66;03m# may raise StopIteration\u001b[39;00m\n\u001b[1;32m    676\u001b[0m     \u001b[38;5;28;01mif\u001b[39;00m \u001b[38;5;28mself\u001b[39m\u001b[38;5;241m.\u001b[39m_pin_memory:\n\u001b[1;32m    677\u001b[0m         data \u001b[38;5;241m=\u001b[39m _utils\u001b[38;5;241m.\u001b[39mpin_memory\u001b[38;5;241m.\u001b[39mpin_memory(data, \u001b[38;5;28mself\u001b[39m\u001b[38;5;241m.\u001b[39m_pin_memory_device)\n",
      "File \u001b[0;32m/opt/conda/lib/python3.11/site-packages/torch/utils/data/_utils/fetch.py:49\u001b[0m, in \u001b[0;36m_MapDatasetFetcher.fetch\u001b[0;34m(self, possibly_batched_index)\u001b[0m\n\u001b[1;32m     47\u001b[0m \u001b[38;5;28;01mif\u001b[39;00m \u001b[38;5;28mself\u001b[39m\u001b[38;5;241m.\u001b[39mauto_collation:\n\u001b[1;32m     48\u001b[0m     \u001b[38;5;28;01mif\u001b[39;00m \u001b[38;5;28mhasattr\u001b[39m(\u001b[38;5;28mself\u001b[39m\u001b[38;5;241m.\u001b[39mdataset, \u001b[38;5;124m\"\u001b[39m\u001b[38;5;124m__getitems__\u001b[39m\u001b[38;5;124m\"\u001b[39m) \u001b[38;5;129;01mand\u001b[39;00m \u001b[38;5;28mself\u001b[39m\u001b[38;5;241m.\u001b[39mdataset\u001b[38;5;241m.\u001b[39m__getitems__:\n\u001b[0;32m---> 49\u001b[0m         data \u001b[38;5;241m=\u001b[39m \u001b[38;5;28;43mself\u001b[39;49m\u001b[38;5;241;43m.\u001b[39;49m\u001b[43mdataset\u001b[49m\u001b[38;5;241;43m.\u001b[39;49m\u001b[43m__getitems__\u001b[49m\u001b[43m(\u001b[49m\u001b[43mpossibly_batched_index\u001b[49m\u001b[43m)\u001b[49m\n\u001b[1;32m     50\u001b[0m     \u001b[38;5;28;01melse\u001b[39;00m:\n\u001b[1;32m     51\u001b[0m         data \u001b[38;5;241m=\u001b[39m [\u001b[38;5;28mself\u001b[39m\u001b[38;5;241m.\u001b[39mdataset[idx] \u001b[38;5;28;01mfor\u001b[39;00m idx \u001b[38;5;129;01min\u001b[39;00m possibly_batched_index]\n",
      "File \u001b[0;32m/opt/conda/lib/python3.11/site-packages/torch/utils/data/dataset.py:399\u001b[0m, in \u001b[0;36mSubset.__getitems__\u001b[0;34m(self, indices)\u001b[0m\n\u001b[1;32m    397\u001b[0m     \u001b[38;5;28;01mreturn\u001b[39;00m \u001b[38;5;28mself\u001b[39m\u001b[38;5;241m.\u001b[39mdataset\u001b[38;5;241m.\u001b[39m__getitems__([\u001b[38;5;28mself\u001b[39m\u001b[38;5;241m.\u001b[39mindices[idx] \u001b[38;5;28;01mfor\u001b[39;00m idx \u001b[38;5;129;01min\u001b[39;00m indices])  \u001b[38;5;66;03m# type: ignore[attr-defined]\u001b[39;00m\n\u001b[1;32m    398\u001b[0m \u001b[38;5;28;01melse\u001b[39;00m:\n\u001b[0;32m--> 399\u001b[0m     \u001b[38;5;28;01mreturn\u001b[39;00m \u001b[43m[\u001b[49m\u001b[38;5;28;43mself\u001b[39;49m\u001b[38;5;241;43m.\u001b[39;49m\u001b[43mdataset\u001b[49m\u001b[43m[\u001b[49m\u001b[38;5;28;43mself\u001b[39;49m\u001b[38;5;241;43m.\u001b[39;49m\u001b[43mindices\u001b[49m\u001b[43m[\u001b[49m\u001b[43midx\u001b[49m\u001b[43m]\u001b[49m\u001b[43m]\u001b[49m\u001b[43m \u001b[49m\u001b[38;5;28;43;01mfor\u001b[39;49;00m\u001b[43m \u001b[49m\u001b[43midx\u001b[49m\u001b[43m \u001b[49m\u001b[38;5;129;43;01min\u001b[39;49;00m\u001b[43m \u001b[49m\u001b[43mindices\u001b[49m\u001b[43m]\u001b[49m\n",
      "File \u001b[0;32m/opt/conda/lib/python3.11/site-packages/torch/utils/data/dataset.py:399\u001b[0m, in \u001b[0;36m<listcomp>\u001b[0;34m(.0)\u001b[0m\n\u001b[1;32m    397\u001b[0m     \u001b[38;5;28;01mreturn\u001b[39;00m \u001b[38;5;28mself\u001b[39m\u001b[38;5;241m.\u001b[39mdataset\u001b[38;5;241m.\u001b[39m__getitems__([\u001b[38;5;28mself\u001b[39m\u001b[38;5;241m.\u001b[39mindices[idx] \u001b[38;5;28;01mfor\u001b[39;00m idx \u001b[38;5;129;01min\u001b[39;00m indices])  \u001b[38;5;66;03m# type: ignore[attr-defined]\u001b[39;00m\n\u001b[1;32m    398\u001b[0m \u001b[38;5;28;01melse\u001b[39;00m:\n\u001b[0;32m--> 399\u001b[0m     \u001b[38;5;28;01mreturn\u001b[39;00m [\u001b[38;5;28;43mself\u001b[39;49m\u001b[38;5;241;43m.\u001b[39;49m\u001b[43mdataset\u001b[49m\u001b[43m[\u001b[49m\u001b[38;5;28;43mself\u001b[39;49m\u001b[38;5;241;43m.\u001b[39;49m\u001b[43mindices\u001b[49m\u001b[43m[\u001b[49m\u001b[43midx\u001b[49m\u001b[43m]\u001b[49m\u001b[43m]\u001b[49m \u001b[38;5;28;01mfor\u001b[39;00m idx \u001b[38;5;129;01min\u001b[39;00m indices]\n",
      "File \u001b[0;32m~/EML_OWN/lab4/utils/dataloader_v2.py:97\u001b[0m, in \u001b[0;36mVOCDataset.__getitem__\u001b[0;34m(self, idx)\u001b[0m\n\u001b[1;32m     94\u001b[0m target \u001b[38;5;241m=\u001b[39m target[\u001b[38;5;124m'\u001b[39m\u001b[38;5;124mannotation\u001b[39m\u001b[38;5;124m'\u001b[39m][\u001b[38;5;124m'\u001b[39m\u001b[38;5;124mobject\u001b[39m\u001b[38;5;124m'\u001b[39m]\n\u001b[1;32m     96\u001b[0m image \u001b[38;5;241m=\u001b[39m F\u001b[38;5;241m.\u001b[39mto_image(image)\n\u001b[0;32m---> 97\u001b[0m image \u001b[38;5;241m=\u001b[39m \u001b[43mF\u001b[49m\u001b[38;5;241;43m.\u001b[39;49m\u001b[43mto_dtype\u001b[49m\u001b[43m(\u001b[49m\u001b[43mimage\u001b[49m\u001b[43m,\u001b[49m\u001b[43m \u001b[49m\u001b[43mtorch\u001b[49m\u001b[38;5;241;43m.\u001b[39;49m\u001b[43mfloat32\u001b[49m\u001b[43m,\u001b[49m\u001b[43m \u001b[49m\u001b[43mscale\u001b[49m\u001b[38;5;241;43m=\u001b[39;49m\u001b[38;5;28;43;01mTrue\u001b[39;49;00m\u001b[43m)\u001b[49m\n\u001b[1;32m     99\u001b[0m bboxes \u001b[38;5;241m=\u001b[39m []\n\u001b[1;32m    100\u001b[0m names \u001b[38;5;241m=\u001b[39m []\n",
      "File \u001b[0;32m/opt/conda/lib/python3.11/site-packages/torchvision/transforms/v2/functional/_misc.py:190\u001b[0m, in \u001b[0;36mto_dtype\u001b[0;34m(inpt, dtype, scale)\u001b[0m\n\u001b[1;32m    187\u001b[0m _log_api_usage_once(to_dtype)\n\u001b[1;32m    189\u001b[0m kernel \u001b[38;5;241m=\u001b[39m _get_kernel(to_dtype, \u001b[38;5;28mtype\u001b[39m(inpt))\n\u001b[0;32m--> 190\u001b[0m \u001b[38;5;28;01mreturn\u001b[39;00m \u001b[43mkernel\u001b[49m\u001b[43m(\u001b[49m\u001b[43minpt\u001b[49m\u001b[43m,\u001b[49m\u001b[43m \u001b[49m\u001b[43mdtype\u001b[49m\u001b[38;5;241;43m=\u001b[39;49m\u001b[43mdtype\u001b[49m\u001b[43m,\u001b[49m\u001b[43m \u001b[49m\u001b[43mscale\u001b[49m\u001b[38;5;241;43m=\u001b[39;49m\u001b[43mscale\u001b[49m\u001b[43m)\u001b[49m\n",
      "File \u001b[0;32m/opt/conda/lib/python3.11/site-packages/torchvision/transforms/v2/functional/_utils.py:31\u001b[0m, in \u001b[0;36m_kernel_tv_tensor_wrapper.<locals>.wrapper\u001b[0;34m(inpt, *args, **kwargs)\u001b[0m\n\u001b[1;32m     20\u001b[0m \u001b[38;5;129m@functools\u001b[39m\u001b[38;5;241m.\u001b[39mwraps(kernel)\n\u001b[1;32m     21\u001b[0m \u001b[38;5;28;01mdef\u001b[39;00m \u001b[38;5;21mwrapper\u001b[39m(inpt, \u001b[38;5;241m*\u001b[39margs, \u001b[38;5;241m*\u001b[39m\u001b[38;5;241m*\u001b[39mkwargs):\n\u001b[1;32m     22\u001b[0m     \u001b[38;5;66;03m# If you're wondering whether we could / should get rid of this wrapper,\u001b[39;00m\n\u001b[0;32m   (...)\u001b[0m\n\u001b[1;32m     29\u001b[0m     \u001b[38;5;66;03m# lost after the first operation due to our own __torch_function__\u001b[39;00m\n\u001b[1;32m     30\u001b[0m     \u001b[38;5;66;03m# logic.\u001b[39;00m\n\u001b[0;32m---> 31\u001b[0m     output \u001b[38;5;241m=\u001b[39m \u001b[43mkernel\u001b[49m\u001b[43m(\u001b[49m\u001b[43minpt\u001b[49m\u001b[38;5;241;43m.\u001b[39;49m\u001b[43mas_subclass\u001b[49m\u001b[43m(\u001b[49m\u001b[43mtorch\u001b[49m\u001b[38;5;241;43m.\u001b[39;49m\u001b[43mTensor\u001b[49m\u001b[43m)\u001b[49m\u001b[43m,\u001b[49m\u001b[43m \u001b[49m\u001b[38;5;241;43m*\u001b[39;49m\u001b[43margs\u001b[49m\u001b[43m,\u001b[49m\u001b[43m \u001b[49m\u001b[38;5;241;43m*\u001b[39;49m\u001b[38;5;241;43m*\u001b[39;49m\u001b[43mkwargs\u001b[49m\u001b[43m)\u001b[49m\n\u001b[1;32m     32\u001b[0m     \u001b[38;5;28;01mreturn\u001b[39;00m tv_tensors\u001b[38;5;241m.\u001b[39mwrap(output, like\u001b[38;5;241m=\u001b[39minpt)\n",
      "File \u001b[0;32m/opt/conda/lib/python3.11/site-packages/torchvision/transforms/v2/functional/_misc.py:250\u001b[0m, in \u001b[0;36mto_dtype_image\u001b[0;34m(image, dtype, scale)\u001b[0m\n\u001b[1;32m    247\u001b[0m \u001b[38;5;28;01melse\u001b[39;00m:\n\u001b[1;32m    248\u001b[0m     \u001b[38;5;66;03m# int to float\u001b[39;00m\n\u001b[1;32m    249\u001b[0m     \u001b[38;5;28;01mif\u001b[39;00m float_output:\n\u001b[0;32m--> 250\u001b[0m         \u001b[38;5;28;01mreturn\u001b[39;00m \u001b[43mimage\u001b[49m\u001b[38;5;241;43m.\u001b[39;49m\u001b[43mto\u001b[49m\u001b[43m(\u001b[49m\u001b[43mdtype\u001b[49m\u001b[43m)\u001b[49m\u001b[38;5;241;43m.\u001b[39;49m\u001b[43mmul_\u001b[49m\u001b[43m(\u001b[49m\u001b[38;5;241;43m1.0\u001b[39;49m\u001b[43m \u001b[49m\u001b[38;5;241;43m/\u001b[39;49m\u001b[43m \u001b[49m\u001b[43m_max_value\u001b[49m\u001b[43m(\u001b[49m\u001b[43mimage\u001b[49m\u001b[38;5;241;43m.\u001b[39;49m\u001b[43mdtype\u001b[49m\u001b[43m)\u001b[49m\u001b[43m)\u001b[49m\n\u001b[1;32m    252\u001b[0m     \u001b[38;5;66;03m# int to int\u001b[39;00m\n\u001b[1;32m    253\u001b[0m     num_value_bits_input \u001b[38;5;241m=\u001b[39m _num_value_bits(image\u001b[38;5;241m.\u001b[39mdtype)\n",
      "\u001b[0;31mKeyboardInterrupt\u001b[0m: "
     ]
    }
   ],
   "source": [
    "ratios = [0.0] + [0.05 for _ in range(13)]\n",
    "\n",
    "torch_device = torch.device(\"cuda\")\n",
    "# sd = torch.load('./weights/fused_voc_fine_tuned.pt', map_location=torch_device)\n",
    "# ap_from_scratch, ap_fine_tuned, macs = [], [], []\n",
    "\n",
    "# # from scratch\n",
    "# for ratio in tqdm.tqdm(ratios):\n",
    "#     # Setting Filters to zero\n",
    "#     sd = l1_structured_fused_pruning(sd, ratio)\n",
    "    \n",
    "#     # Densifying the state dict\n",
    "#     sd = densify_fused_state_dict(copy.deepcopy(sd))\n",
    "    \n",
    "#     # AP calculation\n",
    "#     net = PrunedFusedTinyYoloV2(num_classes=1)\n",
    "#     ap_from_scratch.append(test_scratch(net, sd, test_loader, torch_device))\n",
    "\n",
    "# Retrain pruned layers\n",
    "ap_fine_tuned, macs = [], []\n",
    "sd = torch.load('./weights/fused_voc_fine_tuned.pt', map_location=torch_device)\n",
    "prev = 0\n",
    "for ratio in tqdm.tqdm(ratios):\n",
    "    # Setting Filters to zero\n",
    "    sd = l1_structured_fused_pruning(sd, ratio)\n",
    "    \n",
    "    # Densifying the state dict\n",
    "    sd = densify_fused_state_dict(copy.deepcopy(sd))\n",
    "    \n",
    "    # We fine tune the network\n",
    "    net = PrunedFusedTinyYoloV2(num_classes=1)\n",
    "    _, ap_ft, sd = fine_tune(net, sd, train_loader, validation_loader, test_loader)\n",
    "    ap_fine_tuned.append(ap_ft)\n",
    "    macs.append(net_macs(PrunedFusedTinyYoloV2, sd))\n",
    "\n",
    "    # Save fine tuned densed network\n",
    "    torch.save(sd, f\"./weights/fused_voc_fine_tuned_pruned{round(prev+ratio, 3)}.pt\")\n",
    "    prev=prev+ratio\n",
    "    \n",
    "plot([(macs, ap_from_scratch, 'ap_scratch'),\n",
    "      (macs, ap_fine_tuned, 'ap_fine_tuned')],\n",
    "      xlabel='MACs [relative to max]', save_path='ap_macs_fused.png')"
   ]
  },
  {
   "cell_type": "markdown",
   "id": "afa0c10a-74ed-4e50-bc84-6e4fae890668",
   "metadata": {},
   "source": [
    "# Misc"
   ]
  },
  {
   "cell_type": "code",
   "execution_count": 47,
   "id": "9777804c-4a38-425b-ae84-31424d645997",
   "metadata": {},
   "outputs": [
    {
     "name": "stdout",
     "output_type": "stream",
     "text": [
      "19\n",
      "0.05\n",
      "0.05\n",
      "0.05\n",
      "0.05\n",
      "0.05\n"
     ]
    }
   ],
   "source": [
    "# ratios = [0.0] + [0.025 for _ in range(25)]\n",
    "ratios = [0.0] + [0.05 for _ in range(18)]\n",
    "\n",
    "prev = 0;\n",
    "print(len(ratios))\n",
    "for i, ratio in enumerate(ratios):\n",
    "    if i <= 13:\n",
    "        continue\n",
    "    print(ratio)\n",
    "    # print(round(prev+ratio, 3))\n",
    "    # print(prev+ratio)\n",
    "    # prev=prev+ratio"
   ]
  }
 ],
 "metadata": {
  "kernelspec": {
   "display_name": "Python 3 (ipykernel)",
   "language": "python",
   "name": "python3"
  },
  "language_info": {
   "codemirror_mode": {
    "name": "ipython",
    "version": 3
   },
   "file_extension": ".py",
   "mimetype": "text/x-python",
   "name": "python",
   "nbconvert_exporter": "python",
   "pygments_lexer": "ipython3",
   "version": "3.11.8"
  }
 },
 "nbformat": 4,
 "nbformat_minor": 5
}
