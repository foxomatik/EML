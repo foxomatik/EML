{
 "cells": [
  {
   "cell_type": "markdown",
   "id": "1f7e391c-be0f-47d6-ab83-d3c7621bf774",
   "metadata": {},
   "source": [
    "# Embedded ML Lab - Excercise 4 - Pruning\n",
    "\n",
    "Focus on structured pruning to save computation time. We will do this in three steps. \n",
    "* We will use a builtin-function, similar to previous l1 pruning, to sets whole output channels to zero + delete.  \n",
    "\n",
    "* We will implement a function, similar to previous l1 pruning, to sets whole output channels to zero.  \n",
    "\n",
    "* We will delete the zeroed-out channels and densify the network again to have a reduction in computation time.\n",
    "\n",
    "* We will retrain the network to gain accuracy again.  "
   ]
  },
  {
   "cell_type": "code",
   "execution_count": 1,
   "id": "c20683ad-e745-4079-aad8-96e618dd7cbe",
   "metadata": {},
   "outputs": [
    {
     "name": "stdout",
     "output_type": "stream",
     "text": [
      "Looking in indexes: https://pypi.org/simple, https://pypi.ngc.nvidia.com\n",
      "Requirement already satisfied: torchinfo in /opt/conda/lib/python3.11/site-packages (1.8.0)\n"
     ]
    }
   ],
   "source": [
    "!pip install torchinfo"
   ]
  },
  {
   "cell_type": "code",
   "execution_count": 2,
   "id": "b9cb9f0f-f0e8-4025-9a06-106eada74c12",
   "metadata": {
    "editable": true,
    "slideshow": {
     "slide_type": ""
    },
    "tags": []
   },
   "outputs": [],
   "source": [
    "import torch\n",
    "from torch import nn\n",
    "import torch.nn.utils.prune as prune\n",
    "import torch.nn.functional as F\n",
    "import torch.nn.utils.prune as prune\n",
    "\n",
    "# A subset of VOCDataLoader just for one class (person) (0)\n",
    "from utils.dataloader import VOCDataLoaderPerson\n",
    "\n",
    "from tinyyolov2 import TinyYoloV2\n",
    "from tinyyolov2_fused import FusedTinyYoloV2\n",
    "import tqdm\n",
    "\n",
    "from typing import Dict, List\n",
    "import numpy as np\n",
    "import matplotlib.pyplot as plt\n",
    "import time\n",
    "\n",
    "import tqdm\n",
    "import copy\n",
    "\n",
    "from utils.ap import ap, precision_recall_levels\n",
    "from utils.yolo import nms, filter_boxes\n",
    "\n",
    "train_loader = VOCDataLoaderPerson(train=True, batch_size=128, shuffle=True)\n",
    "test_loader = VOCDataLoaderPerson(train=False, batch_size=1)"
   ]
  },
  {
   "cell_type": "markdown",
   "id": "8e755be6-3f69-4caf-83e9-58ea479c386b",
   "metadata": {
    "editable": true,
    "slideshow": {
     "slide_type": ""
    },
    "tags": []
   },
   "source": [
    "# Utility Functions"
   ]
  },
  {
   "cell_type": "markdown",
   "id": "8aec94e3-6477-46d0-a438-cac0b39cecf4",
   "metadata": {},
   "source": [
    "## Structured Pruning"
   ]
  },
  {
   "cell_type": "code",
   "execution_count": 3,
   "id": "07c35e6e-1aa3-49b2-8f82-11800c45ed83",
   "metadata": {},
   "outputs": [],
   "source": [
    "def structured_pruning_yolo(model, ratio):\n",
    "    for name, module in model.named_modules():\n",
    "        if name == 'conv9':\n",
    "            continue\n",
    "        if isinstance(module, torch.nn.Conv2d):\n",
    "            prune.ln_structured(module, name=\"weight\", amount=ratio, n=1, dim=0)\n",
    "            prune.remove(module, \"weight\")\n",
    "\n",
    "    return model "
   ]
  },
  {
   "cell_type": "code",
   "execution_count": 4,
   "id": "e6e2439a-0acd-41a8-87e9-3adb36168574",
   "metadata": {},
   "outputs": [],
   "source": [
    "def count_pruned_weights(model):\n",
    "    for name, module in model.named_modules():\n",
    "        if isinstance(module, torch.nn.Conv2d):\n",
    "            total_weights = module.weight.nelement()\n",
    "            zero_weights = torch.sum(module.weight == 0).item()\n",
    "            percentage = (zero_weights / total_weights) * 100\n",
    "            \n",
    "            print(f\"{name}: {zero_weights}/{total_weights} weights are 0 ({percentage:.2f}%)\")"
   ]
  },
  {
   "cell_type": "code",
   "execution_count": 5,
   "id": "e5b1c2e7-7532-4285-a784-956475ee31b8",
   "metadata": {},
   "outputs": [],
   "source": [
    "def densify_model(model):\n",
    "    \"\"\"\n",
    "    Entfernt geprunte Filter aus Conv2d-Schichten und passt BatchNorm2d und Eingabekanäle der nachfolgenden Schichten an.\n",
    "    \"\"\"\n",
    "    new_model = copy.deepcopy(model)\n",
    "    conv_layers = []\n",
    "    bn_layers = {}\n",
    "    channel_map = {}\n",
    "\n",
    "    # save all conv and bn layers\n",
    "    for name, module in model.named_children():\n",
    "        if isinstance(module, nn.Conv2d):\n",
    "            conv_layers.append(name)\n",
    "        elif isinstance(module, nn.BatchNorm2d):\n",
    "            corresponding_conv = f\"conv{name[-1]}\"\n",
    "            bn_layers[name] = corresponding_conv\n",
    "\n",
    "    # densify all pruned channels\n",
    "    for name in conv_layers:\n",
    "        module = getattr(new_model, name)\n",
    "        weight = module.weight.detach().clone()\n",
    "        nonzero_filters = torch.any(weight != 0, dim=(1, 2, 3))\n",
    "        new_out_channels = nonzero_filters.sum().item()\n",
    "\n",
    "        if new_out_channels == module.out_channels:\n",
    "            channel_map[name] = new_out_channels\n",
    "            continue\n",
    "\n",
    "        print(f\"Densifying {name}: {module.out_channels} -> {new_out_channels} channels\")\n",
    "\n",
    "        new_conv = nn.Conv2d(\n",
    "            in_channels=module.in_channels,\n",
    "            out_channels=new_out_channels,\n",
    "            kernel_size=module.kernel_size,\n",
    "            stride=module.stride,\n",
    "            padding=module.padding,\n",
    "            bias=(module.bias is not None)\n",
    "        )\n",
    "\n",
    "        new_conv.weight.data = weight[nonzero_filters].clone()\n",
    "        if module.bias is not None:\n",
    "            new_conv.bias.data = module.bias.data[nonzero_filters].clone()\n",
    "\n",
    "        setattr(new_model, name, new_conv) # replace with new conv\n",
    "        channel_map[name] = new_out_channels\n",
    "\n",
    "        # adapt corresponding batchnorm layer\n",
    "        bn_name = f\"bn{name[-1]}\"\n",
    "        if bn_name in bn_layers:\n",
    "            bn_module = getattr(new_model, bn_name)\n",
    "            new_bn = nn.BatchNorm2d(new_out_channels)\n",
    "            new_bn.running_mean = bn_module.running_mean[:new_out_channels].clone()\n",
    "            new_bn.running_var = bn_module.running_var[:new_out_channels].clone()\n",
    "            new_bn.weight.data = bn_module.weight[:new_out_channels].clone()\n",
    "            new_bn.bias.data = bn_module.bias[:new_out_channels].clone()\n",
    "            setattr(new_model, bn_name, new_bn)\n",
    "\n",
    "    # adapt input channels\n",
    "    for idx in range(len(conv_layers) - 1):\n",
    "        curr_conv = conv_layers[idx]\n",
    "        next_conv = conv_layers[idx + 1]\n",
    "\n",
    "        new_in_channels = channel_map.get(curr_conv, getattr(new_model, curr_conv).out_channels)\n",
    "        next_conv_module = getattr(new_model, next_conv)\n",
    "\n",
    "        if next_conv_module.in_channels != new_in_channels:\n",
    "            print(f\"Updating {next_conv} in_channels: {next_conv_module.in_channels} -> {new_in_channels}\")\n",
    "            \n",
    "            # new conv layer with adapted input channels\n",
    "            new_next_conv = nn.Conv2d(\n",
    "                in_channels=new_in_channels,\n",
    "                out_channels=next_conv_module.out_channels,\n",
    "                kernel_size=next_conv_module.kernel_size,\n",
    "                stride=next_conv_module.stride,\n",
    "                padding=next_conv_module.padding,\n",
    "                bias=(next_conv_module.bias is not None)\n",
    "            )\n",
    "\n",
    "            weight = next_conv_module.weight.detach().clone()\n",
    "            new_next_conv.weight.data = weight[:, :new_in_channels, :, :].clone()\n",
    "            if next_conv_module.bias is not None:\n",
    "                new_next_conv.bias.data = next_conv_module.bias.data.clone()\n",
    "\n",
    "            setattr(new_model, next_conv, new_next_conv) # replace with new conv\n",
    "\n",
    "    return new_model\n"
   ]
  },
  {
   "cell_type": "code",
   "execution_count": 6,
   "id": "66ecb7d8-a816-4ffc-ae7d-faaa122bd387",
   "metadata": {},
   "outputs": [],
   "source": [
    "def plot(data, xlabel='Execution time', save_path='plot.png'):\n",
    "   \n",
    "    data = copy.deepcopy(data)\n",
    "    for (x, y, label) in data:\n",
    "        x = np.array(x)/max(x)\n",
    "        plt.plot(x, y, label=label, alpha=0.5)\n",
    "        plt.scatter(x, y, alpha=0.5)\n",
    "        \n",
    "    plt.ylabel('Accuracy')\n",
    "    plt.xlabel(xlabel)\n",
    "    plt.legend()\n",
    "        \n",
    "    plt.savefig(save_path)\n",
    "    plt.show()"
   ]
  },
  {
   "cell_type": "code",
   "execution_count": 7,
   "id": "27d13c65-1376-4c24-90c0-0ca6dd66667a",
   "metadata": {},
   "outputs": [],
   "source": [
    "def net_time(net, test_loader):\n",
    "    net.eval()\n",
    "\n",
    "    t_start = time.time()\n",
    "\n",
    "    for _, (inputs, _) in enumerate(test_loader):\n",
    "        net.forward(inputs)\n",
    "        break\n",
    "\n",
    "    t_end = time.time()\n",
    "    t = t_end - t_start\n",
    "\n",
    "    return t"
   ]
  },
  {
   "cell_type": "markdown",
   "id": "67f9d95e-c006-4723-9073-91604efce7e9",
   "metadata": {},
   "source": [
    "# Finetuned model"
   ]
  },
  {
   "cell_type": "code",
   "execution_count": 8,
   "id": "28c9316f-4639-4c11-a5b1-45d103cd58a0",
   "metadata": {},
   "outputs": [],
   "source": [
    "# device = torch.device(\"cuda\" if torch.cuda.is_available() else \"cpu\")\n",
    "torch_device = torch.device(\"cuda\")\n",
    "sd = torch.load('./weights/voc_fine_tuned.pt', weights_only=True, map_location=torch_device)\n",
    "\n",
    "model = TinyYoloV2(num_classes=1)\n",
    "model.load_state_dict(sd, strict=False)\n",
    "\n",
    "# count_pruned_weights(model)\n",
    "model_sd = model.state_dict()\n",
    "\n",
    "# for layer_key in model_sd:\n",
    "#     print(layer_key)\n",
    "#     print(model_sd[layer_key].shape)\n",
    "#     print(\"\")"
   ]
  },
  {
   "cell_type": "code",
   "execution_count": 9,
   "id": "eac2357b-bb4b-4c26-a6bf-ced77637174b",
   "metadata": {},
   "outputs": [
    {
     "name": "stdout",
     "output_type": "stream",
     "text": [
      "\n",
      "Inference Time before Pruning: 0.273\n"
     ]
    },
    {
     "name": "stderr",
     "output_type": "stream",
     "text": [
      "/opt/conda/lib/python3.11/site-packages/torch/functional.py:507: UserWarning: torch.meshgrid: in an upcoming release, it will be required to pass the indexing argument. (Triggered internally at ../aten/src/ATen/native/TensorShape.cpp:3549.)\n",
      "  return _VF.meshgrid(tensors, **kwargs)  # type: ignore[attr-defined]\n"
     ]
    }
   ],
   "source": [
    "print(f\"\\nInference Time before Pruning: {net_time(model, test_loader):.3}\")"
   ]
  },
  {
   "cell_type": "markdown",
   "id": "a3d26d11-c7b4-42cd-b21e-e8dbf50a34d1",
   "metadata": {},
   "source": [
    "## L1 Pruning (local)"
   ]
  },
  {
   "cell_type": "code",
   "execution_count": 10,
   "id": "a5a9464c-f637-4520-9810-adcdb3a6074a",
   "metadata": {},
   "outputs": [
    {
     "name": "stdout",
     "output_type": "stream",
     "text": [
      "Densifying conv1: 16 -> 11 channels\n",
      "Densifying conv2: 32 -> 22 channels\n",
      "Densifying conv3: 64 -> 45 channels\n",
      "Densifying conv4: 128 -> 90 channels\n",
      "Densifying conv5: 256 -> 179 channels\n",
      "Densifying conv6: 512 -> 358 channels\n",
      "Densifying conv7: 1024 -> 717 channels\n",
      "Densifying conv8: 1024 -> 717 channels\n",
      "Updating conv2 in_channels: 16 -> 11\n",
      "Updating conv3 in_channels: 32 -> 22\n",
      "Updating conv4 in_channels: 64 -> 45\n",
      "Updating conv5 in_channels: 128 -> 90\n",
      "Updating conv6 in_channels: 256 -> 179\n",
      "Updating conv7 in_channels: 512 -> 358\n",
      "Updating conv8 in_channels: 1024 -> 717\n",
      "Updating conv9 in_channels: 1024 -> 717\n"
     ]
    }
   ],
   "source": [
    "model_pruned = structured_pruning_yolo(model, 0.3)\n",
    "# count_pruned_weights(model)\n",
    "\n",
    "model_densed = densify_model(model_pruned)\n",
    "model_densed_sd = model_densed.state_dict()\n",
    "\n",
    "# for layer_key in model_densed_sd:\n",
    "#     print(layer_key)\n",
    "#     print(model_densed_sd[layer_key].shape)\n",
    "#     print(\"\")\n",
    "\n",
    "# print(f\"Original Model Size: {sum(p.numel() for p in model_pruned.parameters())}\")\n",
    "# print(f\"Densified Model Size: {sum(p.numel() for p in model_densed.parameters())}\")"
   ]
  },
  {
   "cell_type": "code",
   "execution_count": 11,
   "id": "ab8e32c6-d3b5-4b23-b5f6-6066e4d73a79",
   "metadata": {},
   "outputs": [
    {
     "name": "stdout",
     "output_type": "stream",
     "text": [
      "\n",
      "Inference Time after Densifying: 0.202\n"
     ]
    }
   ],
   "source": [
    "print(f\"\\nInference Time after Densifying: {net_time(model_densed, test_loader):.3}\")"
   ]
  },
  {
   "cell_type": "code",
   "execution_count": 12,
   "id": "01a68196-073e-4a7d-9eba-ee3d309ef81f",
   "metadata": {
    "editable": true,
    "slideshow": {
     "slide_type": ""
    },
    "tags": []
   },
   "outputs": [
    {
     "name": "stderr",
     "output_type": "stream",
     "text": [
      "100%|██████████| 15/15 [01:10<00:00,  4.67s/it]\n"
     ]
    },
    {
     "data": {
      "image/png": "[encoded data removed]",
      "text/plain": [
       "<Figure size 640x480 with 1 Axes>"
      ]
     },
     "metadata": {},
     "output_type": "display_data"
    }
   ],
   "source": [
    "ratios = np.linspace(0, 0.8, 15)\n",
    "\n",
    "sd = torch.load('./weights/voc_fine_tuned.pt', weights_only=True, map_location=torch_device)\n",
    "accuracy_l1, idxs = [], []\n",
    "for idx, ratio in tqdm.tqdm(enumerate(ratios), total=len(ratios)):\n",
    "    model = TinyYoloV2(num_classes=1)\n",
    "    model.load_state_dict(sd, strict=False)\n",
    "    \n",
    "    structured_pruning_yolo(model, ratio)\n",
    "\n",
    "    test_precision, test_recall = [], []\n",
    "    with torch.no_grad():\n",
    "        for i, (input, target) in enumerate(test_loader):\n",
    "            output = model(input, yolo=True)\n",
    "            \n",
    "            #The right threshold values can be adjusted for the target application\n",
    "            output = filter_boxes(output, 0.0)\n",
    "            output = nms(output, 0.5)\n",
    "            \n",
    "            precision, recall = precision_recall_levels(target[0], output[0])\n",
    "            test_precision.append(precision)\n",
    "            test_recall.append(recall)\n",
    "            if i == 32:\n",
    "                break\n",
    "    \n",
    "    accuracy_l1.append(ap(test_precision, test_recall))\n",
    "    idxs.append(idx)\n",
    "plot([(idxs, accuracy_l1, 'ap_l1')], xlabel='idxs', save_path='ap_l1.png')"
   ]
  },
  {
   "cell_type": "markdown",
   "id": "a50f0cd5-c2b3-49df-83b5-019f027e233e",
   "metadata": {},
   "source": [
    "# Finetuned fused model"
   ]
  },
  {
   "cell_type": "code",
   "execution_count": 13,
   "id": "fd71c33c-9c7a-4572-bc9d-9c2d6e7f142e",
   "metadata": {},
   "outputs": [
    {
     "name": "stdout",
     "output_type": "stream",
     "text": [
      "conv1: 0/432 weights are 0 (0.00%)\n",
      "conv2: 0/4608 weights are 0 (0.00%)\n",
      "conv3: 0/18432 weights are 0 (0.00%)\n",
      "conv4: 0/73728 weights are 0 (0.00%)\n",
      "conv5: 0/294912 weights are 0 (0.00%)\n",
      "conv6: 0/1179648 weights are 0 (0.00%)\n",
      "conv7: 0/4718592 weights are 0 (0.00%)\n",
      "conv8: 0/9437184 weights are 0 (0.00%)\n",
      "conv9: 0/30720 weights are 0 (0.00%)\n"
     ]
    }
   ],
   "source": [
    "sd = torch.load('./weights/fused_voc_fine_tuned.pt', weights_only=True, map_location=torch_device)\n",
    "\n",
    "model_fused = FusedTinyYoloV2(num_classes=1)\n",
    "model_fused.load_state_dict(sd, strict=False)\n",
    "\n",
    "count_pruned_weights(model_fused)\n",
    "\n",
    "model_fused_sd = model.state_dict()"
   ]
  },
  {
   "cell_type": "code",
   "execution_count": 14,
   "id": "6699026f-979f-4563-b756-ae3d0a89e243",
   "metadata": {},
   "outputs": [
    {
     "name": "stdout",
     "output_type": "stream",
     "text": [
      "\n",
      "Inference Time before Pruning: 0.0139\n"
     ]
    }
   ],
   "source": [
    "print(f\"\\nInference Time before Pruning: {net_time(model_fused, test_loader):.3}\")"
   ]
  },
  {
   "cell_type": "markdown",
   "id": "56812c07-4f61-4073-ba7e-7e6dc99e7e81",
   "metadata": {},
   "source": [
    "## L1 Pruning (local)"
   ]
  },
  {
   "cell_type": "code",
   "execution_count": 15,
   "id": "2561bfd3-608e-4a99-a55b-adc5b6713768",
   "metadata": {},
   "outputs": [
    {
     "name": "stdout",
     "output_type": "stream",
     "text": [
      "Densifying conv1: 16 -> 11 channels\n",
      "Densifying conv2: 32 -> 22 channels\n",
      "Densifying conv3: 64 -> 45 channels\n",
      "Densifying conv4: 128 -> 90 channels\n",
      "Densifying conv5: 256 -> 179 channels\n",
      "Densifying conv6: 512 -> 358 channels\n",
      "Densifying conv7: 1024 -> 717 channels\n",
      "Densifying conv8: 1024 -> 717 channels\n",
      "Updating conv2 in_channels: 16 -> 11\n",
      "Updating conv3 in_channels: 32 -> 22\n",
      "Updating conv4 in_channels: 64 -> 45\n",
      "Updating conv5 in_channels: 128 -> 90\n",
      "Updating conv6 in_channels: 256 -> 179\n",
      "Updating conv7 in_channels: 512 -> 358\n",
      "Updating conv8 in_channels: 1024 -> 717\n",
      "Updating conv9 in_channels: 1024 -> 717\n"
     ]
    }
   ],
   "source": [
    "model_fused_pruned = structured_pruning_yolo(model, 0.3)\n",
    "# count_pruned_weights(model)\n",
    "\n",
    "model_fused_densed = densify_model(model_pruned)\n",
    "model_fused_densed_sd = model_densed.state_dict()\n",
    "\n",
    "# for layer_key in model_densed_sd:\n",
    "#     print(layer_key)\n",
    "#     print(model_densed_sd[layer_key].shape)\n",
    "#     print(\"\")\n",
    "\n",
    "# print(f\"Original Model Size: {sum(p.numel() for p in model_pruned.parameters())}\")\n",
    "# print(f\"Densified Model Size: {sum(p.numel() for p in model_densed.parameters())}\")"
   ]
  },
  {
   "cell_type": "code",
   "execution_count": 16,
   "id": "f6fc9fd8-4695-45f2-944a-b9ae7283db7b",
   "metadata": {},
   "outputs": [
    {
     "name": "stdout",
     "output_type": "stream",
     "text": [
      "\n",
      "Inference Time after Densifying: 0.0136\n"
     ]
    }
   ],
   "source": [
    "print(f\"\\nInference Time after Densifying: {net_time(model_fused_densed, test_loader):.3}\")"
   ]
  },
  {
   "cell_type": "code",
   "execution_count": 17,
   "id": "37348ad0-65b9-4679-9a6d-18be9fa39da0",
   "metadata": {},
   "outputs": [
    {
     "name": "stderr",
     "output_type": "stream",
     "text": [
      "100%|██████████| 15/15 [01:07<00:00,  4.52s/it]\n"
     ]
    },
    {
     "data": {
      "image/png": "[encoded data removed]",
      "text/plain": [
       "<Figure size 640x480 with 1 Axes>"
      ]
     },
     "metadata": {},
     "output_type": "display_data"
    }
   ],
   "source": [
    "ratios = np.linspace(0, 0.8, 15)\n",
    "\n",
    "sd = torch.load('./weights/fused_voc_fine_tuned.pt', weights_only=True, map_location=torch_device)\n",
    "accuracy_l1, idxs = [], []\n",
    "for idx, ratio in tqdm.tqdm(enumerate(ratios), total=len(ratios)):\n",
    "    model = TinyYoloV2(num_classes=1)\n",
    "    model.load_state_dict(sd, strict=False)\n",
    "    \n",
    "    structured_pruning_yolo(model, ratio)\n",
    "\n",
    "    test_precision, test_recall = [], []\n",
    "    with torch.no_grad():\n",
    "        for i, (input, target) in enumerate(test_loader):\n",
    "            output = model(input, yolo=True)\n",
    "            \n",
    "            #The right threshold values can be adjusted for the target application\n",
    "            output = filter_boxes(output, 0.0)\n",
    "            output = nms(output, 0.5)\n",
    "            \n",
    "            precision, recall = precision_recall_levels(target[0], output[0])\n",
    "            test_precision.append(precision)\n",
    "            test_recall.append(recall)\n",
    "            if i == 32:\n",
    "                break\n",
    "    \n",
    "    accuracy_l1.append(ap(test_precision, test_recall))\n",
    "    idxs.append(idx)\n",
    "plot([(idxs, accuracy_l1, 'ap_l1')], xlabel='idxs', save_path='ap_l1.png')"
   ]
  }
 ],
 "metadata": {
  "kernelspec": {
   "display_name": "Python 3 (ipykernel)",
   "language": "python",
   "name": "python3"
  },
  "language_info": {
   "codemirror_mode": {
    "name": "ipython",
    "version": 3
   },
   "file_extension": ".py",
   "mimetype": "text/x-python",
   "name": "python",
   "nbconvert_exporter": "python",
   "pygments_lexer": "ipython3",
   "version": "3.11.8"
  }
 },
 "nbformat": 4,
 "nbformat_minor": 5
}
