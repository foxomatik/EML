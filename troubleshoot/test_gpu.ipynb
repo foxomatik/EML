{
 "cells": [
  {
   "cell_type": "code",
   "execution_count": null,
   "id": "20528975-2b89-4e2c-ac8a-8a3544e96d77",
   "metadata": {},
   "outputs": [],
   "source": [
    "import torch\n",
    "\n",
    "print(f'torch version:         {torch.__version__}')\n",
    "print(f'CUDA available:        {[\"no\", \"yes\"][torch.cuda.is_available()]}')\n",
    "print(f'quantization backends: {torch.backends.quantized.supported_engines}')"
   ]
  },
  {
   "cell_type": "raw",
   "id": "df2723c9-5b7a-4abb-8284-eb47e5cfd727",
   "metadata": {},
   "source": [
    "expected output:\n",
    "\n",
    "torch version:         1.7.0\n",
    "CUDA available:        yes\n",
    "quantization backends: ['none']"
   ]
  }
 ],
 "metadata": {
  "kernelspec": {
   "display_name": "Python 3",
   "language": "python",
   "name": "python3"
  },
  "language_info": {
   "codemirror_mode": {
    "name": "ipython",
    "version": 3
   },
   "file_extension": ".py",
   "mimetype": "text/x-python",
   "name": "python",
   "nbconvert_exporter": "python",
   "pygments_lexer": "ipython3",
   "version": "3.6.9"
  }
 },
 "nbformat": 4,
 "nbformat_minor": 5
}
